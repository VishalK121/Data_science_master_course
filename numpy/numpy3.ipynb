{
 "cells": [
  {
   "cell_type": "code",
   "execution_count": 2,
   "id": "11897637-8bd7-49eb-b465-0384035e66db",
   "metadata": {},
   "outputs": [],
   "source": [
    "import numpy as np"
   ]
  },
  {
   "cell_type": "code",
   "execution_count": 3,
   "id": "844e8893-482b-4323-80ea-22f1358a8d9e",
   "metadata": {},
   "outputs": [],
   "source": [
    "#array manipulation"
   ]
  },
  {
   "cell_type": "code",
   "execution_count": 4,
   "id": "5b04df98-fc17-44e6-af4b-48e2d398d212",
   "metadata": {},
   "outputs": [],
   "source": [
    "arr=np.random.randint(1,10,(4,4))"
   ]
  },
  {
   "cell_type": "code",
   "execution_count": 5,
   "id": "ecc51cf3-135b-497a-b5e8-d428e4bf6587",
   "metadata": {},
   "outputs": [
    {
     "data": {
      "text/plain": [
       "array([[5, 9, 1, 6],\n",
       "       [4, 3, 8, 3],\n",
       "       [2, 2, 3, 2],\n",
       "       [5, 1, 4, 5]])"
      ]
     },
     "execution_count": 5,
     "metadata": {},
     "output_type": "execute_result"
    }
   ],
   "source": [
    "arr"
   ]
  },
  {
   "cell_type": "code",
   "execution_count": 6,
   "id": "5378325f-c085-4c30-be68-3912cc7fd4ab",
   "metadata": {},
   "outputs": [
    {
     "data": {
      "text/plain": [
       "array([[5, 9],\n",
       "       [1, 6],\n",
       "       [4, 3],\n",
       "       [8, 3],\n",
       "       [2, 2],\n",
       "       [3, 2],\n",
       "       [5, 1],\n",
       "       [4, 5]])"
      ]
     },
     "execution_count": 6,
     "metadata": {},
     "output_type": "execute_result"
    }
   ],
   "source": [
    "arr.reshape(8,2)"
   ]
  },
  {
   "cell_type": "code",
   "execution_count": 7,
   "id": "1039e4ba-0173-4fb6-9f3d-7f1a2b247e4e",
   "metadata": {},
   "outputs": [
    {
     "data": {
      "text/plain": [
       "array([[5, 4, 2, 5],\n",
       "       [9, 3, 2, 1],\n",
       "       [1, 8, 3, 4],\n",
       "       [6, 3, 2, 5]])"
      ]
     },
     "execution_count": 7,
     "metadata": {},
     "output_type": "execute_result"
    }
   ],
   "source": [
    "arr.T"
   ]
  },
  {
   "cell_type": "code",
   "execution_count": 8,
   "id": "7159b4ee-fa67-4676-8132-314a86d09bf1",
   "metadata": {},
   "outputs": [
    {
     "data": {
      "text/plain": [
       "array([5, 9, 1, 6, 4, 3, 8, 3, 2, 2, 3, 2, 5, 1, 4, 5])"
      ]
     },
     "execution_count": 8,
     "metadata": {},
     "output_type": "execute_result"
    }
   ],
   "source": [
    "arr.flatten()"
   ]
  },
  {
   "cell_type": "code",
   "execution_count": 9,
   "id": "13633fe0-2af0-4efb-94c0-e58bb4d336ba",
   "metadata": {},
   "outputs": [
    {
     "data": {
      "text/plain": [
       "array([[[5, 9, 1, 6],\n",
       "        [4, 3, 8, 3],\n",
       "        [2, 2, 3, 2],\n",
       "        [5, 1, 4, 5]]])"
      ]
     },
     "execution_count": 9,
     "metadata": {},
     "output_type": "execute_result"
    }
   ],
   "source": [
    "np.expand_dims(arr,axis=0)"
   ]
  },
  {
   "cell_type": "code",
   "execution_count": 10,
   "id": "9e298de5-2d86-40c8-ad23-971288f7b0c1",
   "metadata": {},
   "outputs": [
    {
     "data": {
      "text/plain": [
       "array([[5, 9, 1, 6],\n",
       "       [4, 3, 8, 3],\n",
       "       [2, 2, 3, 2],\n",
       "       [5, 1, 4, 5]])"
      ]
     },
     "execution_count": 10,
     "metadata": {},
     "output_type": "execute_result"
    }
   ],
   "source": [
    "arr"
   ]
  },
  {
   "cell_type": "code",
   "execution_count": 11,
   "id": "e9b0d3ec-b0be-4ec5-8bff-c044c99d0bdc",
   "metadata": {},
   "outputs": [
    {
     "data": {
      "text/plain": [
       "array([[[5, 9, 1, 6]],\n",
       "\n",
       "       [[4, 3, 8, 3]],\n",
       "\n",
       "       [[2, 2, 3, 2]],\n",
       "\n",
       "       [[5, 1, 4, 5]]])"
      ]
     },
     "execution_count": 11,
     "metadata": {},
     "output_type": "execute_result"
    }
   ],
   "source": [
    "np.expand_dims(arr,axis=1)"
   ]
  },
  {
   "cell_type": "code",
   "execution_count": 12,
   "id": "9395d6c6-3758-4e52-9534-05b0d7399253",
   "metadata": {},
   "outputs": [],
   "source": [
    "data=([[1],[2],[3]])"
   ]
  },
  {
   "cell_type": "code",
   "execution_count": 13,
   "id": "281fe66b-88c5-4f80-a0c9-67e2098d239d",
   "metadata": {},
   "outputs": [
    {
     "data": {
      "text/plain": [
       "array([1, 2, 3])"
      ]
     },
     "execution_count": 13,
     "metadata": {},
     "output_type": "execute_result"
    }
   ],
   "source": [
    "np.squeeze(data)"
   ]
  },
  {
   "cell_type": "code",
   "execution_count": 14,
   "id": "6e65acf3-cf37-489c-b4f6-7c40e058613b",
   "metadata": {},
   "outputs": [
    {
     "data": {
      "text/plain": [
       "array([1, 1, 1, 2, 2, 2, 3, 3, 3])"
      ]
     },
     "execution_count": 14,
     "metadata": {},
     "output_type": "execute_result"
    }
   ],
   "source": [
    "np.repeat(data,3)"
   ]
  },
  {
   "cell_type": "code",
   "execution_count": 15,
   "id": "15dc55b3-1d08-4874-bcf8-a2f6eacdf3e7",
   "metadata": {},
   "outputs": [
    {
     "data": {
      "text/plain": [
       "array([1, 1, 1])"
      ]
     },
     "execution_count": 15,
     "metadata": {},
     "output_type": "execute_result"
    }
   ],
   "source": [
    "np.repeat(data[0],3)"
   ]
  },
  {
   "cell_type": "code",
   "execution_count": 16,
   "id": "d79a903c-0c16-4c2f-b9ac-3453082836f7",
   "metadata": {},
   "outputs": [
    {
     "data": {
      "text/plain": [
       "array([[2],\n",
       "       [3],\n",
       "       [1]])"
      ]
     },
     "execution_count": 16,
     "metadata": {},
     "output_type": "execute_result"
    }
   ],
   "source": [
    "np.roll(data,2) #rotate"
   ]
  },
  {
   "cell_type": "code",
   "execution_count": 17,
   "id": "38fb81a7-c301-447d-8fee-220bab061804",
   "metadata": {},
   "outputs": [
    {
     "data": {
      "text/plain": [
       "array([[1, 0, 0, 0],\n",
       "       [0, 2, 0, 0],\n",
       "       [0, 0, 3, 0],\n",
       "       [0, 0, 0, 4]])"
      ]
     },
     "execution_count": 17,
     "metadata": {},
     "output_type": "execute_result"
    }
   ],
   "source": [
    "np.diag(np.array([1,2,3,4]))"
   ]
  },
  {
   "cell_type": "code",
   "execution_count": 18,
   "id": "61405c5a-0166-4e6f-8d8d-8eb9cf92bcc3",
   "metadata": {},
   "outputs": [],
   "source": [
    "#Numpy Binary operator"
   ]
  },
  {
   "cell_type": "code",
   "execution_count": 19,
   "id": "62528e12-a6eb-4b56-820e-226dd79a955e",
   "metadata": {},
   "outputs": [],
   "source": [
    "arr1=np.random.randint(1,10,(3,4))\n",
    "arr2=np.random.randint(1,10,(3,4))"
   ]
  },
  {
   "cell_type": "code",
   "execution_count": 20,
   "id": "b7ab2474-5a5d-4b4b-b4d2-47bbfe7103e0",
   "metadata": {},
   "outputs": [
    {
     "data": {
      "text/plain": [
       "array([[1, 5, 7, 7],\n",
       "       [1, 8, 6, 5],\n",
       "       [6, 5, 1, 3]])"
      ]
     },
     "execution_count": 20,
     "metadata": {},
     "output_type": "execute_result"
    }
   ],
   "source": [
    "arr1"
   ]
  },
  {
   "cell_type": "code",
   "execution_count": 21,
   "id": "efac9de3-fd64-464e-afb1-39f7a7f5b90e",
   "metadata": {},
   "outputs": [
    {
     "data": {
      "text/plain": [
       "array([[4, 1, 5, 6],\n",
       "       [9, 5, 2, 4],\n",
       "       [4, 1, 7, 5]])"
      ]
     },
     "execution_count": 21,
     "metadata": {},
     "output_type": "execute_result"
    }
   ],
   "source": [
    "arr2"
   ]
  },
  {
   "cell_type": "code",
   "execution_count": 22,
   "id": "face0e2c-f5db-4a11-92b4-b12e84972ee8",
   "metadata": {},
   "outputs": [
    {
     "data": {
      "text/plain": [
       "array([[ 4,  5, 35, 42],\n",
       "       [ 9, 40, 12, 20],\n",
       "       [24,  5,  7, 15]])"
      ]
     },
     "execution_count": 22,
     "metadata": {},
     "output_type": "execute_result"
    }
   ],
   "source": [
    "arr1*arr2"
   ]
  },
  {
   "cell_type": "code",
   "execution_count": 23,
   "id": "90c73c9a-ecce-4043-b2f2-ce9154dd0ca8",
   "metadata": {},
   "outputs": [
    {
     "data": {
      "text/plain": [
       "array([[False,  True,  True,  True],\n",
       "       [False,  True,  True,  True],\n",
       "       [ True,  True, False, False]])"
      ]
     },
     "execution_count": 23,
     "metadata": {},
     "output_type": "execute_result"
    }
   ],
   "source": [
    "arr1>arr2"
   ]
  },
  {
   "cell_type": "code",
   "execution_count": 24,
   "id": "da60a9ba-5bff-4955-8fad-5cfcd3a7a1b3",
   "metadata": {},
   "outputs": [
    {
     "data": {
      "text/plain": [
       "array([[ 5,  6, 12, 13],\n",
       "       [10, 13,  8,  9],\n",
       "       [10,  6,  8,  8]])"
      ]
     },
     "execution_count": 24,
     "metadata": {},
     "output_type": "execute_result"
    }
   ],
   "source": [
    "arr1+arr2"
   ]
  },
  {
   "cell_type": "code",
   "execution_count": 25,
   "id": "2c3863c5-571d-4e7e-a77f-8b215f523b63",
   "metadata": {},
   "outputs": [],
   "source": [
    "#String operations"
   ]
  },
  {
   "cell_type": "code",
   "execution_count": 26,
   "id": "628d6ee2-0eb6-47bc-b26c-fb7c5b5a2b13",
   "metadata": {},
   "outputs": [],
   "source": [
    "arr=np.array([\"abc\",\"xyz\"])"
   ]
  },
  {
   "cell_type": "code",
   "execution_count": 27,
   "id": "78219cc0-e98a-4d86-9ea8-6946819a1bcf",
   "metadata": {},
   "outputs": [
    {
     "data": {
      "text/plain": [
       "array(['abc', 'xyz'], dtype='<U3')"
      ]
     },
     "execution_count": 27,
     "metadata": {},
     "output_type": "execute_result"
    }
   ],
   "source": [
    "arr"
   ]
  },
  {
   "cell_type": "code",
   "execution_count": 28,
   "id": "55eb681e-da7b-4a55-8609-e45fe2775c1a",
   "metadata": {},
   "outputs": [
    {
     "data": {
      "text/plain": [
       "array(['ABC', 'XYZ'], dtype='<U3')"
      ]
     },
     "execution_count": 28,
     "metadata": {},
     "output_type": "execute_result"
    }
   ],
   "source": [
    "np.char.upper(arr)"
   ]
  },
  {
   "cell_type": "code",
   "execution_count": 29,
   "id": "450ea23d-0808-43e3-a711-d1a4297e083e",
   "metadata": {},
   "outputs": [
    {
     "data": {
      "text/plain": [
       "array(['Abc', 'Xyz'], dtype='<U3')"
      ]
     },
     "execution_count": 29,
     "metadata": {},
     "output_type": "execute_result"
    }
   ],
   "source": [
    "np.char.capitalize(arr)"
   ]
  },
  {
   "cell_type": "code",
   "execution_count": 30,
   "id": "7efc54af-b1e5-40af-a19c-df3c347c5a01",
   "metadata": {},
   "outputs": [],
   "source": [
    "#Numpy - Mathematical Functions"
   ]
  },
  {
   "cell_type": "code",
   "execution_count": 31,
   "id": "604519b6-cdbc-4678-b1fb-fa6559204f0d",
   "metadata": {},
   "outputs": [
    {
     "data": {
      "text/plain": [
       "array([[1, 5, 7, 7],\n",
       "       [1, 8, 6, 5],\n",
       "       [6, 5, 1, 3]])"
      ]
     },
     "execution_count": 31,
     "metadata": {},
     "output_type": "execute_result"
    }
   ],
   "source": [
    "arr1"
   ]
  },
  {
   "cell_type": "code",
   "execution_count": 32,
   "id": "0a451dba-ffb8-432d-88b8-a4fba6c11d4c",
   "metadata": {},
   "outputs": [
    {
     "data": {
      "text/plain": [
       "array([[ 0.54030231,  0.28366219,  0.75390225,  0.75390225],\n",
       "       [ 0.54030231, -0.14550003,  0.96017029,  0.28366219],\n",
       "       [ 0.96017029,  0.28366219,  0.54030231, -0.9899925 ]])"
      ]
     },
     "execution_count": 32,
     "metadata": {},
     "output_type": "execute_result"
    }
   ],
   "source": [
    "np.cos(arr1)"
   ]
  },
  {
   "cell_type": "code",
   "execution_count": 33,
   "id": "b0a406d3-46c5-4419-a3f7-5c80a9c04307",
   "metadata": {},
   "outputs": [
    {
     "data": {
      "text/plain": [
       "array([[0.        , 0.69897   , 0.84509804, 0.84509804],\n",
       "       [0.        , 0.90308999, 0.77815125, 0.69897   ],\n",
       "       [0.77815125, 0.69897   , 0.        , 0.47712125]])"
      ]
     },
     "execution_count": 33,
     "metadata": {},
     "output_type": "execute_result"
    }
   ],
   "source": [
    "np.log10(arr1)"
   ]
  },
  {
   "cell_type": "code",
   "execution_count": 34,
   "id": "8ebc5613-4244-4bd4-a120-49467b4bda3f",
   "metadata": {},
   "outputs": [
    {
     "data": {
      "text/plain": [
       "array([[2.71828183e+00, 1.48413159e+02, 1.09663316e+03, 1.09663316e+03],\n",
       "       [2.71828183e+00, 2.98095799e+03, 4.03428793e+02, 1.48413159e+02],\n",
       "       [4.03428793e+02, 1.48413159e+02, 2.71828183e+00, 2.00855369e+01]])"
      ]
     },
     "execution_count": 34,
     "metadata": {},
     "output_type": "execute_result"
    }
   ],
   "source": [
    "np.exp(arr1)"
   ]
  },
  {
   "cell_type": "code",
   "execution_count": 35,
   "id": "0c6ce505-974a-4c74-9b59-ad906c88d8f4",
   "metadata": {},
   "outputs": [
    {
     "data": {
      "text/plain": [
       "4.583333333333333"
      ]
     },
     "execution_count": 35,
     "metadata": {},
     "output_type": "execute_result"
    }
   ],
   "source": [
    "np.mean(arr1)"
   ]
  },
  {
   "cell_type": "code",
   "execution_count": 37,
   "id": "3562e2a9-2e21-4a62-b74d-28abc0149b1f",
   "metadata": {},
   "outputs": [
    {
     "data": {
      "text/plain": [
       "array([[1, 5, 7, 7],\n",
       "       [1, 8, 6, 5],\n",
       "       [6, 5, 1, 3]])"
      ]
     },
     "execution_count": 37,
     "metadata": {},
     "output_type": "execute_result"
    }
   ],
   "source": [
    "arr1"
   ]
  },
  {
   "cell_type": "code",
   "execution_count": 38,
   "id": "34bf08dd-f4d0-4074-a75c-a244d816be0b",
   "metadata": {},
   "outputs": [
    {
     "data": {
      "text/plain": [
       "55"
      ]
     },
     "execution_count": 38,
     "metadata": {},
     "output_type": "execute_result"
    }
   ],
   "source": [
    "np.sum(arr1)"
   ]
  },
  {
   "cell_type": "code",
   "execution_count": 39,
   "id": "9ed418c9-ca47-4152-9257-c87de5c4beeb",
   "metadata": {},
   "outputs": [
    {
     "data": {
      "text/plain": [
       "5.0"
      ]
     },
     "execution_count": 39,
     "metadata": {},
     "output_type": "execute_result"
    }
   ],
   "source": [
    "np.median(arr1)"
   ]
  },
  {
   "cell_type": "code",
   "execution_count": 41,
   "id": "685d0dfa-6121-4135-ab98-4530c5dbd577",
   "metadata": {},
   "outputs": [
    {
     "data": {
      "text/plain": [
       "2.396467307424734"
      ]
     },
     "execution_count": 41,
     "metadata": {},
     "output_type": "execute_result"
    }
   ],
   "source": [
    "np.std(arr1)"
   ]
  },
  {
   "cell_type": "code",
   "execution_count": 42,
   "id": "e5f29612-bead-499d-9313-1cc346108757",
   "metadata": {},
   "outputs": [
    {
     "data": {
      "text/plain": [
       "1"
      ]
     },
     "execution_count": 42,
     "metadata": {},
     "output_type": "execute_result"
    }
   ],
   "source": [
    "np.min(arr1)"
   ]
  },
  {
   "cell_type": "code",
   "execution_count": 43,
   "id": "233a360f-039e-4e57-bfee-8d2743275bb5",
   "metadata": {},
   "outputs": [
    {
     "data": {
      "text/plain": [
       "array([[1, 5, 7, 7],\n",
       "       [1, 8, 6, 5],\n",
       "       [6, 5, 1, 3]])"
      ]
     },
     "execution_count": 43,
     "metadata": {},
     "output_type": "execute_result"
    }
   ],
   "source": [
    "arr1"
   ]
  },
  {
   "cell_type": "code",
   "execution_count": 44,
   "id": "08e4d7f1-3b73-46b8-954b-a84a676447b1",
   "metadata": {},
   "outputs": [
    {
     "data": {
      "text/plain": [
       "array([[4, 1, 5, 6],\n",
       "       [9, 5, 2, 4],\n",
       "       [4, 1, 7, 5]])"
      ]
     },
     "execution_count": 44,
     "metadata": {},
     "output_type": "execute_result"
    }
   ],
   "source": [
    "arr2"
   ]
  },
  {
   "cell_type": "code",
   "execution_count": 45,
   "id": "7b1f31bc-39ac-4913-a44f-9f1c5a88c6bc",
   "metadata": {},
   "outputs": [],
   "source": [
    "#Arithmetic Operation"
   ]
  },
  {
   "cell_type": "code",
   "execution_count": 46,
   "id": "6c239f5c-bc36-4235-8e05-41903445c32f",
   "metadata": {},
   "outputs": [
    {
     "data": {
      "text/plain": [
       "array([[-3,  4,  2,  1],\n",
       "       [-8,  3,  4,  1],\n",
       "       [ 2,  4, -6, -2]])"
      ]
     },
     "execution_count": 46,
     "metadata": {},
     "output_type": "execute_result"
    }
   ],
   "source": [
    "np.subtract(arr1,arr2)"
   ]
  },
  {
   "cell_type": "code",
   "execution_count": 47,
   "id": "76649798-67e3-441a-94cc-f2b8f48c2c26",
   "metadata": {},
   "outputs": [
    {
     "data": {
      "text/plain": [
       "array([[1, 0, 2, 1],\n",
       "       [1, 3, 0, 1],\n",
       "       [2, 0, 1, 3]])"
      ]
     },
     "execution_count": 47,
     "metadata": {},
     "output_type": "execute_result"
    }
   ],
   "source": [
    "np.mod(arr1,arr2)"
   ]
  },
  {
   "cell_type": "code",
   "execution_count": null,
   "id": "9fd97f5e-707f-4712-99b4-1be58c47109f",
   "metadata": {},
   "outputs": [],
   "source": []
  }
 ],
 "metadata": {
  "kernelspec": {
   "display_name": "Python 3 (ipykernel)",
   "language": "python",
   "name": "python3"
  },
  "language_info": {
   "codemirror_mode": {
    "name": "ipython",
    "version": 3
   },
   "file_extension": ".py",
   "mimetype": "text/x-python",
   "name": "python",
   "nbconvert_exporter": "python",
   "pygments_lexer": "ipython3",
   "version": "3.10.8"
  }
 },
 "nbformat": 4,
 "nbformat_minor": 5
}
