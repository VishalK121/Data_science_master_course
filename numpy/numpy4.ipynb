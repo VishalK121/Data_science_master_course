{
 "cells": [
  {
   "cell_type": "markdown",
   "id": "fdf05289-7b3f-42a7-81b2-db6572c7e279",
   "metadata": {},
   "source": [
    "### Sort, Seraching and Counting functions"
   ]
  },
  {
   "cell_type": "code",
   "execution_count": 2,
   "id": "f86ab08c-3bfd-42c5-b6b8-a9ab853c0465",
   "metadata": {},
   "outputs": [],
   "source": [
    "import numpy as np"
   ]
  },
  {
   "cell_type": "code",
   "execution_count": 3,
   "id": "3634f181-c274-4ba8-b696-2b2565f4a383",
   "metadata": {},
   "outputs": [],
   "source": [
    "arr=np.array([2,1,7,4,3,5])"
   ]
  },
  {
   "cell_type": "code",
   "execution_count": 4,
   "id": "1f6c2393-fdd8-4c83-80eb-0781f1ce3999",
   "metadata": {
    "tags": []
   },
   "outputs": [
    {
     "data": {
      "text/plain": [
       "array([2, 1, 7, 4, 3, 5])"
      ]
     },
     "execution_count": 4,
     "metadata": {},
     "output_type": "execute_result"
    }
   ],
   "source": [
    "arr"
   ]
  },
  {
   "cell_type": "code",
   "execution_count": 5,
   "id": "3cfe34fd-b88c-4936-ac97-20edcb731467",
   "metadata": {},
   "outputs": [
    {
     "data": {
      "text/plain": [
       "array([1, 2, 3, 4, 5, 7])"
      ]
     },
     "execution_count": 5,
     "metadata": {},
     "output_type": "execute_result"
    }
   ],
   "source": [
    "np.sort(arr)"
   ]
  },
  {
   "cell_type": "code",
   "execution_count": 6,
   "id": "20dd41d3-6098-4663-b9b3-ed4621dc3d55",
   "metadata": {},
   "outputs": [
    {
     "data": {
      "text/plain": [
       "6"
      ]
     },
     "execution_count": 6,
     "metadata": {},
     "output_type": "execute_result"
    }
   ],
   "source": [
    "np.searchsorted(arr,6)"
   ]
  },
  {
   "cell_type": "code",
   "execution_count": 7,
   "id": "a2d49d34-fa8c-4537-b3ad-0999150c7b7c",
   "metadata": {},
   "outputs": [],
   "source": [
    "arr1=np.array([0,32,12,53,64,0,2,0,0])"
   ]
  },
  {
   "cell_type": "code",
   "execution_count": 8,
   "id": "8596ea30-7075-4102-9c52-60b559dc4907",
   "metadata": {},
   "outputs": [
    {
     "data": {
      "text/plain": [
       "5"
      ]
     },
     "execution_count": 8,
     "metadata": {},
     "output_type": "execute_result"
    }
   ],
   "source": [
    "np.count_nonzero(arr1)"
   ]
  },
  {
   "cell_type": "code",
   "execution_count": 9,
   "id": "d13071dc-d861-45a8-ab51-eb0b5065c482",
   "metadata": {},
   "outputs": [
    {
     "data": {
      "text/plain": [
       "(array([1, 2, 3, 4, 6]),)"
      ]
     },
     "execution_count": 9,
     "metadata": {},
     "output_type": "execute_result"
    }
   ],
   "source": [
    "np.where(arr1>0)"
   ]
  },
  {
   "cell_type": "code",
   "execution_count": 10,
   "id": "bd75eb13-5136-4fd4-a50e-2440300c6472",
   "metadata": {},
   "outputs": [
    {
     "data": {
      "text/plain": [
       "array([32, 12, 53, 64,  2])"
      ]
     },
     "execution_count": 10,
     "metadata": {},
     "output_type": "execute_result"
    }
   ],
   "source": [
    "np.extract(arr1>0,arr1)"
   ]
  },
  {
   "cell_type": "code",
   "execution_count": 11,
   "id": "a91884f6-639d-4b14-b5f0-b94bf8d9da6a",
   "metadata": {},
   "outputs": [],
   "source": [
    "#Numpy- Byte Swapping"
   ]
  },
  {
   "cell_type": "code",
   "execution_count": 12,
   "id": "db190738-4b6c-4884-be69-671566ab6daa",
   "metadata": {},
   "outputs": [
    {
     "data": {
      "text/plain": [
       "array([ 0, 32, 12, 53, 64,  0,  2,  0,  0])"
      ]
     },
     "execution_count": 12,
     "metadata": {},
     "output_type": "execute_result"
    }
   ],
   "source": [
    "arr1"
   ]
  },
  {
   "cell_type": "code",
   "execution_count": 13,
   "id": "4758b1cb-b158-4e89-88b0-f5b0fa592cd7",
   "metadata": {},
   "outputs": [
    {
     "data": {
      "text/plain": [
       "array([144115188075855872,  72057594037927936, 504403158265495552,\n",
       "       288230376151711744, 216172782113783808, 360287970189639680])"
      ]
     },
     "execution_count": 13,
     "metadata": {},
     "output_type": "execute_result"
    }
   ],
   "source": [
    "arr.byteswap()"
   ]
  },
  {
   "cell_type": "code",
   "execution_count": 14,
   "id": "72e6db47-584c-496d-bd63-569b409cc644",
   "metadata": {},
   "outputs": [],
   "source": [
    "#Numpy - Copies and Views"
   ]
  },
  {
   "cell_type": "code",
   "execution_count": 15,
   "id": "d8e11d4f-5e17-449d-a4fd-6a09cec823e1",
   "metadata": {},
   "outputs": [
    {
     "data": {
      "text/plain": [
       "array([ 0, 32, 12, 53, 64,  0,  2,  0,  0])"
      ]
     },
     "execution_count": 15,
     "metadata": {},
     "output_type": "execute_result"
    }
   ],
   "source": [
    "arr1"
   ]
  },
  {
   "cell_type": "code",
   "execution_count": 16,
   "id": "e9d114c0-7cb4-45e0-a438-f8a41b8e9984",
   "metadata": {},
   "outputs": [],
   "source": [
    "a=np.copy(arr1)"
   ]
  },
  {
   "cell_type": "code",
   "execution_count": 17,
   "id": "0b479fcd-1b50-4585-9c70-00265d91b790",
   "metadata": {},
   "outputs": [
    {
     "data": {
      "text/plain": [
       "array([ 0, 32, 12, 53, 64,  0,  2,  0,  0])"
      ]
     },
     "execution_count": 17,
     "metadata": {},
     "output_type": "execute_result"
    }
   ],
   "source": [
    "a"
   ]
  },
  {
   "cell_type": "code",
   "execution_count": 18,
   "id": "e203f4fb-82e5-4e5a-9047-b09c756450b3",
   "metadata": {},
   "outputs": [],
   "source": [
    "b=arr1.view()"
   ]
  },
  {
   "cell_type": "code",
   "execution_count": 19,
   "id": "0295a62c-4b5d-44ba-906e-8952792f07e3",
   "metadata": {},
   "outputs": [
    {
     "data": {
      "text/plain": [
       "array([ 0, 32, 12, 53, 64,  0,  2,  0,  0])"
      ]
     },
     "execution_count": 19,
     "metadata": {},
     "output_type": "execute_result"
    }
   ],
   "source": [
    "b"
   ]
  },
  {
   "cell_type": "code",
   "execution_count": 20,
   "id": "5a3569aa-d074-4f7b-9d3d-e5ef4fc83524",
   "metadata": {},
   "outputs": [],
   "source": [
    "b[0]=100"
   ]
  },
  {
   "cell_type": "code",
   "execution_count": 21,
   "id": "b6484f1e-6638-4e2d-b760-9de6ec0b1ee0",
   "metadata": {},
   "outputs": [
    {
     "data": {
      "text/plain": [
       "array([100,  32,  12,  53,  64,   0,   2,   0,   0])"
      ]
     },
     "execution_count": 21,
     "metadata": {},
     "output_type": "execute_result"
    }
   ],
   "source": [
    "b"
   ]
  },
  {
   "cell_type": "code",
   "execution_count": 22,
   "id": "066cf7a5-e610-44b4-a14b-438f0d98c13f",
   "metadata": {},
   "outputs": [
    {
     "data": {
      "text/plain": [
       "array([100,  32,  12,  53,  64,   0,   2,   0,   0])"
      ]
     },
     "execution_count": 22,
     "metadata": {},
     "output_type": "execute_result"
    }
   ],
   "source": [
    "arr1"
   ]
  },
  {
   "cell_type": "code",
   "execution_count": 23,
   "id": "3eb74915-d2bd-472a-84c5-00c657cb7970",
   "metadata": {},
   "outputs": [],
   "source": [
    "#Numpy - Matrix Library"
   ]
  },
  {
   "cell_type": "code",
   "execution_count": 24,
   "id": "73b2f75d-2096-463d-81be-c8d4fb99209e",
   "metadata": {},
   "outputs": [],
   "source": [
    "import numpy.matlib as nm"
   ]
  },
  {
   "cell_type": "code",
   "execution_count": 25,
   "id": "f340e8d2-4a30-41f6-b01b-8b66d2c9c8aa",
   "metadata": {},
   "outputs": [
    {
     "data": {
      "text/plain": [
       "matrix([[0., 0., 0., 0., 0.]])"
      ]
     },
     "execution_count": 25,
     "metadata": {},
     "output_type": "execute_result"
    }
   ],
   "source": [
    "nm.zeros(5)"
   ]
  },
  {
   "cell_type": "code",
   "execution_count": 26,
   "id": "a20953a4-febe-4277-bdcd-8c18b6fca17c",
   "metadata": {},
   "outputs": [
    {
     "data": {
      "text/plain": [
       "matrix([[1., 0., 0., 0.],\n",
       "        [0., 1., 0., 0.],\n",
       "        [0., 0., 1., 0.],\n",
       "        [0., 0., 0., 1.]])"
      ]
     },
     "execution_count": 26,
     "metadata": {},
     "output_type": "execute_result"
    }
   ],
   "source": [
    "nm.eye(4)"
   ]
  },
  {
   "cell_type": "code",
   "execution_count": 27,
   "id": "f9ee5cf5-1d6e-4f9a-b02f-b30da6ce6f15",
   "metadata": {},
   "outputs": [],
   "source": [
    "# Numpy - Linear Algebra"
   ]
  },
  {
   "cell_type": "code",
   "execution_count": 28,
   "id": "a2890328-60a9-49b3-893c-d834d79a2fa5",
   "metadata": {},
   "outputs": [
    {
     "data": {
      "text/plain": [
       "array([100,  32,  12,  53,  64,   0,   2,   0,   0])"
      ]
     },
     "execution_count": 28,
     "metadata": {},
     "output_type": "execute_result"
    }
   ],
   "source": [
    "arr1"
   ]
  },
  {
   "cell_type": "code",
   "execution_count": 29,
   "id": "8012b20d-0f5b-402a-af90-0b4692bba5be",
   "metadata": {},
   "outputs": [],
   "source": [
    "arr1=np.random.randint([[1,3],[2,4]])\n",
    "arr2=np.random.randint([[5,8],[10,11]])"
   ]
  },
  {
   "cell_type": "code",
   "execution_count": 30,
   "id": "a952b1b7-a1a1-47fc-bd81-5f189bf4f76f",
   "metadata": {},
   "outputs": [
    {
     "data": {
      "text/plain": [
       "array([[ 6, 14],\n",
       "       [ 9, 21]])"
      ]
     },
     "execution_count": 30,
     "metadata": {},
     "output_type": "execute_result"
    }
   ],
   "source": [
    "np.dot(arr1,arr2)"
   ]
  },
  {
   "cell_type": "code",
   "execution_count": 31,
   "id": "6f208b1d-71d2-4ef6-9927-cef067152a2d",
   "metadata": {},
   "outputs": [
    {
     "data": {
      "text/plain": [
       "array([[0, 2],\n",
       "       [0, 3]])"
      ]
     },
     "execution_count": 31,
     "metadata": {},
     "output_type": "execute_result"
    }
   ],
   "source": [
    "arr1"
   ]
  },
  {
   "cell_type": "code",
   "execution_count": 32,
   "id": "24a6cd00-21d6-4f71-a58d-c1c40311544e",
   "metadata": {},
   "outputs": [
    {
     "data": {
      "text/plain": [
       "array([[1, 3],\n",
       "       [3, 7]])"
      ]
     },
     "execution_count": 32,
     "metadata": {},
     "output_type": "execute_result"
    }
   ],
   "source": [
    "arr2"
   ]
  },
  {
   "cell_type": "code",
   "execution_count": 33,
   "id": "d814c1d7-51d2-4953-b04a-f5d9618979d9",
   "metadata": {},
   "outputs": [
    {
     "data": {
      "text/plain": [
       "array([[ 6, 14],\n",
       "       [ 9, 21]])"
      ]
     },
     "execution_count": 33,
     "metadata": {},
     "output_type": "execute_result"
    }
   ],
   "source": [
    "arr1@arr2"
   ]
  },
  {
   "cell_type": "code",
   "execution_count": 34,
   "id": "bec6601e-5891-4474-b84a-383c5b3a76b0",
   "metadata": {},
   "outputs": [
    {
     "data": {
      "text/plain": [
       "array([[0, 2],\n",
       "       [0, 3]])"
      ]
     },
     "execution_count": 34,
     "metadata": {},
     "output_type": "execute_result"
    }
   ],
   "source": [
    "arr1"
   ]
  },
  {
   "cell_type": "code",
   "execution_count": 35,
   "id": "7ae9f592-a349-4147-a3ec-462f30429e6b",
   "metadata": {},
   "outputs": [
    {
     "data": {
      "text/plain": [
       "array([[1, 3],\n",
       "       [3, 7]])"
      ]
     },
     "execution_count": 35,
     "metadata": {},
     "output_type": "execute_result"
    }
   ],
   "source": [
    "arr2"
   ]
  },
  {
   "cell_type": "code",
   "execution_count": 36,
   "id": "969d2327-dec4-4b28-9bd7-a66675d646a3",
   "metadata": {},
   "outputs": [
    {
     "data": {
      "text/plain": [
       "array([[ 0,  6],\n",
       "       [ 0, 21]])"
      ]
     },
     "execution_count": 36,
     "metadata": {},
     "output_type": "execute_result"
    }
   ],
   "source": [
    "arr1*arr2"
   ]
  },
  {
   "cell_type": "code",
   "execution_count": 37,
   "id": "cd95cd97-1088-4c22-b94f-d8ed6af7881d",
   "metadata": {},
   "outputs": [
    {
     "data": {
      "text/plain": [
       "array([[ 6, 14],\n",
       "       [ 9, 21]])"
      ]
     },
     "execution_count": 37,
     "metadata": {},
     "output_type": "execute_result"
    }
   ],
   "source": [
    "arr1.dot(arr2)"
   ]
  },
  {
   "cell_type": "code",
   "execution_count": 38,
   "id": "bc890ec4-0de3-446e-ac5a-5796572e1a36",
   "metadata": {},
   "outputs": [],
   "source": [
    "for i in np.nditer(arr1):\n",
    "    if(i>10):\n",
    "        i=0"
   ]
  },
  {
   "cell_type": "code",
   "execution_count": 39,
   "id": "f2649d61-eb00-4218-b61a-34cd3193f075",
   "metadata": {},
   "outputs": [
    {
     "data": {
      "text/plain": [
       "array([[0, 2],\n",
       "       [0, 3]])"
      ]
     },
     "execution_count": 39,
     "metadata": {},
     "output_type": "execute_result"
    }
   ],
   "source": [
    "arr1"
   ]
  },
  {
   "cell_type": "code",
   "execution_count": 40,
   "id": "a932ba8e-7751-47db-a729-a9edb4b7ebcb",
   "metadata": {},
   "outputs": [
    {
     "data": {
      "text/plain": [
       "array([0, 2, 3])"
      ]
     },
     "execution_count": 40,
     "metadata": {},
     "output_type": "execute_result"
    }
   ],
   "source": [
    "np.unique(arr1)"
   ]
  },
  {
   "cell_type": "code",
   "execution_count": 41,
   "id": "bb6b118d-5b03-49ff-8374-a105f55d1b95",
   "metadata": {},
   "outputs": [],
   "source": [
    "arr=[1,32,2,6]"
   ]
  },
  {
   "cell_type": "code",
   "execution_count": 42,
   "id": "30457246-0f92-41eb-a332-0df918e60586",
   "metadata": {},
   "outputs": [
    {
     "data": {
      "text/plain": [
       "array([ 6,  2, 32,  1])"
      ]
     },
     "execution_count": 42,
     "metadata": {},
     "output_type": "execute_result"
    }
   ],
   "source": [
    "np.flip(arr)"
   ]
  },
  {
   "cell_type": "code",
   "execution_count": 43,
   "id": "d9c47bf4-aae5-4097-9af8-4f5d43f76da6",
   "metadata": {},
   "outputs": [
    {
     "data": {
      "text/plain": [
       "array([0, 2, 3, 1])"
      ]
     },
     "execution_count": 43,
     "metadata": {},
     "output_type": "execute_result"
    }
   ],
   "source": [
    "np.argsort(arr)"
   ]
  },
  {
   "cell_type": "code",
   "execution_count": null,
   "id": "2ddf798c-0f9f-4583-a07c-03ebc971b494",
   "metadata": {},
   "outputs": [],
   "source": []
  }
 ],
 "metadata": {
  "kernelspec": {
   "display_name": "Python 3 (ipykernel)",
   "language": "python",
   "name": "python3"
  },
  "language_info": {
   "codemirror_mode": {
    "name": "ipython",
    "version": 3
   },
   "file_extension": ".py",
   "mimetype": "text/x-python",
   "name": "python",
   "nbconvert_exporter": "python",
   "pygments_lexer": "ipython3",
   "version": "3.10.8"
  }
 },
 "nbformat": 4,
 "nbformat_minor": 5
}
