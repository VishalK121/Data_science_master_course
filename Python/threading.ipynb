{
 "cells": [
  {
   "cell_type": "code",
   "execution_count": 1,
   "id": "b4d74b11-2e61-45d9-ae8c-31cccafd4ac4",
   "metadata": {},
   "outputs": [],
   "source": [
    "#threading is used to run a single program multiple times in a single core"
   ]
  },
  {
   "cell_type": "code",
   "execution_count": 2,
   "id": "5be3e9e3-e664-4fef-9f7e-d46526ca5f3a",
   "metadata": {},
   "outputs": [],
   "source": [
    "def test(id):\n",
    "    print(\"This is my test id: %d\"%id)"
   ]
  },
  {
   "cell_type": "code",
   "execution_count": 3,
   "id": "461ae8af-8e29-4e1a-939c-626962b363ab",
   "metadata": {},
   "outputs": [
    {
     "name": "stdout",
     "output_type": "stream",
     "text": [
      "This is my test id: 10\n"
     ]
    }
   ],
   "source": [
    "test(10)"
   ]
  },
  {
   "cell_type": "code",
   "execution_count": 4,
   "id": "c63f4cc4-f39e-496d-bed2-e1398097fe9a",
   "metadata": {},
   "outputs": [
    {
     "name": "stdout",
     "output_type": "stream",
     "text": [
      "This is my test id: 2\n"
     ]
    }
   ],
   "source": [
    "test(2)"
   ]
  },
  {
   "cell_type": "code",
   "execution_count": 5,
   "id": "e9ca74b4-279b-4f08-b6b4-1e20a2bb2333",
   "metadata": {},
   "outputs": [
    {
     "name": "stdout",
     "output_type": "stream",
     "text": [
      "This is my test id: 7\n"
     ]
    }
   ],
   "source": [
    "test(7)"
   ]
  },
  {
   "cell_type": "code",
   "execution_count": 6,
   "id": "4fae649f-640b-4930-adfa-4c626235f6dd",
   "metadata": {},
   "outputs": [],
   "source": [
    "import threading"
   ]
  },
  {
   "cell_type": "code",
   "execution_count": 7,
   "id": "251637ab-f73d-4a9c-8884-76e921f639c2",
   "metadata": {},
   "outputs": [],
   "source": [
    "thread=[threading.Thread(target=test,args=(i,))for i in [10,2,7]]"
   ]
  },
  {
   "cell_type": "code",
   "execution_count": 8,
   "id": "88122a60-ad92-4b1b-837e-2f4480e3e75f",
   "metadata": {},
   "outputs": [
    {
     "data": {
      "text/plain": [
       "[<Thread(Thread-5 (test), initial)>,\n",
       " <Thread(Thread-6 (test), initial)>,\n",
       " <Thread(Thread-7 (test), initial)>]"
      ]
     },
     "execution_count": 8,
     "metadata": {},
     "output_type": "execute_result"
    }
   ],
   "source": [
    "thread"
   ]
  },
  {
   "cell_type": "code",
   "execution_count": 10,
   "id": "651fd2c4-54c3-44ea-ac64-c4724e71f30c",
   "metadata": {},
   "outputs": [
    {
     "name": "stdout",
     "output_type": "stream",
     "text": [
      "This is my test id: 10\n",
      "This is my test id: 2\n",
      "This is my test id: 7\n"
     ]
    }
   ],
   "source": [
    "for t in thread:\n",
    "    t.start()"
   ]
  },
  {
   "cell_type": "code",
   "execution_count": 11,
   "id": "3ae8b602-d91e-458c-b85e-86590f01d93b",
   "metadata": {},
   "outputs": [],
   "source": [
    "import urllib.request\n",
    "\n",
    "def file_download(url , filename):\n",
    "    urllib.request.urlretrieve(url , filename)"
   ]
  },
  {
   "cell_type": "code",
   "execution_count": 12,
   "id": "193eddc1-8bbe-4213-aff0-b671c52c871c",
   "metadata": {},
   "outputs": [],
   "source": [
    "url_list = ['https://raw.githubusercontent.com/itsfoss/text-files/master/agatha.txt' , 'https://raw.githubusercontent.com/itsfoss/text-files/master/sherlock.txt' ,'https://raw.githubusercontent.com/itsfoss/text-files/master/sample_log_file.txt' ]"
   ]
  },
  {
   "cell_type": "code",
   "execution_count": 13,
   "id": "57c103f7-fc95-4235-993c-b8371a46910d",
   "metadata": {},
   "outputs": [
    {
     "data": {
      "text/plain": [
       "['https://raw.githubusercontent.com/itsfoss/text-files/master/agatha.txt',\n",
       " 'https://raw.githubusercontent.com/itsfoss/text-files/master/sherlock.txt',\n",
       " 'https://raw.githubusercontent.com/itsfoss/text-files/master/sample_log_file.txt']"
      ]
     },
     "execution_count": 13,
     "metadata": {},
     "output_type": "execute_result"
    }
   ],
   "source": [
    "url_list"
   ]
  },
  {
   "cell_type": "code",
   "execution_count": 14,
   "id": "b0e7d71d-61fe-42c5-8186-4fad619013d1",
   "metadata": {},
   "outputs": [],
   "source": [
    "filename=[\"data1.txt\",\"data2.txt\",\"data3.txt\"]"
   ]
  },
  {
   "cell_type": "code",
   "execution_count": 17,
   "id": "2d821439-026a-43b6-9883-020d1fa48755",
   "metadata": {},
   "outputs": [],
   "source": [
    "thread1=[threading.Thread(target = file_download,args=(url_list[i],filename[i])) for i in range(len(url_list))]"
   ]
  },
  {
   "cell_type": "code",
   "execution_count": 18,
   "id": "55362669-9e41-46ab-9a45-8d56de44000a",
   "metadata": {},
   "outputs": [],
   "source": [
    "for t in thread1:\n",
    "    t.start()"
   ]
  },
  {
   "cell_type": "code",
   "execution_count": 19,
   "id": "59247ec4-60be-435f-83ab-a3599212e051",
   "metadata": {},
   "outputs": [],
   "source": [
    "import time"
   ]
  },
  {
   "cell_type": "code",
   "execution_count": 24,
   "id": "faea10ce-3e25-4e5a-b5eb-4361331ea1dc",
   "metadata": {},
   "outputs": [],
   "source": [
    "def func(x):\n",
    "    for i in range(7):\n",
    "        print(\"The value of x is %d and the value of i is %d\"%(x,i))\n",
    "        time.sleep(1)"
   ]
  },
  {
   "cell_type": "code",
   "execution_count": 25,
   "id": "d50cdc0a-9e20-47f9-b666-0669f6f34570",
   "metadata": {},
   "outputs": [
    {
     "name": "stdout",
     "output_type": "stream",
     "text": [
      "The value of x is 4 and the value of i is 0\n",
      "The value of x is 4 and the value of i is 1\n",
      "The value of x is 4 and the value of i is 2\n",
      "The value of x is 4 and the value of i is 3\n",
      "The value of x is 4 and the value of i is 4\n",
      "The value of x is 4 and the value of i is 5\n",
      "The value of x is 4 and the value of i is 6\n"
     ]
    }
   ],
   "source": [
    "func(4)"
   ]
  },
  {
   "cell_type": "code",
   "execution_count": 31,
   "id": "81c2a7db-972d-4c00-a874-b7b5308e9b70",
   "metadata": {},
   "outputs": [],
   "source": [
    "thread2=[threading. Thread(target=func,args=(i,))for i in [1,2,3]]"
   ]
  },
  {
   "cell_type": "code",
   "execution_count": 32,
   "id": "8369e748-a61f-4876-b00d-e3da57fc1e5a",
   "metadata": {},
   "outputs": [
    {
     "name": "stdout",
     "output_type": "stream",
     "text": [
      "The value of x is 1 and the value of i is 0\n",
      "The value of x is 2 and the value of i is 0\n",
      "The value of x is 3 and the value of i is 0\n",
      "The value of x is 1 and the value of i is 1\n",
      "The value of x is 2 and the value of i is 1\n",
      "The value of x is 3 and the value of i is 1\n",
      "The value of x is 1 and the value of i is 2\n",
      "The value of x is 2 and the value of i is 2\n",
      "The value of x is 3 and the value of i is 2\n",
      "The value of x is 1 and the value of i is 3\n",
      "The value of x is 2 and the value of i is 3\n",
      "The value of x is 3 and the value of i is 3\n",
      "The value of x is 1 and the value of i is 4\n",
      "The value of x is 2 and the value of i is 4\n",
      "The value of x is 3 and the value of i is 4\n",
      "The value of x is 1 and the value of i is 5\n",
      "The value of x is 2 and the value of i is 5\n",
      "The value of x is 3 and the value of i is 5\n",
      "The value of x is 1 and the value of i is 6\n",
      "The value of x is 2 and the value of i is 6\n",
      "The value of x is 3 and the value of i is 6\n"
     ]
    }
   ],
   "source": [
    "for t in thread2:\n",
    "    t.start()"
   ]
  },
  {
   "cell_type": "code",
   "execution_count": 33,
   "id": "1b765762-9ffe-4239-8ac9-e399df54f152",
   "metadata": {},
   "outputs": [
    {
     "name": "stdout",
     "output_type": "stream",
     "text": [
      "value of x 1 and value of shareed_var 1 \n",
      "value of x 2 and value of shareed_var 2 \n",
      "value of x 3 and value of shareed_var 3 \n",
      "value of x 4 and value of shareed_var 4 \n",
      "value of x 4 and value of shareed_var 5 \n",
      "value of x 5 and value of shareed_var 6 \n"
     ]
    }
   ],
   "source": [
    "shared_var = 0 \n",
    "lock_var = threading.Lock()\n",
    "def test4(x) : \n",
    "    global shared_var\n",
    "    with lock_var : \n",
    "        shared_var = shared_var + 1\n",
    "        print(\"value of x %d and value of shareed_var %d \" %(x, shared_var))\n",
    "        time.sleep(1)\n",
    " \n",
    "thread5  = [threading.Thread(target=test4 , args = (i,)) for i in [1,2,3,4,4,5]]\n",
    "for t in thread5 : \n",
    "    t.start()"
   ]
  },
  {
   "cell_type": "code",
   "execution_count": null,
   "id": "146a9c65-d072-40fa-896a-da670d4bf625",
   "metadata": {},
   "outputs": [],
   "source": []
  }
 ],
 "metadata": {
  "kernelspec": {
   "display_name": "Python 3 (ipykernel)",
   "language": "python",
   "name": "python3"
  },
  "language_info": {
   "codemirror_mode": {
    "name": "ipython",
    "version": 3
   },
   "file_extension": ".py",
   "mimetype": "text/x-python",
   "name": "python",
   "nbconvert_exporter": "python",
   "pygments_lexer": "ipython3",
   "version": "3.10.8"
  }
 },
 "nbformat": 4,
 "nbformat_minor": 5
}
