{
 "cells": [
  {
   "cell_type": "markdown",
   "id": "9b8eb9cf-7288-424c-a25d-9c4f5e1b1f23",
   "metadata": {},
   "source": [
    "## PRACTICE 2"
   ]
  },
  {
   "cell_type": "markdown",
   "id": "7722111a-f2d2-4d5f-8ecc-1693f9cee2f0",
   "metadata": {},
   "source": [
    "# Tuple"
   ]
  },
  {
   "cell_type": "markdown",
   "id": "0e7a073b-5b81-4dc8-94af-afba8c2ed771",
   "metadata": {},
   "source": [
    "##### Tuple basically follow immutability concepts where it is not allowed to chnage an element in a particular index"
   ]
  },
  {
   "cell_type": "code",
   "execution_count": 1,
   "id": "4cf761a5-ed97-4195-9347-4353acc8ec45",
   "metadata": {},
   "outputs": [
    {
     "data": {
      "text/plain": [
       "tuple"
      ]
     },
     "execution_count": 1,
     "metadata": {},
     "output_type": "execute_result"
    }
   ],
   "source": [
    "t=()\n",
    "type(t)"
   ]
  },
  {
   "cell_type": "code",
   "execution_count": 11,
   "id": "716d95f6-d52c-4ddd-a68c-01404de9e050",
   "metadata": {},
   "outputs": [],
   "source": [
    "t1=(1,2,3,\"abc\",True)"
   ]
  },
  {
   "cell_type": "markdown",
   "id": "808c31a1-db35-4f1b-a3d4-8ee0abd640f6",
   "metadata": {},
   "source": [
    "#### List- Mutable(Ordered)\n",
    "#### Tuple- Immutable(Ordered)"
   ]
  },
  {
   "cell_type": "code",
   "execution_count": 12,
   "id": "b972e1fe-e655-45fc-a5fb-34d2389104e8",
   "metadata": {},
   "outputs": [
    {
     "data": {
      "text/plain": [
       "1"
      ]
     },
     "execution_count": 12,
     "metadata": {},
     "output_type": "execute_result"
    }
   ],
   "source": [
    "t1[0]"
   ]
  },
  {
   "cell_type": "code",
   "execution_count": 13,
   "id": "29dfd024-115d-4aa3-8e02-74e337041188",
   "metadata": {},
   "outputs": [],
   "source": [
    "t2=t1[::-1]"
   ]
  },
  {
   "cell_type": "code",
   "execution_count": 14,
   "id": "92d59a2e-aa06-4b95-ba62-4fccb165e032",
   "metadata": {},
   "outputs": [
    {
     "data": {
      "text/plain": [
       "(True, 'abc', 3, 2, 1)"
      ]
     },
     "execution_count": 14,
     "metadata": {},
     "output_type": "execute_result"
    }
   ],
   "source": [
    "t2"
   ]
  },
  {
   "cell_type": "code",
   "execution_count": 18,
   "id": "90e127ab-b3e8-42a5-ad40-888aa9b4fe16",
   "metadata": {},
   "outputs": [
    {
     "data": {
      "text/plain": [
       "1"
      ]
     },
     "execution_count": 18,
     "metadata": {},
     "output_type": "execute_result"
    }
   ],
   "source": [
    "t1.count(2)"
   ]
  },
  {
   "cell_type": "code",
   "execution_count": 19,
   "id": "9c548866-6323-4dc4-9c44-e8bf73c9791c",
   "metadata": {},
   "outputs": [
    {
     "data": {
      "text/plain": [
       "3"
      ]
     },
     "execution_count": 19,
     "metadata": {},
     "output_type": "execute_result"
    }
   ],
   "source": [
    "t1.index(\"abc\")"
   ]
  },
  {
   "cell_type": "code",
   "execution_count": 22,
   "id": "340aeb76-e857-4b9f-8d37-26888c362747",
   "metadata": {},
   "outputs": [
    {
     "data": {
      "text/plain": [
       "0"
      ]
     },
     "execution_count": 22,
     "metadata": {},
     "output_type": "execute_result"
    }
   ],
   "source": [
    "t1.index(True)"
   ]
  },
  {
   "cell_type": "code",
   "execution_count": 23,
   "id": "b7ae6667-70bf-4de3-aff8-04464ff3edd9",
   "metadata": {},
   "outputs": [
    {
     "data": {
      "text/plain": [
       "(1, 2, 3, 'abc', True)"
      ]
     },
     "execution_count": 23,
     "metadata": {},
     "output_type": "execute_result"
    }
   ],
   "source": [
    "t1"
   ]
  },
  {
   "cell_type": "code",
   "execution_count": 24,
   "id": "87dbe650-4904-45ec-b97f-0ef46c060dff",
   "metadata": {},
   "outputs": [],
   "source": [
    "l=[1,2,3,\"abc\",True]"
   ]
  },
  {
   "cell_type": "code",
   "execution_count": 25,
   "id": "fc2af91e-3542-4bed-ae63-9c61dc73d289",
   "metadata": {},
   "outputs": [
    {
     "data": {
      "text/plain": [
       "[1, 2, 3, 'abc', True]"
      ]
     },
     "execution_count": 25,
     "metadata": {},
     "output_type": "execute_result"
    }
   ],
   "source": [
    "l"
   ]
  },
  {
   "cell_type": "code",
   "execution_count": 26,
   "id": "2c21653f-2929-4f53-8c9c-a33593a887b1",
   "metadata": {},
   "outputs": [
    {
     "ename": "TypeError",
     "evalue": "'tuple' object does not support item assignment",
     "output_type": "error",
     "traceback": [
      "\u001b[0;31m---------------------------------------------------------------------------\u001b[0m",
      "\u001b[0;31mTypeError\u001b[0m                                 Traceback (most recent call last)",
      "Cell \u001b[0;32mIn[26], line 1\u001b[0m\n\u001b[0;32m----> 1\u001b[0m \u001b[43mt1\u001b[49m\u001b[43m[\u001b[49m\u001b[38;5;241;43m0\u001b[39;49m\u001b[43m]\u001b[49m\u001b[38;5;241m=\u001b[39m\u001b[38;5;241m4\u001b[39m\n",
      "\u001b[0;31mTypeError\u001b[0m: 'tuple' object does not support item assignment"
     ]
    }
   ],
   "source": [
    "t1[0]=4"
   ]
  },
  {
   "cell_type": "code",
   "execution_count": 27,
   "id": "6b8533d7-5ea7-41cf-bec8-3823e166296a",
   "metadata": {},
   "outputs": [],
   "source": [
    "l[0]=False"
   ]
  },
  {
   "cell_type": "code",
   "execution_count": 28,
   "id": "f98f84f9-b5f4-47f5-a81b-0eccddc2224e",
   "metadata": {},
   "outputs": [
    {
     "data": {
      "text/plain": [
       "[False, 2, 3, 'abc', True]"
      ]
     },
     "execution_count": 28,
     "metadata": {},
     "output_type": "execute_result"
    }
   ],
   "source": [
    "l"
   ]
  },
  {
   "cell_type": "code",
   "execution_count": 30,
   "id": "4b05a3ae-9453-4c55-875e-8510c2a655f1",
   "metadata": {},
   "outputs": [
    {
     "data": {
      "text/plain": [
       "[1, 2, 3, 'abc', True]"
      ]
     },
     "execution_count": 30,
     "metadata": {},
     "output_type": "execute_result"
    }
   ],
   "source": [
    "list(t1)"
   ]
  },
  {
   "cell_type": "code",
   "execution_count": 31,
   "id": "7e912427-7de6-4d00-ab5e-83ab0f749c52",
   "metadata": {},
   "outputs": [
    {
     "data": {
      "text/plain": [
       "(False, 2, 3, 'abc', True)"
      ]
     },
     "execution_count": 31,
     "metadata": {},
     "output_type": "execute_result"
    }
   ],
   "source": [
    "tuple(l)"
   ]
  },
  {
   "cell_type": "code",
   "execution_count": 34,
   "id": "5abe9d4d-4fce-4466-865d-4d0ba800e1a8",
   "metadata": {},
   "outputs": [
    {
     "name": "stdout",
     "output_type": "stream",
     "text": [
      "1 :  <class 'int'>\n",
      "2 :  <class 'int'>\n",
      "3 :  <class 'int'>\n",
      "abc :  <class 'str'>\n",
      "True :  <class 'bool'>\n"
     ]
    }
   ],
   "source": [
    "for i in t1:\n",
    "    print(i,\": \",type(i))"
   ]
  },
  {
   "cell_type": "code",
   "execution_count": 35,
   "id": "926280fc-dc3c-466d-8688-338676113a5d",
   "metadata": {},
   "outputs": [
    {
     "data": {
      "text/plain": [
       "(1, 2, 3, 'abc', True, 1, 2, 3, 'abc', True)"
      ]
     },
     "execution_count": 35,
     "metadata": {},
     "output_type": "execute_result"
    }
   ],
   "source": [
    "t1*2"
   ]
  },
  {
   "cell_type": "code",
   "execution_count": 48,
   "id": "2e97bdcd-15f0-4068-b5a2-15af475c9d36",
   "metadata": {},
   "outputs": [],
   "source": [
    "t2=(1,5,23,8,2)"
   ]
  },
  {
   "cell_type": "code",
   "execution_count": 49,
   "id": "7b6cd220-3468-444b-8bde-3f01205197f7",
   "metadata": {},
   "outputs": [
    {
     "data": {
      "text/plain": [
       "23"
      ]
     },
     "execution_count": 49,
     "metadata": {},
     "output_type": "execute_result"
    }
   ],
   "source": [
    "max(t2)"
   ]
  },
  {
   "cell_type": "code",
   "execution_count": 50,
   "id": "2d295a20-1c3b-4c59-a224-fcf15530303e",
   "metadata": {},
   "outputs": [
    {
     "data": {
      "text/plain": [
       "1"
      ]
     },
     "execution_count": 50,
     "metadata": {},
     "output_type": "execute_result"
    }
   ],
   "source": [
    "min(t2)"
   ]
  },
  {
   "cell_type": "code",
   "execution_count": 51,
   "id": "f0169ff5-45fe-4eca-b2f9-f78c067af038",
   "metadata": {},
   "outputs": [],
   "source": [
    "t2=(t1,t2)"
   ]
  },
  {
   "cell_type": "code",
   "execution_count": 52,
   "id": "69824641-8576-4df0-b850-5a5383d81091",
   "metadata": {},
   "outputs": [
    {
     "data": {
      "text/plain": [
       "((1, 2, 3, 'abc', True), (1, 5, 23, 8, 2))"
      ]
     },
     "execution_count": 52,
     "metadata": {},
     "output_type": "execute_result"
    }
   ],
   "source": [
    "t2"
   ]
  },
  {
   "cell_type": "code",
   "execution_count": 53,
   "id": "057683f7-5383-44ae-bfe5-ebf41f36fd67",
   "metadata": {},
   "outputs": [],
   "source": [
    "del t2 #for deletion of tuple"
   ]
  },
  {
   "cell_type": "code",
   "execution_count": 54,
   "id": "54f66a77-c06d-45d2-a141-a97339a7d206",
   "metadata": {},
   "outputs": [
    {
     "ename": "NameError",
     "evalue": "name 't2' is not defined",
     "output_type": "error",
     "traceback": [
      "\u001b[0;31m---------------------------------------------------------------------------\u001b[0m",
      "\u001b[0;31mNameError\u001b[0m                                 Traceback (most recent call last)",
      "Cell \u001b[0;32mIn[54], line 1\u001b[0m\n\u001b[0;32m----> 1\u001b[0m \u001b[43mt2\u001b[49m\n",
      "\u001b[0;31mNameError\u001b[0m: name 't2' is not defined"
     ]
    }
   ],
   "source": [
    "t2"
   ]
  },
  {
   "cell_type": "code",
   "execution_count": 55,
   "id": "cd6230a7-e758-4c2a-ade3-3d0eb4703084",
   "metadata": {},
   "outputs": [
    {
     "data": {
      "text/plain": [
       "(1, 2, 3, 'abc', True)"
      ]
     },
     "execution_count": 55,
     "metadata": {},
     "output_type": "execute_result"
    }
   ],
   "source": [
    "t1"
   ]
  },
  {
   "cell_type": "code",
   "execution_count": 56,
   "id": "16bea6ad-b9ee-4090-9568-cd5f7d2933fe",
   "metadata": {},
   "outputs": [
    {
     "data": {
      "text/plain": [
       "5"
      ]
     },
     "execution_count": 56,
     "metadata": {},
     "output_type": "execute_result"
    }
   ],
   "source": [
    "len(t1)\n"
   ]
  },
  {
   "cell_type": "code",
   "execution_count": 58,
   "id": "4e34da6b-06bd-46d4-ad9e-56e5cc16eeb7",
   "metadata": {},
   "outputs": [],
   "source": [
    "t3=(t1,t1)"
   ]
  },
  {
   "cell_type": "code",
   "execution_count": 59,
   "id": "089c4cab-e292-4ad9-919f-c49e3ce8a392",
   "metadata": {},
   "outputs": [
    {
     "data": {
      "text/plain": [
       "((1, 2, 3, 'abc', True), (1, 2, 3, 'abc', True))"
      ]
     },
     "execution_count": 59,
     "metadata": {},
     "output_type": "execute_result"
    }
   ],
   "source": [
    "t3"
   ]
  },
  {
   "cell_type": "code",
   "execution_count": 60,
   "id": "48e340f7-6422-4584-8542-424255e2e8fc",
   "metadata": {},
   "outputs": [
    {
     "data": {
      "text/plain": [
       "2"
      ]
     },
     "execution_count": 60,
     "metadata": {},
     "output_type": "execute_result"
    }
   ],
   "source": [
    "len(t3)"
   ]
  },
  {
   "cell_type": "code",
   "execution_count": 62,
   "id": "e93901f3-3d82-4362-ab33-194ea05a0cfb",
   "metadata": {},
   "outputs": [
    {
     "data": {
      "text/plain": [
       "True"
      ]
     },
     "execution_count": 62,
     "metadata": {},
     "output_type": "execute_result"
    }
   ],
   "source": [
    "\"abc\" in t1"
   ]
  },
  {
   "cell_type": "code",
   "execution_count": 64,
   "id": "da2aee35-4e03-46f2-8b3e-340f76df52c7",
   "metadata": {},
   "outputs": [
    {
     "data": {
      "text/plain": [
       "True"
      ]
     },
     "execution_count": 64,
     "metadata": {},
     "output_type": "execute_result"
    }
   ],
   "source": [
    "\"abc\" in t3[0]"
   ]
  },
  {
   "cell_type": "code",
   "execution_count": 65,
   "id": "4787b198-d38e-49b7-a494-abba9ff7d34b",
   "metadata": {},
   "outputs": [
    {
     "data": {
      "text/plain": [
       "False"
      ]
     },
     "execution_count": 65,
     "metadata": {},
     "output_type": "execute_result"
    }
   ],
   "source": [
    "\"abc\" in t3"
   ]
  },
  {
   "cell_type": "markdown",
   "id": "b5509ed7-b170-4f90-a8c5-b86a27cb1a8d",
   "metadata": {},
   "source": [
    "# SET"
   ]
  },
  {
   "cell_type": "code",
   "execution_count": 66,
   "id": "e2f69141-8b9e-4714-b865-dd84465f9c4d",
   "metadata": {},
   "outputs": [
    {
     "data": {
      "text/plain": [
       "dict"
      ]
     },
     "execution_count": 66,
     "metadata": {},
     "output_type": "execute_result"
    }
   ],
   "source": [
    "s={}\n",
    "type(s)"
   ]
  },
  {
   "cell_type": "code",
   "execution_count": 67,
   "id": "16a77c1e-6738-4f3e-b04c-30352f2c936a",
   "metadata": {},
   "outputs": [
    {
     "data": {
      "text/plain": [
       "set"
      ]
     },
     "execution_count": 67,
     "metadata": {},
     "output_type": "execute_result"
    }
   ],
   "source": [
    "s={1}\n",
    "type(s)"
   ]
  },
  {
   "cell_type": "code",
   "execution_count": 68,
   "id": "8dc26e87-5a48-4ffc-b94b-2c6ab3734987",
   "metadata": {},
   "outputs": [],
   "source": [
    "s1={1,2,3,1,2,3,4,5,6,3,2,4,3,22,3}"
   ]
  },
  {
   "cell_type": "code",
   "execution_count": 69,
   "id": "f1494298-f458-4fd1-81a9-40b130a41afc",
   "metadata": {},
   "outputs": [
    {
     "data": {
      "text/plain": [
       "{1, 2, 3, 4, 5, 6, 22}"
      ]
     },
     "execution_count": 69,
     "metadata": {},
     "output_type": "execute_result"
    }
   ],
   "source": [
    "s1"
   ]
  },
  {
   "cell_type": "code",
   "execution_count": 71,
   "id": "de72f701-c096-4114-8ade-789cf7d02171",
   "metadata": {},
   "outputs": [
    {
     "data": {
      "text/plain": [
       "[1, 2, 3, 4, 5, 6, 22]"
      ]
     },
     "execution_count": 71,
     "metadata": {},
     "output_type": "execute_result"
    }
   ],
   "source": [
    "list(s1)"
   ]
  },
  {
   "cell_type": "code",
   "execution_count": 72,
   "id": "76a04253-b25a-4589-a2a5-0e75a1585f50",
   "metadata": {},
   "outputs": [],
   "source": [
    "s2={1,\"abc\",32,1}"
   ]
  },
  {
   "cell_type": "code",
   "execution_count": 73,
   "id": "fde5010c-8554-4e9d-bc05-e261af6f3375",
   "metadata": {},
   "outputs": [
    {
     "data": {
      "text/plain": [
       "{1, 32, 'abc'}"
      ]
     },
     "execution_count": 73,
     "metadata": {},
     "output_type": "execute_result"
    }
   ],
   "source": [
    "s2"
   ]
  },
  {
   "cell_type": "code",
   "execution_count": 74,
   "id": "b2ec5ad0-5221-4875-b7ec-50eac0da4873",
   "metadata": {},
   "outputs": [],
   "source": [
    "s={1,2,3,4,(1,2,4,1)}"
   ]
  },
  {
   "cell_type": "code",
   "execution_count": 75,
   "id": "4c7309db-c9df-4fba-b1db-a7dc31071e85",
   "metadata": {},
   "outputs": [
    {
     "data": {
      "text/plain": [
       "{(1, 2, 4, 1), 1, 2, 3, 4}"
      ]
     },
     "execution_count": 75,
     "metadata": {},
     "output_type": "execute_result"
    }
   ],
   "source": [
    "s"
   ]
  },
  {
   "cell_type": "code",
   "execution_count": 76,
   "id": "e614749f-1b0b-4ad7-8c87-e6a043229246",
   "metadata": {},
   "outputs": [
    {
     "ename": "TypeError",
     "evalue": "unhashable type: 'list'",
     "output_type": "error",
     "traceback": [
      "\u001b[0;31m---------------------------------------------------------------------------\u001b[0m",
      "\u001b[0;31mTypeError\u001b[0m                                 Traceback (most recent call last)",
      "Cell \u001b[0;32mIn[76], line 1\u001b[0m\n\u001b[0;32m----> 1\u001b[0m s\u001b[38;5;241m=\u001b[39m{\u001b[38;5;241m1\u001b[39m,\u001b[38;5;241m2\u001b[39m,\u001b[38;5;241m3\u001b[39m,\u001b[38;5;241m4\u001b[39m,[\u001b[38;5;241m3\u001b[39m,\u001b[38;5;241m2\u001b[39m,\u001b[38;5;241m4\u001b[39m]}\n",
      "\u001b[0;31mTypeError\u001b[0m: unhashable type: 'list'"
     ]
    }
   ],
   "source": [
    "s={1,2,3,4,[3,2,4]}"
   ]
  },
  {
   "cell_type": "code",
   "execution_count": 77,
   "id": "13c16f63-5713-463f-9d6d-077fef86de0c",
   "metadata": {},
   "outputs": [
    {
     "ename": "TypeError",
     "evalue": "unhashable type: 'set'",
     "output_type": "error",
     "traceback": [
      "\u001b[0;31m---------------------------------------------------------------------------\u001b[0m",
      "\u001b[0;31mTypeError\u001b[0m                                 Traceback (most recent call last)",
      "Cell \u001b[0;32mIn[77], line 1\u001b[0m\n\u001b[0;32m----> 1\u001b[0m s\u001b[38;5;241m=\u001b[39m{\u001b[38;5;241m1\u001b[39m,\u001b[38;5;241m2\u001b[39m,\u001b[38;5;241m3\u001b[39m,{\u001b[38;5;241m1\u001b[39m,\u001b[38;5;241m2\u001b[39m,\u001b[38;5;241m3\u001b[39m}}\n",
      "\u001b[0;31mTypeError\u001b[0m: unhashable type: 'set'"
     ]
    }
   ],
   "source": [
    "s={1,2,3,{1,2,3}}"
   ]
  },
  {
   "cell_type": "code",
   "execution_count": 79,
   "id": "7b10260b-5e53-4b29-bae0-b9e67463b318",
   "metadata": {},
   "outputs": [
    {
     "ename": "TypeError",
     "evalue": "'set' object is not subscriptable",
     "output_type": "error",
     "traceback": [
      "\u001b[0;31m---------------------------------------------------------------------------\u001b[0m",
      "\u001b[0;31mTypeError\u001b[0m                                 Traceback (most recent call last)",
      "Cell \u001b[0;32mIn[79], line 1\u001b[0m\n\u001b[0;32m----> 1\u001b[0m \u001b[43ms\u001b[49m\u001b[43m[\u001b[49m\u001b[38;5;241;43m0\u001b[39;49m\u001b[43m]\u001b[49m \u001b[38;5;66;03m#It cannot be accessed through index\u001b[39;00m\n",
      "\u001b[0;31mTypeError\u001b[0m: 'set' object is not subscriptable"
     ]
    }
   ],
   "source": [
    "s[0] #It cannot be accessed through index"
   ]
  },
  {
   "cell_type": "code",
   "execution_count": 80,
   "id": "52284111-fc87-4943-a17b-b5d7dc79f1e6",
   "metadata": {},
   "outputs": [
    {
     "name": "stdout",
     "output_type": "stream",
     "text": [
      "1\n",
      "2\n",
      "3\n",
      "4\n",
      "(1, 2, 4, 1)\n"
     ]
    }
   ],
   "source": [
    "for i in s:\n",
    "    print(i)"
   ]
  },
  {
   "cell_type": "code",
   "execution_count": 81,
   "id": "1db75020-2f7a-4b0e-aaea-cd9a9f437a10",
   "metadata": {},
   "outputs": [
    {
     "ename": "TypeError",
     "evalue": "'set' object is not subscriptable",
     "output_type": "error",
     "traceback": [
      "\u001b[0;31m---------------------------------------------------------------------------\u001b[0m",
      "\u001b[0;31mTypeError\u001b[0m                                 Traceback (most recent call last)",
      "Cell \u001b[0;32mIn[81], line 2\u001b[0m\n\u001b[1;32m      1\u001b[0m \u001b[38;5;28;01mfor\u001b[39;00m i \u001b[38;5;129;01min\u001b[39;00m \u001b[38;5;28mrange\u001b[39m(\u001b[38;5;28mlen\u001b[39m(s)):\n\u001b[0;32m----> 2\u001b[0m     \u001b[38;5;28mprint\u001b[39m(\u001b[43ms\u001b[49m\u001b[43m[\u001b[49m\u001b[43mi\u001b[49m\u001b[43m]\u001b[49m)\n",
      "\u001b[0;31mTypeError\u001b[0m: 'set' object is not subscriptable"
     ]
    }
   ],
   "source": [
    "for i in range(len(s)):\n",
    "    print(s[i])"
   ]
  },
  {
   "cell_type": "code",
   "execution_count": 83,
   "id": "f137829f-ad72-401c-ae40-38c0ac8fb395",
   "metadata": {},
   "outputs": [
    {
     "data": {
      "text/plain": [
       "{1, 2, 3, 4, 5, 6, 22}"
      ]
     },
     "execution_count": 83,
     "metadata": {},
     "output_type": "execute_result"
    }
   ],
   "source": [
    "s1"
   ]
  },
  {
   "cell_type": "code",
   "execution_count": 84,
   "id": "1b0e6b91-4445-4a02-a654-e8faf8a55766",
   "metadata": {},
   "outputs": [],
   "source": [
    "s1.add(17)"
   ]
  },
  {
   "cell_type": "code",
   "execution_count": 85,
   "id": "9d3b307a-aaae-469e-b24d-a5c13a883f1c",
   "metadata": {},
   "outputs": [
    {
     "data": {
      "text/plain": [
       "{1, 2, 3, 4, 5, 6, 17, 22}"
      ]
     },
     "execution_count": 85,
     "metadata": {},
     "output_type": "execute_result"
    }
   ],
   "source": [
    "s1"
   ]
  },
  {
   "cell_type": "code",
   "execution_count": 86,
   "id": "f4ac1b8e-ed29-46b0-91db-f5f4c956da46",
   "metadata": {},
   "outputs": [
    {
     "data": {
      "text/plain": [
       "8"
      ]
     },
     "execution_count": 86,
     "metadata": {},
     "output_type": "execute_result"
    }
   ],
   "source": [
    "len(s1)"
   ]
  },
  {
   "cell_type": "code",
   "execution_count": 87,
   "id": "ff24341e-6d02-406f-b1b4-c8407de52c36",
   "metadata": {},
   "outputs": [
    {
     "data": {
      "text/plain": [
       "1"
      ]
     },
     "execution_count": 87,
     "metadata": {},
     "output_type": "execute_result"
    }
   ],
   "source": [
    "s1.pop()"
   ]
  },
  {
   "cell_type": "code",
   "execution_count": 97,
   "id": "14a8abfb-1502-4153-ac2a-84a08ec12b2d",
   "metadata": {},
   "outputs": [
    {
     "data": {
      "text/plain": [
       "3"
      ]
     },
     "execution_count": 97,
     "metadata": {},
     "output_type": "execute_result"
    }
   ],
   "source": [
    "s1.pop()"
   ]
  },
  {
   "cell_type": "code",
   "execution_count": 98,
   "id": "86e42717-d9e6-4a59-80fa-1c7a32f042d6",
   "metadata": {},
   "outputs": [
    {
     "data": {
      "text/plain": [
       "{4, 5, 6, 17, 22}"
      ]
     },
     "execution_count": 98,
     "metadata": {},
     "output_type": "execute_result"
    }
   ],
   "source": [
    "s1"
   ]
  },
  {
   "cell_type": "code",
   "execution_count": 99,
   "id": "2cb4b05e-d21f-46f8-a847-72224d4a0ab4",
   "metadata": {},
   "outputs": [
    {
     "data": {
      "text/plain": [
       "[4, 5, 6, 22, 17]"
      ]
     },
     "execution_count": 99,
     "metadata": {},
     "output_type": "execute_result"
    }
   ],
   "source": [
    "l=list(s1)\n",
    "l"
   ]
  },
  {
   "cell_type": "code",
   "execution_count": 100,
   "id": "cd9c8f4d-e89d-47c7-825e-ac8eb6efbe46",
   "metadata": {},
   "outputs": [
    {
     "data": {
      "text/plain": [
       "17"
      ]
     },
     "execution_count": 100,
     "metadata": {},
     "output_type": "execute_result"
    }
   ],
   "source": [
    "l.pop()"
   ]
  },
  {
   "cell_type": "code",
   "execution_count": 101,
   "id": "d0bd677b-4884-405b-9039-700f6efc8570",
   "metadata": {},
   "outputs": [],
   "source": [
    "a=set()"
   ]
  },
  {
   "cell_type": "code",
   "execution_count": 102,
   "id": "429df2d9-4480-4d6d-bff4-5ad80b056c0e",
   "metadata": {},
   "outputs": [
    {
     "data": {
      "text/plain": [
       "set"
      ]
     },
     "execution_count": 102,
     "metadata": {},
     "output_type": "execute_result"
    }
   ],
   "source": [
    "type(s)"
   ]
  },
  {
   "cell_type": "code",
   "execution_count": 105,
   "id": "454c427d-f83c-4453-bf3f-74f97b6b64c3",
   "metadata": {},
   "outputs": [],
   "source": [
    "s1={1,5,3,4,9}\n",
    "s2={2,3,1,5,7,2}"
   ]
  },
  {
   "cell_type": "code",
   "execution_count": 106,
   "id": "d0caf1c7-df85-4086-b8e8-79ec411ea23e",
   "metadata": {},
   "outputs": [
    {
     "data": {
      "text/plain": [
       "{4, 9}"
      ]
     },
     "execution_count": 106,
     "metadata": {},
     "output_type": "execute_result"
    }
   ],
   "source": [
    "s1.difference(s2)"
   ]
  },
  {
   "cell_type": "code",
   "execution_count": 109,
   "id": "a897ebe3-130f-462f-bc5d-c8bc0c4647f6",
   "metadata": {},
   "outputs": [
    {
     "data": {
      "text/plain": [
       "{1, 2, 3, 4, 5, 7, 9}"
      ]
     },
     "execution_count": 109,
     "metadata": {},
     "output_type": "execute_result"
    }
   ],
   "source": [
    "s1.union(s2)"
   ]
  },
  {
   "cell_type": "markdown",
   "id": "76560286-814f-4cc9-bbb2-69d598fd2f1b",
   "metadata": {},
   "source": [
    "# Dictionary"
   ]
  },
  {
   "cell_type": "code",
   "execution_count": 1,
   "id": "bb7d793f-7c64-4030-8600-1bb595942ab6",
   "metadata": {},
   "outputs": [],
   "source": [
    "d={\"name\":\"Vishal\",\"Email\":\"@gmail.com\"}"
   ]
  },
  {
   "cell_type": "code",
   "execution_count": 2,
   "id": "7167e4f3-83c2-4379-bbc2-828dbe6d6dad",
   "metadata": {},
   "outputs": [
    {
     "data": {
      "text/plain": [
       "{'name': 'Vishal', 'Email': '@gmail.com'}"
      ]
     },
     "execution_count": 2,
     "metadata": {},
     "output_type": "execute_result"
    }
   ],
   "source": [
    "d"
   ]
  },
  {
   "cell_type": "code",
   "execution_count": 4,
   "id": "7d185b09-1ecd-416a-934d-ea3e76cc0e0b",
   "metadata": {},
   "outputs": [
    {
     "data": {
      "text/plain": [
       "'Vishal'"
      ]
     },
     "execution_count": 4,
     "metadata": {},
     "output_type": "execute_result"
    }
   ],
   "source": [
    "d[\"name\"]"
   ]
  },
  {
   "cell_type": "code",
   "execution_count": 6,
   "id": "f0873232-4b35-49d7-b7bc-6c356818a4c6",
   "metadata": {},
   "outputs": [],
   "source": [
    "d2={\"name\":\"abc\",\"name\":\"xyz\"}"
   ]
  },
  {
   "cell_type": "code",
   "execution_count": 7,
   "id": "e99737c4-e4e0-4dde-9e79-afc04df86610",
   "metadata": {},
   "outputs": [
    {
     "data": {
      "text/plain": [
       "{'name': 'xyz'}"
      ]
     },
     "execution_count": 7,
     "metadata": {},
     "output_type": "execute_result"
    }
   ],
   "source": [
    "d2"
   ]
  },
  {
   "cell_type": "code",
   "execution_count": 10,
   "id": "a14d7df9-db3d-47c8-9382-0a4b1b22e8c1",
   "metadata": {},
   "outputs": [],
   "source": [
    "d1={26373:16932}"
   ]
  },
  {
   "cell_type": "code",
   "execution_count": 11,
   "id": "abc502e9-2a0f-426c-b67a-3cf91c4c588a",
   "metadata": {},
   "outputs": [
    {
     "data": {
      "text/plain": [
       "16932"
      ]
     },
     "execution_count": 11,
     "metadata": {},
     "output_type": "execute_result"
    }
   ],
   "source": [
    "d1[26373]"
   ]
  },
  {
   "cell_type": "code",
   "execution_count": 12,
   "id": "09d3460f-dd82-4d86-a245-dd9782588166",
   "metadata": {},
   "outputs": [],
   "source": [
    "d1={True:1872}"
   ]
  },
  {
   "cell_type": "code",
   "execution_count": 13,
   "id": "8dce22f8-1f63-4a80-bc4d-b9b9512a9644",
   "metadata": {},
   "outputs": [
    {
     "data": {
      "text/plain": [
       "{True: 1872}"
      ]
     },
     "execution_count": 13,
     "metadata": {},
     "output_type": "execute_result"
    }
   ],
   "source": [
    "d1"
   ]
  },
  {
   "cell_type": "code",
   "execution_count": 14,
   "id": "5dec0d05-0a6b-453f-9b99-ff079e2b6124",
   "metadata": {},
   "outputs": [
    {
     "data": {
      "text/plain": [
       "1872"
      ]
     },
     "execution_count": 14,
     "metadata": {},
     "output_type": "execute_result"
    }
   ],
   "source": [
    "d1[1]"
   ]
  },
  {
   "cell_type": "code",
   "execution_count": 15,
   "id": "767cd8a4-da54-42bb-8aab-3e7257a90f09",
   "metadata": {},
   "outputs": [],
   "source": [
    "d1={True:2168,1:293}"
   ]
  },
  {
   "cell_type": "code",
   "execution_count": 16,
   "id": "5a85d9f7-fb61-41cb-9453-c73b1c84ff5d",
   "metadata": {},
   "outputs": [
    {
     "data": {
      "text/plain": [
       "{True: 293}"
      ]
     },
     "execution_count": 16,
     "metadata": {},
     "output_type": "execute_result"
    }
   ],
   "source": [
    "d1"
   ]
  },
  {
   "cell_type": "code",
   "execution_count": 17,
   "id": "ffd6f0dc-ceda-40d6-ad15-a2b675664587",
   "metadata": {},
   "outputs": [],
   "source": [
    "d1={(1,2,3):\"abc\"}"
   ]
  },
  {
   "cell_type": "code",
   "execution_count": 18,
   "id": "28cfdf06-4f8d-4544-8009-294ffed865e6",
   "metadata": {},
   "outputs": [
    {
     "data": {
      "text/plain": [
       "{(1, 2, 3): 'abc'}"
      ]
     },
     "execution_count": 18,
     "metadata": {},
     "output_type": "execute_result"
    }
   ],
   "source": [
    "d1"
   ]
  },
  {
   "cell_type": "code",
   "execution_count": 19,
   "id": "f286dd8b-8395-4354-8291-043d96a543aa",
   "metadata": {},
   "outputs": [
    {
     "ename": "TypeError",
     "evalue": "unhashable type: 'list'",
     "output_type": "error",
     "traceback": [
      "\u001b[0;31m---------------------------------------------------------------------------\u001b[0m",
      "\u001b[0;31mTypeError\u001b[0m                                 Traceback (most recent call last)",
      "Cell \u001b[0;32mIn[19], line 1\u001b[0m\n\u001b[0;32m----> 1\u001b[0m d1\u001b[38;5;241m=\u001b[39m{[\u001b[38;5;241m1\u001b[39m,\u001b[38;5;241m2\u001b[39m,\u001b[38;5;241m3\u001b[39m]:\u001b[38;5;124m\"\u001b[39m\u001b[38;5;124mabc\u001b[39m\u001b[38;5;124m\"\u001b[39m}\n",
      "\u001b[0;31mTypeError\u001b[0m: unhashable type: 'list'"
     ]
    }
   ],
   "source": [
    "d1={[1,2,3]:\"abc\"}"
   ]
  },
  {
   "cell_type": "code",
   "execution_count": 20,
   "id": "dd4fbc0a-377f-4904-9fa0-84d3863602b9",
   "metadata": {},
   "outputs": [
    {
     "ename": "TypeError",
     "evalue": "unhashable type: 'set'",
     "output_type": "error",
     "traceback": [
      "\u001b[0;31m---------------------------------------------------------------------------\u001b[0m",
      "\u001b[0;31mTypeError\u001b[0m                                 Traceback (most recent call last)",
      "Cell \u001b[0;32mIn[20], line 1\u001b[0m\n\u001b[0;32m----> 1\u001b[0m d1\u001b[38;5;241m=\u001b[39m{{\u001b[38;5;241m1\u001b[39m,\u001b[38;5;241m2\u001b[39m}:\u001b[38;5;124m\"\u001b[39m\u001b[38;5;124mabc\u001b[39m\u001b[38;5;124m\"\u001b[39m}\n",
      "\u001b[0;31mTypeError\u001b[0m: unhashable type: 'set'"
     ]
    }
   ],
   "source": [
    "d1={{1,2}:\"abc\"}"
   ]
  },
  {
   "cell_type": "code",
   "execution_count": 21,
   "id": "0c4da932-451d-4f5b-929b-7fe32b11af53",
   "metadata": {},
   "outputs": [
    {
     "ename": "TypeError",
     "evalue": "unhashable type: 'dict'",
     "output_type": "error",
     "traceback": [
      "\u001b[0;31m---------------------------------------------------------------------------\u001b[0m",
      "\u001b[0;31mTypeError\u001b[0m                                 Traceback (most recent call last)",
      "Cell \u001b[0;32mIn[21], line 1\u001b[0m\n\u001b[0;32m----> 1\u001b[0m d1\u001b[38;5;241m=\u001b[39m{{\u001b[38;5;124m\"\u001b[39m\u001b[38;5;124mkey\u001b[39m\u001b[38;5;124m\"\u001b[39m:\u001b[38;5;241m1\u001b[39m}:\u001b[38;5;241m1\u001b[39m}\n",
      "\u001b[0;31mTypeError\u001b[0m: unhashable type: 'dict'"
     ]
    }
   ],
   "source": [
    "d1={{\"key\":1}:1}"
   ]
  },
  {
   "cell_type": "code",
   "execution_count": 22,
   "id": "d0f9ad46-aa6c-4d25-abaa-4d07488712aa",
   "metadata": {},
   "outputs": [],
   "source": [
    "d1={\"key\":[1,2,3]}"
   ]
  },
  {
   "cell_type": "code",
   "execution_count": 23,
   "id": "7aabbf68-47c0-4abd-93ca-96f24602acb0",
   "metadata": {},
   "outputs": [
    {
     "data": {
      "text/plain": [
       "{'key': [1, 2, 3]}"
      ]
     },
     "execution_count": 23,
     "metadata": {},
     "output_type": "execute_result"
    }
   ],
   "source": [
    "d1"
   ]
  },
  {
   "cell_type": "code",
   "execution_count": 24,
   "id": "fa761139-7bd4-4eec-bb24-8c5dc916d36d",
   "metadata": {},
   "outputs": [
    {
     "data": {
      "text/plain": [
       "1"
      ]
     },
     "execution_count": 24,
     "metadata": {},
     "output_type": "execute_result"
    }
   ],
   "source": [
    "d1[\"key\"][0]"
   ]
  },
  {
   "cell_type": "code",
   "execution_count": 25,
   "id": "e511ec12-49fc-4974-afc1-2dfeb2227e1a",
   "metadata": {},
   "outputs": [
    {
     "data": {
      "text/plain": [
       "2"
      ]
     },
     "execution_count": 25,
     "metadata": {},
     "output_type": "execute_result"
    }
   ],
   "source": [
    "d1[\"key\"][1]"
   ]
  },
  {
   "cell_type": "code",
   "execution_count": 29,
   "id": "e9a2e3fc-c005-4733-b6aa-8d9f27e6b22a",
   "metadata": {},
   "outputs": [],
   "source": [
    "d1={\"key\":d2}"
   ]
  },
  {
   "cell_type": "code",
   "execution_count": 30,
   "id": "0cc3315a-7992-440b-b1c6-3bab3a1e4e3d",
   "metadata": {},
   "outputs": [
    {
     "data": {
      "text/plain": [
       "{'key': {'name': 'xyz'}}"
      ]
     },
     "execution_count": 30,
     "metadata": {},
     "output_type": "execute_result"
    }
   ],
   "source": [
    "d1"
   ]
  },
  {
   "cell_type": "code",
   "execution_count": 31,
   "id": "d7e937c4-9858-44c6-831f-843d167b5870",
   "metadata": {},
   "outputs": [
    {
     "data": {
      "text/plain": [
       "'xyz'"
      ]
     },
     "execution_count": 31,
     "metadata": {},
     "output_type": "execute_result"
    }
   ],
   "source": [
    "d1[\"key\"][\"name\"]"
   ]
  },
  {
   "cell_type": "code",
   "execution_count": 32,
   "id": "18fc8305-ecb5-4df0-b2d3-cb34e968c6f4",
   "metadata": {},
   "outputs": [],
   "source": [
    "d1={\"key\":{\"key\":1}}"
   ]
  },
  {
   "cell_type": "code",
   "execution_count": 35,
   "id": "49e1b8c0-aed2-4319-b52d-2dc6ecb945ba",
   "metadata": {},
   "outputs": [
    {
     "data": {
      "text/plain": [
       "1"
      ]
     },
     "execution_count": 35,
     "metadata": {},
     "output_type": "execute_result"
    }
   ],
   "source": [
    "d1[\"key\"][\"key\"]"
   ]
  },
  {
   "cell_type": "code",
   "execution_count": 36,
   "id": "e59155f3-acbd-4b3e-a985-faf867da4b6c",
   "metadata": {},
   "outputs": [
    {
     "data": {
      "text/plain": [
       "{'name': 'xyz'}"
      ]
     },
     "execution_count": 36,
     "metadata": {},
     "output_type": "execute_result"
    }
   ],
   "source": [
    "d2"
   ]
  },
  {
   "cell_type": "code",
   "execution_count": 37,
   "id": "817ac692-315a-4c6f-948d-7cbca27b1932",
   "metadata": {},
   "outputs": [],
   "source": [
    "d2[\"name\"]=\"Vishal\""
   ]
  },
  {
   "cell_type": "code",
   "execution_count": 38,
   "id": "ecd0ed92-4ab5-4216-b85d-d0601bdd3fc3",
   "metadata": {},
   "outputs": [
    {
     "data": {
      "text/plain": [
       "{'name': 'Vishal'}"
      ]
     },
     "execution_count": 38,
     "metadata": {},
     "output_type": "execute_result"
    }
   ],
   "source": [
    "d2"
   ]
  },
  {
   "cell_type": "code",
   "execution_count": 40,
   "id": "9e9ec4c4-8659-4b8f-83f6-c565acc8b452",
   "metadata": {},
   "outputs": [],
   "source": [
    "d2[\"age\"]=20"
   ]
  },
  {
   "cell_type": "code",
   "execution_count": 41,
   "id": "9e461011-1a6b-4891-8a0b-1a6b5265b301",
   "metadata": {},
   "outputs": [
    {
     "data": {
      "text/plain": [
       "{'name': 'Vishal', 'age': 20}"
      ]
     },
     "execution_count": 41,
     "metadata": {},
     "output_type": "execute_result"
    }
   ],
   "source": [
    "d2"
   ]
  },
  {
   "cell_type": "code",
   "execution_count": 42,
   "id": "eaef5a03-6bc6-41b8-bc53-bd5b2632a0e2",
   "metadata": {},
   "outputs": [
    {
     "data": {
      "text/plain": [
       "'VISHAL'"
      ]
     },
     "execution_count": 42,
     "metadata": {},
     "output_type": "execute_result"
    }
   ],
   "source": [
    "d2[\"name\"].upper()"
   ]
  },
  {
   "cell_type": "code",
   "execution_count": 80,
   "id": "ca43dfa4-5571-475a-bf3a-b6a645a6779d",
   "metadata": {},
   "outputs": [],
   "source": [
    "d3={\"key\":d2}"
   ]
  },
  {
   "cell_type": "code",
   "execution_count": 81,
   "id": "d422fdcc-fa9b-463f-a2f0-16e0ebccffe9",
   "metadata": {},
   "outputs": [
    {
     "data": {
      "text/plain": [
       "{'key': {'age': 20}}"
      ]
     },
     "execution_count": 81,
     "metadata": {},
     "output_type": "execute_result"
    }
   ],
   "source": [
    "d3"
   ]
  },
  {
   "cell_type": "code",
   "execution_count": 82,
   "id": "56376cb5-42da-460a-a8b9-c62538acfc68",
   "metadata": {},
   "outputs": [],
   "source": [
    "d3[\"key\"][\"gmail\"]=\"@gmail.com\""
   ]
  },
  {
   "cell_type": "code",
   "execution_count": 83,
   "id": "9680fe92-53d0-41dc-a655-667b2c0107dc",
   "metadata": {},
   "outputs": [
    {
     "data": {
      "text/plain": [
       "{'key': {'age': 20, 'gmail': '@gmail.com'}}"
      ]
     },
     "execution_count": 83,
     "metadata": {},
     "output_type": "execute_result"
    }
   ],
   "source": [
    "d3"
   ]
  },
  {
   "cell_type": "code",
   "execution_count": 84,
   "id": "f858afab-0a96-4b06-968e-8a010f23c59f",
   "metadata": {},
   "outputs": [],
   "source": [
    "del d3[\"key\"][\"gmail\"]"
   ]
  },
  {
   "cell_type": "code",
   "execution_count": 85,
   "id": "2f10f3d4-3329-4acc-ba43-901fb6e609ef",
   "metadata": {},
   "outputs": [
    {
     "data": {
      "text/plain": [
       "{'key': {'age': 20}}"
      ]
     },
     "execution_count": 85,
     "metadata": {},
     "output_type": "execute_result"
    }
   ],
   "source": [
    "d3"
   ]
  },
  {
   "cell_type": "code",
   "execution_count": 86,
   "id": "00fab79e-3cc6-42c2-8490-3a1017274e2f",
   "metadata": {},
   "outputs": [],
   "source": [
    "d4={'key': {'name': 'Vishal', 'age': 20, 'gmail': '@gmail.com'}}\n",
    "d4.clear()"
   ]
  },
  {
   "cell_type": "code",
   "execution_count": 87,
   "id": "dd339729-8e79-447e-90f0-9af76a2bc6a2",
   "metadata": {},
   "outputs": [
    {
     "data": {
      "text/plain": [
       "{}"
      ]
     },
     "execution_count": 87,
     "metadata": {},
     "output_type": "execute_result"
    }
   ],
   "source": [
    "d4"
   ]
  },
  {
   "cell_type": "code",
   "execution_count": 88,
   "id": "fccc68b1-b32d-49a3-bf5c-5fe08189e9bf",
   "metadata": {},
   "outputs": [
    {
     "data": {
      "text/plain": [
       "{'key': {'age': 20}}"
      ]
     },
     "execution_count": 88,
     "metadata": {},
     "output_type": "execute_result"
    }
   ],
   "source": [
    "d3"
   ]
  },
  {
   "cell_type": "code",
   "execution_count": 89,
   "id": "b644947a-2e73-40ec-b342-c6e88dbe45db",
   "metadata": {},
   "outputs": [
    {
     "data": {
      "text/plain": [
       "1"
      ]
     },
     "execution_count": 89,
     "metadata": {},
     "output_type": "execute_result"
    }
   ],
   "source": [
    "len(d3)"
   ]
  },
  {
   "cell_type": "code",
   "execution_count": 90,
   "id": "69845bfa-7b75-47af-a93b-84d27c1b4efe",
   "metadata": {},
   "outputs": [
    {
     "data": {
      "text/plain": [
       "dict_keys(['key'])"
      ]
     },
     "execution_count": 90,
     "metadata": {},
     "output_type": "execute_result"
    }
   ],
   "source": [
    "d3.keys()"
   ]
  },
  {
   "cell_type": "code",
   "execution_count": 91,
   "id": "8a512b37-3c2f-4545-9b3c-3ba58113c028",
   "metadata": {},
   "outputs": [
    {
     "data": {
      "text/plain": [
       "dict_values([{'age': 20}])"
      ]
     },
     "execution_count": 91,
     "metadata": {},
     "output_type": "execute_result"
    }
   ],
   "source": [
    "d3.values()"
   ]
  },
  {
   "cell_type": "code",
   "execution_count": 92,
   "id": "ce1bd0f9-3d8e-4596-8f2e-d8a0dd015f8c",
   "metadata": {},
   "outputs": [
    {
     "data": {
      "text/plain": [
       "dict_keys(['age'])"
      ]
     },
     "execution_count": 92,
     "metadata": {},
     "output_type": "execute_result"
    }
   ],
   "source": [
    "d3[\"key\"].keys()"
   ]
  },
  {
   "cell_type": "code",
   "execution_count": 93,
   "id": "8d96f82e-074d-4ef4-8058-4095a4727708",
   "metadata": {},
   "outputs": [
    {
     "data": {
      "text/plain": [
       "['age']"
      ]
     },
     "execution_count": 93,
     "metadata": {},
     "output_type": "execute_result"
    }
   ],
   "source": [
    "list(d3[\"key\"].keys())"
   ]
  },
  {
   "cell_type": "code",
   "execution_count": 94,
   "id": "e1e32fa1-a1f9-4b13-85fd-64115dc68e84",
   "metadata": {},
   "outputs": [
    {
     "data": {
      "text/plain": [
       "[('key', {'age': 20})]"
      ]
     },
     "execution_count": 94,
     "metadata": {},
     "output_type": "execute_result"
    }
   ],
   "source": [
    "list(d3.items())"
   ]
  },
  {
   "cell_type": "code",
   "execution_count": 95,
   "id": "c0330ed6-8b09-46c5-af5f-c3203656feb7",
   "metadata": {},
   "outputs": [],
   "source": [
    "d6=d3"
   ]
  },
  {
   "cell_type": "code",
   "execution_count": 96,
   "id": "a577792e-fcd0-4e99-a3f4-bce76ee7a0bb",
   "metadata": {},
   "outputs": [
    {
     "data": {
      "text/plain": [
       "{'key': {'age': 20}}"
      ]
     },
     "execution_count": 96,
     "metadata": {},
     "output_type": "execute_result"
    }
   ],
   "source": [
    "d6"
   ]
  },
  {
   "cell_type": "code",
   "execution_count": 97,
   "id": "8ece1368-c2c3-47c9-ab6f-8e0229e00def",
   "metadata": {},
   "outputs": [],
   "source": [
    "d7=d3.copy()"
   ]
  },
  {
   "cell_type": "code",
   "execution_count": 101,
   "id": "9737c9fa-f899-4abb-9ce5-2a80c822efc1",
   "metadata": {},
   "outputs": [
    {
     "data": {
      "text/plain": [
       "{'key': {'age': 20}}"
      ]
     },
     "execution_count": 101,
     "metadata": {},
     "output_type": "execute_result"
    }
   ],
   "source": [
    "d7"
   ]
  },
  {
   "cell_type": "code",
   "execution_count": 103,
   "id": "59fdb8d9-3959-4114-a567-a6277a236dc0",
   "metadata": {},
   "outputs": [],
   "source": [
    "del d3[\"key\"]"
   ]
  },
  {
   "cell_type": "code",
   "execution_count": 104,
   "id": "4869c840-71ed-48a3-babe-4e1856b771ef",
   "metadata": {},
   "outputs": [
    {
     "data": {
      "text/plain": [
       "{}"
      ]
     },
     "execution_count": 104,
     "metadata": {},
     "output_type": "execute_result"
    }
   ],
   "source": [
    "d3"
   ]
  },
  {
   "cell_type": "code",
   "execution_count": 105,
   "id": "613bd7ef-35de-4989-9e99-b91d63271ad6",
   "metadata": {},
   "outputs": [
    {
     "data": {
      "text/plain": [
       "{'key': {'age': 20}}"
      ]
     },
     "execution_count": 105,
     "metadata": {},
     "output_type": "execute_result"
    }
   ],
   "source": [
    "d7\n"
   ]
  },
  {
   "cell_type": "code",
   "execution_count": 106,
   "id": "22980b4b-2a25-4a12-8ea6-1da52f436481",
   "metadata": {},
   "outputs": [],
   "source": [
    "d={'key': {'name': 'Vishal', 'age': 20, 'gmail': '@gmail.com'}}"
   ]
  },
  {
   "cell_type": "code",
   "execution_count": 108,
   "id": "db8119f9-6a6e-49f4-bbac-361cd7db228b",
   "metadata": {},
   "outputs": [
    {
     "data": {
      "text/plain": [
       "{'name': 'Vishal', 'age': 20, 'gmail': '@gmail.com'}"
      ]
     },
     "execution_count": 108,
     "metadata": {},
     "output_type": "execute_result"
    }
   ],
   "source": [
    "d.pop(\"key\")"
   ]
  },
  {
   "cell_type": "code",
   "execution_count": 109,
   "id": "30cf79a8-2b16-48b4-b034-d2e87562c528",
   "metadata": {},
   "outputs": [
    {
     "data": {
      "text/plain": [
       "{}"
      ]
     },
     "execution_count": 109,
     "metadata": {},
     "output_type": "execute_result"
    }
   ],
   "source": [
    "d"
   ]
  },
  {
   "cell_type": "markdown",
   "id": "a1c2c422-71e1-4151-9ff3-973c515dd5f1",
   "metadata": {},
   "source": [
    "## Dictionary Comprehension"
   ]
  },
  {
   "cell_type": "code",
   "execution_count": 3,
   "id": "ca7bb123-0575-4549-af39-5cbf18358f36",
   "metadata": {},
   "outputs": [
    {
     "data": {
      "text/plain": [
       "{1: 1, 2: 4, 3: 9, 4: 16, 5: 25}"
      ]
     },
     "execution_count": 3,
     "metadata": {},
     "output_type": "execute_result"
    }
   ],
   "source": [
    "{i: i**2 for i in range(1,6)}"
   ]
  },
  {
   "cell_type": "code",
   "execution_count": null,
   "id": "c08377bb-cdb1-4dd2-8b6c-4a6c3d415630",
   "metadata": {},
   "outputs": [],
   "source": []
  }
 ],
 "metadata": {
  "kernelspec": {
   "display_name": "Python 3 (ipykernel)",
   "language": "python",
   "name": "python3"
  },
  "language_info": {
   "codemirror_mode": {
    "name": "ipython",
    "version": 3
   },
   "file_extension": ".py",
   "mimetype": "text/x-python",
   "name": "python",
   "nbconvert_exporter": "python",
   "pygments_lexer": "ipython3",
   "version": "3.10.8"
  }
 },
 "nbformat": 4,
 "nbformat_minor": 5
}
