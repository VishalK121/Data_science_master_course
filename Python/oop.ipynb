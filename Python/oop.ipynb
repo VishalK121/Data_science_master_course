{
 "cells": [
  {
   "cell_type": "markdown",
   "id": "70d79883-2c86-4351-977e-03cb054ece46",
   "metadata": {},
   "source": [
    "# Class"
   ]
  },
  {
   "cell_type": "code",
   "execution_count": 1,
   "id": "b10e71d4-83b9-450f-b07b-8655bec62290",
   "metadata": {},
   "outputs": [
    {
     "name": "stdout",
     "output_type": "stream",
     "text": [
      "<class 'int'>\n"
     ]
    }
   ],
   "source": [
    "a=1\n",
    "print(type(a))"
   ]
  },
  {
   "cell_type": "markdown",
   "id": "e5e7224d-c2ca-4911-9abc-40bbbbf8a15e",
   "metadata": {},
   "source": [
    "Class:- blueprint / real world entity"
   ]
  },
  {
   "cell_type": "code",
   "execution_count": 2,
   "id": "4687f380-d197-4cc1-8daf-3f858144c18c",
   "metadata": {},
   "outputs": [],
   "source": [
    "class test:\n",
    "    pass"
   ]
  },
  {
   "cell_type": "code",
   "execution_count": 3,
   "id": "2b82957d-3b19-49a8-bdf9-dd9d011b98f0",
   "metadata": {},
   "outputs": [
    {
     "name": "stdout",
     "output_type": "stream",
     "text": [
      "<class '__main__.test'>\n"
     ]
    }
   ],
   "source": [
    "a=test() #a is object\n",
    "print(type(a))"
   ]
  },
  {
   "cell_type": "code",
   "execution_count": 4,
   "id": "ec61b3c3-07f0-4715-a1c3-034a5d16f74f",
   "metadata": {},
   "outputs": [],
   "source": [
    "class test1:\n",
    "    def display(self):\n",
    "        print(\"Hello World!\")"
   ]
  },
  {
   "cell_type": "code",
   "execution_count": 5,
   "id": "cd0a7d18-ffe1-4366-9221-380edec609ea",
   "metadata": {},
   "outputs": [],
   "source": [
    "b=test1()"
   ]
  },
  {
   "cell_type": "code",
   "execution_count": 6,
   "id": "cdfd3fc6-d29c-40b6-8b7b-c5471f8e14cf",
   "metadata": {},
   "outputs": [
    {
     "name": "stdout",
     "output_type": "stream",
     "text": [
      "Hello World!\n"
     ]
    }
   ],
   "source": [
    "b.display()"
   ]
  },
  {
   "cell_type": "code",
   "execution_count": 7,
   "id": "1b253cc7-ae6b-4cc3-aec9-96efccdd146c",
   "metadata": {},
   "outputs": [],
   "source": [
    "class A:\n",
    "    def __init__(self,name,phone,email): # self is reference.\n",
    "        self.name=name\n",
    "        self.phone=phone\n",
    "        self.email=email\n",
    "    def display(self):\n",
    "        return self.name,self.phone,self.email"
   ]
  },
  {
   "cell_type": "code",
   "execution_count": 8,
   "id": "32e1eced-0188-4430-a091-da06e56202dd",
   "metadata": {},
   "outputs": [],
   "source": [
    "vishal=A(\"Vishal\",80233829,\"demo@gmail.com\")"
   ]
  },
  {
   "cell_type": "code",
   "execution_count": 9,
   "id": "6fb40cbe-997d-4812-a893-077810811be2",
   "metadata": {},
   "outputs": [
    {
     "name": "stdout",
     "output_type": "stream",
     "text": [
      "('Vishal', 80233829, 'demo@gmail.com')\n"
     ]
    }
   ],
   "source": [
    "print(vishal.display())"
   ]
  },
  {
   "cell_type": "code",
   "execution_count": 10,
   "id": "c41b1577-6b0c-4ba6-9b6a-4d9cd9f05615",
   "metadata": {},
   "outputs": [],
   "source": [
    "class A:\n",
    "    def __init__(self,name,phone,email):\n",
    "        self.name=name\n",
    "        self.mob=phone\n",
    "        self.email=email\n",
    "    def display(self):\n",
    "        return self.name,self.mob,self.email"
   ]
  },
  {
   "cell_type": "code",
   "execution_count": 11,
   "id": "24665846-acbc-4233-93a7-1611937bb0ea",
   "metadata": {},
   "outputs": [],
   "source": [
    "n=A(\"Vishal\",80233829,\"demo@gmail.com\")"
   ]
  },
  {
   "cell_type": "code",
   "execution_count": 12,
   "id": "0957999b-fcb7-469b-87ec-67d499e5bb61",
   "metadata": {},
   "outputs": [
    {
     "name": "stdout",
     "output_type": "stream",
     "text": [
      "('Vishal', 80233829, 'demo@gmail.com')\n"
     ]
    }
   ],
   "source": [
    "print(n.display())"
   ]
  },
  {
   "cell_type": "code",
   "execution_count": 13,
   "id": "c1d3f5ce-87c7-4b1e-82a6-48c701b6d278",
   "metadata": {},
   "outputs": [
    {
     "data": {
      "text/plain": [
       "'Vishal'"
      ]
     },
     "execution_count": 13,
     "metadata": {},
     "output_type": "execute_result"
    }
   ],
   "source": [
    "n.name"
   ]
  },
  {
   "cell_type": "code",
   "execution_count": 14,
   "id": "af3d1da4-da57-4fb3-9ef7-dc6c1192d110",
   "metadata": {},
   "outputs": [
    {
     "data": {
      "text/plain": [
       "80233829"
      ]
     },
     "execution_count": 14,
     "metadata": {},
     "output_type": "execute_result"
    }
   ],
   "source": [
    "n.mob"
   ]
  },
  {
   "cell_type": "markdown",
   "id": "aecb98b7-fb6f-4fd8-8ada-8188d236f9a0",
   "metadata": {},
   "source": [
    "## Polymorphism"
   ]
  },
  {
   "cell_type": "code",
   "execution_count": 15,
   "id": "5e5ff18d-1b2f-4a5e-9aa0-a59b9f7f5bf2",
   "metadata": {},
   "outputs": [],
   "source": [
    "def abc(a,b):\n",
    "    return a+b"
   ]
  },
  {
   "cell_type": "code",
   "execution_count": 16,
   "id": "3ebca2c1-2c14-4dab-ba33-8f59e33cbd09",
   "metadata": {},
   "outputs": [
    {
     "data": {
      "text/plain": [
       "5"
      ]
     },
     "execution_count": 16,
     "metadata": {},
     "output_type": "execute_result"
    }
   ],
   "source": [
    "abc(1,4)"
   ]
  },
  {
   "cell_type": "code",
   "execution_count": 17,
   "id": "c3814970-f720-4b25-a1a1-b0182393cf60",
   "metadata": {},
   "outputs": [
    {
     "data": {
      "text/plain": [
       "'Vishal Khot'"
      ]
     },
     "execution_count": 17,
     "metadata": {},
     "output_type": "execute_result"
    }
   ],
   "source": [
    "abc(\"Vishal \",\"Khot\")"
   ]
  },
  {
   "cell_type": "code",
   "execution_count": 18,
   "id": "0f451874-b471-4f72-b886-2bb96b078d4e",
   "metadata": {},
   "outputs": [
    {
     "data": {
      "text/plain": [
       "[1, 2, 3, 4, 5, 6, 7, 8, 1]"
      ]
     },
     "execution_count": 18,
     "metadata": {},
     "output_type": "execute_result"
    }
   ],
   "source": [
    "abc([1,2,3,4,5],[6,7,8,1])"
   ]
  },
  {
   "cell_type": "code",
   "execution_count": 19,
   "id": "6778d326-a39a-4025-9b9f-5c28e9709a56",
   "metadata": {},
   "outputs": [],
   "source": [
    "class A:\n",
    "    def display(self):\n",
    "        print(\"This is method for class A\")"
   ]
  },
  {
   "cell_type": "code",
   "execution_count": 20,
   "id": "6c762269-9a1c-470f-a53b-dfc6140aecb3",
   "metadata": {},
   "outputs": [],
   "source": [
    "class B:\n",
    "    def display(self):\n",
    "        print(\"This is method for class B\")"
   ]
  },
  {
   "cell_type": "code",
   "execution_count": 21,
   "id": "c46d875a-31ed-439a-87cd-115dc63ddede",
   "metadata": {},
   "outputs": [],
   "source": [
    "a=A()"
   ]
  },
  {
   "cell_type": "code",
   "execution_count": 22,
   "id": "9f976e61-f264-4b47-8b50-ed9d3aa49131",
   "metadata": {},
   "outputs": [],
   "source": [
    "b=B()"
   ]
  },
  {
   "cell_type": "code",
   "execution_count": 23,
   "id": "5f2c3e48-8e58-4583-8620-8660e564c967",
   "metadata": {},
   "outputs": [],
   "source": [
    "class_obj=[a,b]"
   ]
  },
  {
   "cell_type": "code",
   "execution_count": 24,
   "id": "23121317-5675-4b47-9fcb-3910219c35d2",
   "metadata": {},
   "outputs": [
    {
     "name": "stdout",
     "output_type": "stream",
     "text": [
      "This is method for class A\n",
      "This is method for class B\n"
     ]
    }
   ],
   "source": [
    "for i in class_obj:\n",
    "    i.display()"
   ]
  },
  {
   "cell_type": "markdown",
   "id": "6a421a58-2db3-4645-9c87-72fe97f21152",
   "metadata": {},
   "source": [
    "# Encapsulation"
   ]
  },
  {
   "cell_type": "code",
   "execution_count": 25,
   "id": "b6e7c84f-33fb-47ad-863e-02f88630fbbc",
   "metadata": {},
   "outputs": [],
   "source": [
    "class test2:\n",
    "    def __init__(self,a,b):\n",
    "        self.a=a\n",
    "        self.b=b"
   ]
  },
  {
   "cell_type": "code",
   "execution_count": 26,
   "id": "ea364c82-75b0-435f-8414-cfd10c9be95f",
   "metadata": {},
   "outputs": [],
   "source": [
    "a=test2(1,2)"
   ]
  },
  {
   "cell_type": "code",
   "execution_count": 27,
   "id": "24357e17-f448-4d81-9c3c-0e28482392b6",
   "metadata": {},
   "outputs": [
    {
     "data": {
      "text/plain": [
       "1"
      ]
     },
     "execution_count": 27,
     "metadata": {},
     "output_type": "execute_result"
    }
   ],
   "source": [
    "a.a"
   ]
  },
  {
   "cell_type": "code",
   "execution_count": 28,
   "id": "13f1468c-1ac8-4eb2-8564-0ad37c61b60c",
   "metadata": {},
   "outputs": [],
   "source": [
    "a.a=21973"
   ]
  },
  {
   "cell_type": "code",
   "execution_count": 29,
   "id": "88cf582f-ce69-4ec8-8e7c-293ba6fc1456",
   "metadata": {},
   "outputs": [
    {
     "data": {
      "text/plain": [
       "21973"
      ]
     },
     "execution_count": 29,
     "metadata": {},
     "output_type": "execute_result"
    }
   ],
   "source": [
    "a.a"
   ]
  },
  {
   "cell_type": "code",
   "execution_count": 30,
   "id": "15e8b230-eca1-484f-b24e-756fef9dab18",
   "metadata": {},
   "outputs": [],
   "source": [
    "class car:\n",
    "    def __init__(self,name,year,speed):\n",
    "        self.__name=name\n",
    "        self.__year=year\n",
    "        self.__speed=speed\n",
    "    "
   ]
  },
  {
   "cell_type": "code",
   "execution_count": 31,
   "id": "d7d45053-cc48-4d98-a848-a6134a94c9ff",
   "metadata": {},
   "outputs": [],
   "source": [
    "a=car(\"BMW\",2020,200)"
   ]
  },
  {
   "cell_type": "code",
   "execution_count": 32,
   "id": "815cae52-453b-493c-ba80-949408d3790a",
   "metadata": {},
   "outputs": [
    {
     "ename": "AttributeError",
     "evalue": "'car' object has no attribute '__name'",
     "output_type": "error",
     "traceback": [
      "\u001b[0;31m---------------------------------------------------------------------------\u001b[0m",
      "\u001b[0;31mAttributeError\u001b[0m                            Traceback (most recent call last)",
      "Cell \u001b[0;32mIn[32], line 1\u001b[0m\n\u001b[0;32m----> 1\u001b[0m \u001b[43ma\u001b[49m\u001b[38;5;241;43m.\u001b[39;49m\u001b[43m__name\u001b[49m\n",
      "\u001b[0;31mAttributeError\u001b[0m: 'car' object has no attribute '__name'"
     ]
    }
   ],
   "source": [
    "a.__name"
   ]
  },
  {
   "cell_type": "code",
   "execution_count": 33,
   "id": "279b85b3-65b6-4644-a0ba-123b7943515a",
   "metadata": {},
   "outputs": [
    {
     "data": {
      "text/plain": [
       "'BMW'"
      ]
     },
     "execution_count": 33,
     "metadata": {},
     "output_type": "execute_result"
    }
   ],
   "source": [
    "a._car__name"
   ]
  },
  {
   "cell_type": "code",
   "execution_count": 34,
   "id": "2bac51a5-e8f2-4210-b4ae-c65c558659ae",
   "metadata": {},
   "outputs": [],
   "source": [
    "a._car__name=\"Mercedes\""
   ]
  },
  {
   "cell_type": "code",
   "execution_count": 35,
   "id": "1a7d8542-e890-4643-a16c-811691141be0",
   "metadata": {},
   "outputs": [
    {
     "data": {
      "text/plain": [
       "'Mercedes'"
      ]
     },
     "execution_count": 35,
     "metadata": {},
     "output_type": "execute_result"
    }
   ],
   "source": [
    "a._car__name"
   ]
  },
  {
   "cell_type": "code",
   "execution_count": 36,
   "id": "6812e674-7efc-4e4c-8015-3fbc313b7084",
   "metadata": {},
   "outputs": [],
   "source": [
    "class car:\n",
    "    def __init__(self,name,year,speed):\n",
    "        self.__name=name\n",
    "        self.__year=year\n",
    "        self.__speed=speed\n",
    "    def set_speed(self,speed):\n",
    "        self.__speed=0 if speed<0 else speed"
   ]
  },
  {
   "cell_type": "code",
   "execution_count": 37,
   "id": "8d8e9fc6-fc38-4020-90d2-b52dc5f8d327",
   "metadata": {},
   "outputs": [],
   "source": [
    "a=car(\"BMW\",2020,200)"
   ]
  },
  {
   "cell_type": "code",
   "execution_count": 38,
   "id": "9296a24f-5c8d-4803-9390-90507d579c98",
   "metadata": {},
   "outputs": [],
   "source": [
    "a.set_speed(120)"
   ]
  },
  {
   "cell_type": "code",
   "execution_count": 39,
   "id": "9c8b5a15-46cd-46bd-bc8f-2b3a6d950ff4",
   "metadata": {},
   "outputs": [
    {
     "data": {
      "text/plain": [
       "120"
      ]
     },
     "execution_count": 39,
     "metadata": {},
     "output_type": "execute_result"
    }
   ],
   "source": [
    "a._car__speed"
   ]
  },
  {
   "cell_type": "code",
   "execution_count": 40,
   "id": "268d1073-d477-4d9c-8d83-6818cec5735a",
   "metadata": {},
   "outputs": [],
   "source": [
    "a.set_speed(-120)"
   ]
  },
  {
   "cell_type": "code",
   "execution_count": 41,
   "id": "966a4792-5978-4fcf-9efc-1e47f264bbbe",
   "metadata": {},
   "outputs": [
    {
     "data": {
      "text/plain": [
       "0"
      ]
     },
     "execution_count": 41,
     "metadata": {},
     "output_type": "execute_result"
    }
   ],
   "source": [
    "a._car__speed"
   ]
  },
  {
   "cell_type": "code",
   "execution_count": 42,
   "id": "562f4b72-fe21-43b3-bde3-209bcf206ad7",
   "metadata": {},
   "outputs": [],
   "source": [
    "class car:\n",
    "    def __init__(self,name,year,speed):\n",
    "        self.__name=name\n",
    "        self.__year=year\n",
    "        self.__speed=speed\n",
    "    def set_speed(self,speed):\n",
    "        self.__speed=0 if speed<0 else speed\n",
    "    def display(self):\n",
    "        return self.__speed"
   ]
  },
  {
   "cell_type": "code",
   "execution_count": 43,
   "id": "2c046c26-d255-43f6-90ad-379d5d398528",
   "metadata": {},
   "outputs": [],
   "source": [
    "a=car(\"BMW\",2020,200)"
   ]
  },
  {
   "cell_type": "code",
   "execution_count": 44,
   "id": "3861d881-29eb-48c0-8a68-1e656a537bb0",
   "metadata": {},
   "outputs": [
    {
     "data": {
      "text/plain": [
       "200"
      ]
     },
     "execution_count": 44,
     "metadata": {},
     "output_type": "execute_result"
    }
   ],
   "source": [
    "a.display()"
   ]
  },
  {
   "cell_type": "code",
   "execution_count": 53,
   "id": "d371d19e-8cdd-43e4-8ec4-ab76b03f9d1c",
   "metadata": {},
   "outputs": [],
   "source": [
    "class Bank:\n",
    "    def __init__(self,balance):\n",
    "        self.__balance=balance\n",
    "    def deposit(self,amount):\n",
    "        self.__balance=self.__balance+amount\n",
    "    def withdraw(self,amount):\n",
    "        if(self.__balance>amount):\n",
    "            self.__balance-=amount\n",
    "            return True\n",
    "        else:\n",
    "            return False\n",
    "    def get_balance(self):\n",
    "        return self.__balance\n",
    "    "
   ]
  },
  {
   "cell_type": "code",
   "execution_count": 54,
   "id": "c1686fb1-facd-445c-8d54-7fdcdca51796",
   "metadata": {},
   "outputs": [],
   "source": [
    "a=Bank(1000)"
   ]
  },
  {
   "cell_type": "code",
   "execution_count": 55,
   "id": "f091ddb2-e5b2-4c3f-bea8-884f72191a44",
   "metadata": {},
   "outputs": [],
   "source": [
    "a.deposit(300)"
   ]
  },
  {
   "cell_type": "code",
   "execution_count": 56,
   "id": "53e8c88e-5eb7-426e-86cf-d289206f06ec",
   "metadata": {},
   "outputs": [
    {
     "data": {
      "text/plain": [
       "1300"
      ]
     },
     "execution_count": 56,
     "metadata": {},
     "output_type": "execute_result"
    }
   ],
   "source": [
    "a.get_balance()"
   ]
  },
  {
   "cell_type": "code",
   "execution_count": 57,
   "id": "7f9ac081-1292-41d5-87f3-cadd219b96a1",
   "metadata": {},
   "outputs": [
    {
     "data": {
      "text/plain": [
       "False"
      ]
     },
     "execution_count": 57,
     "metadata": {},
     "output_type": "execute_result"
    }
   ],
   "source": [
    "a.withdraw(1400)"
   ]
  },
  {
   "cell_type": "code",
   "execution_count": 58,
   "id": "efbed5ad-9e65-4234-8917-347465421c47",
   "metadata": {},
   "outputs": [
    {
     "data": {
      "text/plain": [
       "True"
      ]
     },
     "execution_count": 58,
     "metadata": {},
     "output_type": "execute_result"
    }
   ],
   "source": [
    "a.withdraw(400)"
   ]
  },
  {
   "cell_type": "code",
   "execution_count": 59,
   "id": "ccf1b2f0-4168-4412-a9e3-b2b16e645b0c",
   "metadata": {},
   "outputs": [
    {
     "data": {
      "text/plain": [
       "900"
      ]
     },
     "execution_count": 59,
     "metadata": {},
     "output_type": "execute_result"
    }
   ],
   "source": [
    "a.get_balance()"
   ]
  },
  {
   "cell_type": "markdown",
   "id": "f686ac66-5e2d-42d5-80f8-c9dda23ac5e9",
   "metadata": {},
   "source": [
    "# Inheritance"
   ]
  },
  {
   "cell_type": "code",
   "execution_count": 60,
   "id": "151a21e1-62e1-4287-8efd-603eb785862c",
   "metadata": {},
   "outputs": [],
   "source": [
    "class parent:\n",
    "    def display(self):\n",
    "        print(\"This is parent class function\")"
   ]
  },
  {
   "cell_type": "code",
   "execution_count": 61,
   "id": "bc342472-13fc-4231-be68-08ee8d5d4e18",
   "metadata": {},
   "outputs": [],
   "source": [
    "class child(parent):\n",
    "    pass"
   ]
  },
  {
   "cell_type": "code",
   "execution_count": 62,
   "id": "3e83f4c6-0ac4-4dbc-8dd2-c0b418702bbb",
   "metadata": {},
   "outputs": [],
   "source": [
    "a=child()"
   ]
  },
  {
   "cell_type": "code",
   "execution_count": 63,
   "id": "b0c7b967-9728-4944-b15a-84990fcd2206",
   "metadata": {},
   "outputs": [
    {
     "name": "stdout",
     "output_type": "stream",
     "text": [
      "This is parent class function\n"
     ]
    }
   ],
   "source": [
    "a.display()"
   ]
  },
  {
   "cell_type": "markdown",
   "id": "b298faa6-2e74-4e2a-bd46-8e55cf85b679",
   "metadata": {},
   "source": [
    "#### Multilevel Inheritance"
   ]
  },
  {
   "cell_type": "code",
   "execution_count": 64,
   "id": "15d4cdcb-2c58-430d-99c6-2f4a24636690",
   "metadata": {},
   "outputs": [],
   "source": [
    "class class1:\n",
    "    def display(self):\n",
    "        print(\"This is my class1\")"
   ]
  },
  {
   "cell_type": "code",
   "execution_count": 66,
   "id": "1424b06d-2696-4f6c-a880-834dc71f80d4",
   "metadata": {},
   "outputs": [],
   "source": [
    "class class2(class1):\n",
    "    def display2(self):\n",
    "        print(\"This is my class2\")"
   ]
  },
  {
   "cell_type": "code",
   "execution_count": 67,
   "id": "4207f811-3956-4f84-bbd5-729f12ed1ee7",
   "metadata": {},
   "outputs": [],
   "source": [
    "class class3(class2):\n",
    "    def display3(self):\n",
    "        print(\"This is my class3\")"
   ]
  },
  {
   "cell_type": "code",
   "execution_count": 68,
   "id": "355d63b2-11a8-4ac8-a67e-005e46ed396c",
   "metadata": {},
   "outputs": [],
   "source": [
    "a=class3()"
   ]
  },
  {
   "cell_type": "code",
   "execution_count": 69,
   "id": "1ad00345-ded6-414d-8c9a-eeb88a531206",
   "metadata": {},
   "outputs": [
    {
     "name": "stdout",
     "output_type": "stream",
     "text": [
      "This is my class1\n"
     ]
    }
   ],
   "source": [
    "a.display()"
   ]
  },
  {
   "cell_type": "code",
   "execution_count": 70,
   "id": "ddd49951-fb92-414a-817a-2a73b6d63d35",
   "metadata": {},
   "outputs": [
    {
     "name": "stdout",
     "output_type": "stream",
     "text": [
      "This is my class2\n"
     ]
    }
   ],
   "source": [
    "a.display2()"
   ]
  },
  {
   "cell_type": "code",
   "execution_count": 71,
   "id": "650355d4-1934-4d1a-b7e1-fe5ace13b7b0",
   "metadata": {},
   "outputs": [
    {
     "name": "stdout",
     "output_type": "stream",
     "text": [
      "This is my class3\n"
     ]
    }
   ],
   "source": [
    "a.display3()"
   ]
  },
  {
   "cell_type": "markdown",
   "id": "414c3b34-302a-4f02-b3c1-b7c20ca87035",
   "metadata": {},
   "source": [
    "#### Multiple Inheritance"
   ]
  },
  {
   "cell_type": "code",
   "execution_count": 72,
   "id": "509e246a-4d0f-4d58-b4aa-e067674f87b9",
   "metadata": {},
   "outputs": [],
   "source": [
    "class class1:\n",
    "    def display(self):\n",
    "        print(\"This is my class1\")"
   ]
  },
  {
   "cell_type": "code",
   "execution_count": 85,
   "id": "67dd3cbf-34d2-4b9c-9dfb-5e940405cb3c",
   "metadata": {},
   "outputs": [],
   "source": [
    "class class2:\n",
    "    def display2(self):\n",
    "        print(\"This is my class2\")"
   ]
  },
  {
   "cell_type": "code",
   "execution_count": 86,
   "id": "ca58a1f3-b61f-4738-af4e-4ce1f9fe5c8e",
   "metadata": {},
   "outputs": [],
   "source": [
    "class class3(class1,class2):\n",
    "    def display3(self):\n",
    "        pass"
   ]
  },
  {
   "cell_type": "code",
   "execution_count": 87,
   "id": "cfc185ab-d136-4e3d-a2d9-297560faa8f5",
   "metadata": {},
   "outputs": [],
   "source": [
    "a=class3()"
   ]
  },
  {
   "cell_type": "code",
   "execution_count": 88,
   "id": "62941e07-89c4-4f61-881f-209a826d48db",
   "metadata": {},
   "outputs": [
    {
     "name": "stdout",
     "output_type": "stream",
     "text": [
      "This is my class1\n"
     ]
    }
   ],
   "source": [
    "a.display()"
   ]
  },
  {
   "cell_type": "code",
   "execution_count": 89,
   "id": "f9ae245b-cec7-4e53-b276-48e69df6d3d7",
   "metadata": {},
   "outputs": [
    {
     "name": "stdout",
     "output_type": "stream",
     "text": [
      "This is my class2\n"
     ]
    }
   ],
   "source": [
    "a.display2()"
   ]
  },
  {
   "cell_type": "code",
   "execution_count": 90,
   "id": "0536fb94-7bdb-4add-9f9d-7b4a78675d04",
   "metadata": {},
   "outputs": [],
   "source": [
    "b=class2()"
   ]
  },
  {
   "cell_type": "markdown",
   "id": "fd749189-062e-4009-84b6-ca7bbee91f34",
   "metadata": {},
   "source": [
    "### Abstraction"
   ]
  },
  {
   "cell_type": "code",
   "execution_count": 2,
   "id": "e0003112-bc04-4912-883b-01fede4a0780",
   "metadata": {},
   "outputs": [],
   "source": [
    "import abc"
   ]
  },
  {
   "cell_type": "code",
   "execution_count": 3,
   "id": "71ced75c-45e4-40cc-92a6-70d468358a87",
   "metadata": {},
   "outputs": [],
   "source": [
    "class student:\n",
    "    @abc.abstractmethod\n",
    "    def name(self):\n",
    "        pass\n",
    "    \n",
    "    @abc.abstractmethod\n",
    "    def roll(self):\n",
    "        pass\n",
    "    \n",
    "    @abc.abstractmethod\n",
    "    def div(self):\n",
    "        pass"
   ]
  },
  {
   "cell_type": "code",
   "execution_count": 4,
   "id": "14cdc6af-9a66-48df-a01d-373d3adc0218",
   "metadata": {},
   "outputs": [],
   "source": [
    "class student1(student):\n",
    "    def name(self):\n",
    "        return \"It will return name of student\"\n",
    "    def roll(self):\n",
    "        return \"It will return roll no of student\"\n",
    "    "
   ]
  },
  {
   "cell_type": "code",
   "execution_count": 5,
   "id": "81b45f03-8d3c-46b1-800d-3e64f48b7075",
   "metadata": {},
   "outputs": [],
   "source": [
    "class student2(student):\n",
    "    def div(self):\n",
    "        return \"It will return division of student\""
   ]
  },
  {
   "cell_type": "code",
   "execution_count": 6,
   "id": "226a7490-ba02-4d1c-b8fe-a910b9563c9d",
   "metadata": {},
   "outputs": [],
   "source": [
    "a=student1()"
   ]
  },
  {
   "cell_type": "code",
   "execution_count": 7,
   "id": "a26f3c6c-8fc1-4363-94ed-988de11f4ad4",
   "metadata": {},
   "outputs": [],
   "source": [
    "a.div()"
   ]
  },
  {
   "cell_type": "code",
   "execution_count": 8,
   "id": "0c0aca25-6382-495b-8c60-ad92274952b4",
   "metadata": {},
   "outputs": [
    {
     "data": {
      "text/plain": [
       "'It will return name of student'"
      ]
     },
     "execution_count": 8,
     "metadata": {},
     "output_type": "execute_result"
    }
   ],
   "source": [
    "a.name()"
   ]
  },
  {
   "cell_type": "code",
   "execution_count": 9,
   "id": "e1ad3b2f-ad22-4b40-950b-17771f1c24be",
   "metadata": {},
   "outputs": [],
   "source": [
    "b=student2()"
   ]
  },
  {
   "cell_type": "code",
   "execution_count": 10,
   "id": "d1c1e27d-e7ec-4ede-a478-6b8085afc81d",
   "metadata": {},
   "outputs": [
    {
     "data": {
      "text/plain": [
       "'It will return division of student'"
      ]
     },
     "execution_count": 10,
     "metadata": {},
     "output_type": "execute_result"
    }
   ],
   "source": [
    "b.div()"
   ]
  },
  {
   "cell_type": "markdown",
   "id": "fbdb11c6-dff7-46bd-9434-bec550418c9c",
   "metadata": {},
   "source": [
    "### decorators"
   ]
  },
  {
   "cell_type": "code",
   "execution_count": 11,
   "id": "337cd181-2032-473f-b7a9-d6c2272b9662",
   "metadata": {},
   "outputs": [],
   "source": [
    "def fun():\n",
    "    print(\"This is start of my func\")\n",
    "    print(3+2)\n",
    "    print(\"This is end of my func\")"
   ]
  },
  {
   "cell_type": "code",
   "execution_count": 12,
   "id": "b8ecd7b8-b97b-44fd-88f2-d6dcbcf46695",
   "metadata": {},
   "outputs": [
    {
     "name": "stdout",
     "output_type": "stream",
     "text": [
      "This is start of my func\n",
      "5\n",
      "This is end of my func\n"
     ]
    }
   ],
   "source": [
    "fun()"
   ]
  },
  {
   "cell_type": "code",
   "execution_count": 13,
   "id": "dd8e0f21-e571-4a6d-adc4-3d4736b63f30",
   "metadata": {},
   "outputs": [],
   "source": [
    "def deco(func):\n",
    "    def inner_deco():\n",
    "        print(\"This is start of my func\")\n",
    "        func()\n",
    "        print(\"This is end of my func\")\n",
    "    return inner_deco"
   ]
  },
  {
   "cell_type": "code",
   "execution_count": 14,
   "id": "8281b5bc-ca60-47e5-9730-e84e263e75c0",
   "metadata": {},
   "outputs": [],
   "source": [
    "@deco\n",
    "def test():\n",
    "    print(3+7)"
   ]
  },
  {
   "cell_type": "code",
   "execution_count": 15,
   "id": "e9832199-1bd8-4fe5-869c-324b1a5f752b",
   "metadata": {},
   "outputs": [
    {
     "name": "stdout",
     "output_type": "stream",
     "text": [
      "This is start of my func\n",
      "10\n",
      "This is end of my func\n"
     ]
    }
   ],
   "source": [
    "test()"
   ]
  },
  {
   "cell_type": "code",
   "execution_count": 16,
   "id": "d49e94eb-3505-450d-8b24-ded305ecea5d",
   "metadata": {},
   "outputs": [],
   "source": [
    "import time\n",
    "def time_test(func): \n",
    "    def inner_time_test():\n",
    "        start=time.time()\n",
    "        func()\n",
    "        end=time.time()\n",
    "        print(end-start)\n",
    "    return inner_time_test\n"
   ]
  },
  {
   "cell_type": "code",
   "execution_count": 17,
   "id": "09aa2e58-74f2-40c3-8dab-1272223c4aa8",
   "metadata": {},
   "outputs": [],
   "source": [
    "@time_test\n",
    "def test1():\n",
    "    print(3+45)"
   ]
  },
  {
   "cell_type": "code",
   "execution_count": 18,
   "id": "5591cc9c-bb93-43d2-ae27-8387a6310d10",
   "metadata": {},
   "outputs": [
    {
     "name": "stdout",
     "output_type": "stream",
     "text": [
      "48\n",
      "4.38690185546875e-05\n"
     ]
    }
   ],
   "source": [
    "test1()"
   ]
  },
  {
   "cell_type": "code",
   "execution_count": 19,
   "id": "cfabfd6d-d7c8-4f3c-84be-4afc4f194630",
   "metadata": {},
   "outputs": [],
   "source": [
    "@time_test\n",
    "def a():\n",
    "    for i in range(1000000):\n",
    "        pass"
   ]
  },
  {
   "cell_type": "code",
   "execution_count": 20,
   "id": "d524044d-8a95-4f05-81ab-b5dc5c73cb6a",
   "metadata": {},
   "outputs": [
    {
     "name": "stdout",
     "output_type": "stream",
     "text": [
      "0.02056121826171875\n"
     ]
    }
   ],
   "source": [
    "a()"
   ]
  },
  {
   "cell_type": "markdown",
   "id": "a25a71df-7fde-418d-862c-aafd29675ad5",
   "metadata": {},
   "source": [
    "### class method"
   ]
  },
  {
   "cell_type": "code",
   "execution_count": 27,
   "id": "e93221cd-e818-4ede-8d05-3670fda33c9c",
   "metadata": {},
   "outputs": [],
   "source": [
    "class student:\n",
    "    def __init__(self,name ,marks):\n",
    "        self.name=name\n",
    "        self.marks=marks\n",
    "    @classmethod\n",
    "    def details(cls,name,marks): #cls bind data with class\n",
    "        return cls(name,marks)\n",
    "    def display(self):\n",
    "        return self.name, self.marks\n",
    "    "
   ]
  },
  {
   "cell_type": "code",
   "execution_count": 28,
   "id": "899c7332-cb40-4003-b93a-1cbf04b7e193",
   "metadata": {},
   "outputs": [],
   "source": [
    "a=student.details(\"Vishal\",38)"
   ]
  },
  {
   "cell_type": "code",
   "execution_count": 29,
   "id": "352196de-df7c-49c9-80d4-bf419321f4fb",
   "metadata": {},
   "outputs": [
    {
     "data": {
      "text/plain": [
       "'Vishal'"
      ]
     },
     "execution_count": 29,
     "metadata": {},
     "output_type": "execute_result"
    }
   ],
   "source": [
    "a.name"
   ]
  },
  {
   "cell_type": "code",
   "execution_count": 30,
   "id": "d6cffad1-7bc4-4aa5-b49c-7e218e702e7a",
   "metadata": {},
   "outputs": [
    {
     "data": {
      "text/plain": [
       "('Vishal', 38)"
      ]
     },
     "execution_count": 30,
     "metadata": {},
     "output_type": "execute_result"
    }
   ],
   "source": [
    "a.display()"
   ]
  },
  {
   "cell_type": "code",
   "execution_count": 33,
   "id": "a96e7765-53fc-426a-9eba-f158cdf25acf",
   "metadata": {},
   "outputs": [],
   "source": [
    "class student:\n",
    "    mob=986204337\n",
    "    def __init__(self,name ,marks):\n",
    "        self.name=name\n",
    "        self.marks=marks\n",
    "    @classmethod\n",
    "    def details(cls,name,marks): #cls bind data with class\n",
    "        return cls(name,marks)\n",
    "    def display(self):\n",
    "        return self.name, self.marks, student.mob"
   ]
  },
  {
   "cell_type": "code",
   "execution_count": 34,
   "id": "3bfd247b-5eaf-4afc-89b5-c62256927641",
   "metadata": {},
   "outputs": [
    {
     "data": {
      "text/plain": [
       "986204337"
      ]
     },
     "execution_count": 34,
     "metadata": {},
     "output_type": "execute_result"
    }
   ],
   "source": [
    "student.mob"
   ]
  },
  {
   "cell_type": "code",
   "execution_count": 36,
   "id": "dd5406e7-44c4-4e2b-ab7f-faf8fa568e9d",
   "metadata": {},
   "outputs": [],
   "source": [
    "a=student.details(\"ABC\",48)"
   ]
  },
  {
   "cell_type": "code",
   "execution_count": 37,
   "id": "06404027-08a3-4434-a78d-00bb187273fe",
   "metadata": {},
   "outputs": [
    {
     "data": {
      "text/plain": [
       "('ABC', 48, 986204337)"
      ]
     },
     "execution_count": 37,
     "metadata": {},
     "output_type": "execute_result"
    }
   ],
   "source": [
    "a.display()"
   ]
  },
  {
   "cell_type": "code",
   "execution_count": 38,
   "id": "d681605e-c94a-4906-8054-f890ee2081ae",
   "metadata": {},
   "outputs": [],
   "source": [
    "b=student(\"XYZ\",48)"
   ]
  },
  {
   "cell_type": "code",
   "execution_count": 40,
   "id": "b235f4b5-a54b-49fb-bfd5-1af96b26f28f",
   "metadata": {},
   "outputs": [
    {
     "data": {
      "text/plain": [
       "('XYZ', 48, 986204337)"
      ]
     },
     "execution_count": 40,
     "metadata": {},
     "output_type": "execute_result"
    }
   ],
   "source": [
    "b.display()"
   ]
  },
  {
   "cell_type": "code",
   "execution_count": 46,
   "id": "38566303-eb04-4c22-93ed-0e82738f2d9e",
   "metadata": {},
   "outputs": [],
   "source": [
    "class student:\n",
    "    mob=986204337\n",
    "    def __init__(self,name ,marks):\n",
    "        self.name=name\n",
    "        self.marks=marks\n",
    "    @classmethod\n",
    "    def change_number(self,mobile):\n",
    "        student.mob=mobile\n",
    "    @classmethod\n",
    "    def details(cls,name,marks): #cls bind data with class\n",
    "        return cls(name,marks)\n",
    "    def display(self):\n",
    "        return self.name, self.marks, student.mob"
   ]
  },
  {
   "cell_type": "code",
   "execution_count": 42,
   "id": "151dee42-5943-4adc-a6a0-1bc1082194db",
   "metadata": {},
   "outputs": [
    {
     "data": {
      "text/plain": [
       "986204337"
      ]
     },
     "execution_count": 42,
     "metadata": {},
     "output_type": "execute_result"
    }
   ],
   "source": [
    "student.mob"
   ]
  },
  {
   "cell_type": "code",
   "execution_count": 43,
   "id": "7bef2f94-6756-4acf-a66f-2edd78917cf9",
   "metadata": {},
   "outputs": [],
   "source": [
    "student.change_number(7036325)"
   ]
  },
  {
   "cell_type": "code",
   "execution_count": 44,
   "id": "6bab0f0d-e540-4b59-b644-073809bc8524",
   "metadata": {},
   "outputs": [
    {
     "data": {
      "text/plain": [
       "9638292"
      ]
     },
     "execution_count": 44,
     "metadata": {},
     "output_type": "execute_result"
    }
   ],
   "source": [
    "student.mob"
   ]
  },
  {
   "cell_type": "code",
   "execution_count": 50,
   "id": "5548f62b-dbca-4bf4-a847-db247501edde",
   "metadata": {},
   "outputs": [],
   "source": [
    "class student1:\n",
    "    mob=986204337\n",
    "    def __init__(self,name ,marks):\n",
    "        self.name=name\n",
    "        self.marks=marks\n",
    "    @classmethod\n",
    "    def change_number(self,mobile):\n",
    "        student.mob=mobile\n",
    "    @classmethod\n",
    "    def details(cls,name,marks): \n",
    "        return cls(name,marks)\n",
    "    def display(self):\n",
    "        return self.name, self.marks, student.mob"
   ]
  },
  {
   "cell_type": "code",
   "execution_count": 60,
   "id": "6a9056fc-7871-4411-9fe0-df2ba52cb8a7",
   "metadata": {},
   "outputs": [],
   "source": [
    "def other_details(cls, email):\n",
    "    return email"
   ]
  },
  {
   "cell_type": "code",
   "execution_count": 61,
   "id": "82cfe89a-8d9d-4b34-9f01-24d1833e5988",
   "metadata": {},
   "outputs": [],
   "source": [
    "student1.other_details=classmethod(other_details)"
   ]
  },
  {
   "cell_type": "code",
   "execution_count": 62,
   "id": "c5ef13b4-2032-43a9-9bd6-ef00ef1c4470",
   "metadata": {},
   "outputs": [
    {
     "data": {
      "text/plain": [
       "'abc@gmail.com'"
      ]
     },
     "execution_count": 62,
     "metadata": {},
     "output_type": "execute_result"
    }
   ],
   "source": [
    "student1.other_details(\"abc@gmail.com\")"
   ]
  },
  {
   "cell_type": "code",
   "execution_count": 65,
   "id": "5281d8e1-014e-4154-8cbb-8989718b35d9",
   "metadata": {},
   "outputs": [],
   "source": [
    "a=student1(\"abc\",74)"
   ]
  },
  {
   "cell_type": "code",
   "execution_count": 66,
   "id": "fc4e17be-f181-42f9-8adb-24801ce3a478",
   "metadata": {},
   "outputs": [
    {
     "data": {
      "text/plain": [
       "'@xyz'"
      ]
     },
     "execution_count": 66,
     "metadata": {},
     "output_type": "execute_result"
    }
   ],
   "source": [
    "a.other_details(\"@xyz\")"
   ]
  },
  {
   "cell_type": "code",
   "execution_count": 67,
   "id": "5b3c55b5-c4dd-4889-ba55-742859625a6a",
   "metadata": {},
   "outputs": [],
   "source": [
    "del student1.details"
   ]
  },
  {
   "cell_type": "code",
   "execution_count": 68,
   "id": "e4b8fcef-1562-496d-87c0-f1e3774c4715",
   "metadata": {},
   "outputs": [
    {
     "ename": "AttributeError",
     "evalue": "type object 'student1' has no attribute 'details'",
     "output_type": "error",
     "traceback": [
      "\u001b[0;31m---------------------------------------------------------------------------\u001b[0m",
      "\u001b[0;31mAttributeError\u001b[0m                            Traceback (most recent call last)",
      "Cell \u001b[0;32mIn[68], line 1\u001b[0m\n\u001b[0;32m----> 1\u001b[0m \u001b[43mstudent1\u001b[49m\u001b[38;5;241;43m.\u001b[39;49m\u001b[43mdetails\u001b[49m(\u001b[38;5;124m\"\u001b[39m\u001b[38;5;124maaa\u001b[39m\u001b[38;5;124m\"\u001b[39m,\u001b[38;5;241m437\u001b[39m)\n",
      "\u001b[0;31mAttributeError\u001b[0m: type object 'student1' has no attribute 'details'"
     ]
    }
   ],
   "source": [
    "student1.details(\"aaa\",437)"
   ]
  },
  {
   "cell_type": "code",
   "execution_count": 69,
   "id": "e6957095-926b-4a50-abd0-5a78d0013d6a",
   "metadata": {},
   "outputs": [],
   "source": [
    "class student2:\n",
    "    mob=986204337\n",
    "    def __init__(self,name ,marks):\n",
    "        self.name=name\n",
    "        self.marks=marks\n",
    "    @classmethod\n",
    "    def change_number(self,mobile):\n",
    "        student.mob=mobile\n",
    "    @classmethod\n",
    "    def details(cls,name,marks): \n",
    "        return cls(name,marks)\n",
    "    def display(self):\n",
    "        return self.name, self.marks, student.mob"
   ]
  },
  {
   "cell_type": "code",
   "execution_count": 70,
   "id": "18bd7d66-fe21-4039-828d-c39abadc68b3",
   "metadata": {},
   "outputs": [],
   "source": [
    "delattr(student2, \"details\")"
   ]
  },
  {
   "cell_type": "code",
   "execution_count": 72,
   "id": "d603a695-d018-4ecf-800c-a6eeab9a7c34",
   "metadata": {},
   "outputs": [
    {
     "ename": "AttributeError",
     "evalue": "details",
     "output_type": "error",
     "traceback": [
      "\u001b[0;31m---------------------------------------------------------------------------\u001b[0m",
      "\u001b[0;31mAttributeError\u001b[0m                            Traceback (most recent call last)",
      "Cell \u001b[0;32mIn[72], line 1\u001b[0m\n\u001b[0;32m----> 1\u001b[0m \u001b[38;5;28;43mdelattr\u001b[39;49m\u001b[43m(\u001b[49m\u001b[43mstudent2\u001b[49m\u001b[43m,\u001b[49m\u001b[43m \u001b[49m\u001b[38;5;124;43m\"\u001b[39;49m\u001b[38;5;124;43mdetails\u001b[39;49m\u001b[38;5;124;43m\"\u001b[39;49m\u001b[43m)\u001b[49m\n",
      "\u001b[0;31mAttributeError\u001b[0m: details"
     ]
    }
   ],
   "source": [
    "delattr(student2, \"details\")"
   ]
  },
  {
   "cell_type": "markdown",
   "id": "6b1f115a-106c-4595-85cd-9e57ece82bc5",
   "metadata": {},
   "source": [
    "## Static Method"
   ]
  },
  {
   "cell_type": "code",
   "execution_count": 1,
   "id": "595932a7-4428-4812-96a5-7cbe5448fa0e",
   "metadata": {},
   "outputs": [],
   "source": [
    "class test:\n",
    "    def detail(self,name,email,phone_no):\n",
    "        print(name, email, phone_no)"
   ]
  },
  {
   "cell_type": "code",
   "execution_count": 3,
   "id": "b5445417-561d-4e30-bf33-277a0022c0f9",
   "metadata": {},
   "outputs": [],
   "source": [
    "t=test()"
   ]
  },
  {
   "cell_type": "code",
   "execution_count": 4,
   "id": "1b8abcb1-8863-4976-bc3f-ff8c4d86fba2",
   "metadata": {},
   "outputs": [
    {
     "name": "stdout",
     "output_type": "stream",
     "text": [
      "Vishal abc@gmail.com 289\n"
     ]
    }
   ],
   "source": [
    "t.detail(\"Vishal\",\"abc@gmail.com\",289)"
   ]
  },
  {
   "cell_type": "code",
   "execution_count": 7,
   "id": "dc32561a-d528-48d5-b08a-4488f4076eca",
   "metadata": {},
   "outputs": [],
   "source": [
    "class test1:\n",
    "    def detail(self,name,email,phone_no):\n",
    "        print(name, email, phone_no)\n",
    "    @staticmethod\n",
    "    def other_details(Div,Roll_no):\n",
    "        print(Div ,Roll_no)"
   ]
  },
  {
   "cell_type": "code",
   "execution_count": 8,
   "id": "6741ed8a-5707-40c2-9024-41f4ca959e54",
   "metadata": {},
   "outputs": [
    {
     "name": "stdout",
     "output_type": "stream",
     "text": [
      "A 16\n"
     ]
    }
   ],
   "source": [
    "test1.other_details('A',16)"
   ]
  },
  {
   "cell_type": "code",
   "execution_count": 1,
   "id": "4ae9e00d-d17f-4d14-8370-6b2d2c46074f",
   "metadata": {},
   "outputs": [],
   "source": [
    "#Static Method will be directtly available to the class as well as to object of the class"
   ]
  },
  {
   "cell_type": "code",
   "execution_count": 6,
   "id": "d823a3d3-0ece-44e0-8689-9c7dd6959eae",
   "metadata": {},
   "outputs": [],
   "source": [
    "class test1:\n",
    "    def detail(self,name,email,phone_no):\n",
    "        print(name, email, phone_no)\n",
    "        self.detail\n",
    "    @staticmethod\n",
    "    def other_details(Div,Roll_no):\n",
    "        print(Div ,Roll_no)\n",
    "    @staticmethod\n",
    "    def email_id(email):\n",
    "        print(email)\n",
    "        test1.other_details('A',16)\n",
    "    @classmethod\n",
    "    def phone(cls,phone_no):\n",
    "        cls.other_details('A',16)\n",
    "    def other(Div,Roll_no):\n",
    "        print(Div ,Roll_no)\n",
    "        self.other_details('A',16)\n",
    "        #stactic method is accesed inside instance method\n",
    "        #static method can be accesed inside class method as well as another static method"
   ]
  },
  {
   "cell_type": "code",
   "execution_count": 7,
   "id": "71bf4d22-0bcf-4ec4-b72c-b8e768a99444",
   "metadata": {},
   "outputs": [],
   "source": [
    "a=test1()"
   ]
  },
  {
   "cell_type": "code",
   "execution_count": 8,
   "id": "893f85e7-8c8e-43fd-940b-e9fc1e04c46c",
   "metadata": {},
   "outputs": [
    {
     "name": "stdout",
     "output_type": "stream",
     "text": [
      "Vishal Abc@123 832\n"
     ]
    }
   ],
   "source": [
    "a.detail(\"Vishal\",\"Abc@123\",832)"
   ]
  },
  {
   "cell_type": "code",
   "execution_count": 9,
   "id": "106c9403-bb6d-4d9b-8594-235f0cbd676a",
   "metadata": {},
   "outputs": [
    {
     "name": "stdout",
     "output_type": "stream",
     "text": [
      "A 16\n"
     ]
    }
   ],
   "source": [
    "a.other_details(\"A\",16)"
   ]
  },
  {
   "cell_type": "code",
   "execution_count": 10,
   "id": "abdd4b8e-0925-4d76-9f88-f3d085f73eec",
   "metadata": {},
   "outputs": [
    {
     "name": "stdout",
     "output_type": "stream",
     "text": [
      "A 16\n"
     ]
    }
   ],
   "source": [
    "a.phone(873240)"
   ]
  },
  {
   "cell_type": "code",
   "execution_count": 11,
   "id": "903f5cfb-3c20-4d37-8ac5-2a34fd4d497b",
   "metadata": {},
   "outputs": [
    {
     "name": "stdout",
     "output_type": "stream",
     "text": [
      "abc@123\n",
      "A 16\n"
     ]
    }
   ],
   "source": [
    "test1.email_id(\"abc@123\")"
   ]
  },
  {
   "cell_type": "markdown",
   "id": "16855cac-d1d5-4947-9472-ba1c99c51889",
   "metadata": {},
   "source": [
    "# Special magic or dunder method"
   ]
  },
  {
   "cell_type": "code",
   "execution_count": 12,
   "id": "fe3a1024-6ce4-43be-bf32-e11ab140d6f0",
   "metadata": {},
   "outputs": [
    {
     "data": {
      "text/plain": [
       "['__abs__',\n",
       " '__add__',\n",
       " '__and__',\n",
       " '__bool__',\n",
       " '__ceil__',\n",
       " '__class__',\n",
       " '__delattr__',\n",
       " '__dir__',\n",
       " '__divmod__',\n",
       " '__doc__',\n",
       " '__eq__',\n",
       " '__float__',\n",
       " '__floor__',\n",
       " '__floordiv__',\n",
       " '__format__',\n",
       " '__ge__',\n",
       " '__getattribute__',\n",
       " '__getnewargs__',\n",
       " '__gt__',\n",
       " '__hash__',\n",
       " '__index__',\n",
       " '__init__',\n",
       " '__init_subclass__',\n",
       " '__int__',\n",
       " '__invert__',\n",
       " '__le__',\n",
       " '__lshift__',\n",
       " '__lt__',\n",
       " '__mod__',\n",
       " '__mul__',\n",
       " '__ne__',\n",
       " '__neg__',\n",
       " '__new__',\n",
       " '__or__',\n",
       " '__pos__',\n",
       " '__pow__',\n",
       " '__radd__',\n",
       " '__rand__',\n",
       " '__rdivmod__',\n",
       " '__reduce__',\n",
       " '__reduce_ex__',\n",
       " '__repr__',\n",
       " '__rfloordiv__',\n",
       " '__rlshift__',\n",
       " '__rmod__',\n",
       " '__rmul__',\n",
       " '__ror__',\n",
       " '__round__',\n",
       " '__rpow__',\n",
       " '__rrshift__',\n",
       " '__rshift__',\n",
       " '__rsub__',\n",
       " '__rtruediv__',\n",
       " '__rxor__',\n",
       " '__setattr__',\n",
       " '__sizeof__',\n",
       " '__str__',\n",
       " '__sub__',\n",
       " '__subclasshook__',\n",
       " '__truediv__',\n",
       " '__trunc__',\n",
       " '__xor__',\n",
       " 'as_integer_ratio',\n",
       " 'bit_count',\n",
       " 'bit_length',\n",
       " 'conjugate',\n",
       " 'denominator',\n",
       " 'from_bytes',\n",
       " 'imag',\n",
       " 'numerator',\n",
       " 'real',\n",
       " 'to_bytes']"
      ]
     },
     "execution_count": 12,
     "metadata": {},
     "output_type": "execute_result"
    }
   ],
   "source": [
    "dir(int)"
   ]
  },
  {
   "cell_type": "code",
   "execution_count": 13,
   "id": "0028c3be-be5a-46fe-8e0b-e7a56facfbbb",
   "metadata": {},
   "outputs": [
    {
     "data": {
      "text/plain": [
       "16"
      ]
     },
     "execution_count": 13,
     "metadata": {},
     "output_type": "execute_result"
    }
   ],
   "source": [
    "a=10\n",
    "a+6"
   ]
  },
  {
   "cell_type": "code",
   "execution_count": 14,
   "id": "ae3c43cd-cb88-4f10-9ac6-c965ad0fcf6f",
   "metadata": {},
   "outputs": [
    {
     "data": {
      "text/plain": [
       "16"
      ]
     },
     "execution_count": 14,
     "metadata": {},
     "output_type": "execute_result"
    }
   ],
   "source": [
    "a.__add__(6)"
   ]
  },
  {
   "cell_type": "code",
   "execution_count": 15,
   "id": "67e8b063-f2a5-4ef8-bc63-f63bfb244194",
   "metadata": {},
   "outputs": [],
   "source": [
    "class test2:\n",
    "    def __new__(cls):\n",
    "        print(\"This is my new method\")\n",
    "    def __init__(self):\n",
    "        print(\"This is my init method\")"
   ]
  },
  {
   "cell_type": "code",
   "execution_count": 17,
   "id": "e50764b5-d7f3-4bd4-8cf4-143dd269f0a1",
   "metadata": {},
   "outputs": [
    {
     "name": "stdout",
     "output_type": "stream",
     "text": [
      "This is my new method\n"
     ]
    }
   ],
   "source": [
    "a=test2()"
   ]
  },
  {
   "cell_type": "code",
   "execution_count": 20,
   "id": "d86ea17a-b2cd-4692-98fb-62788745cc6a",
   "metadata": {},
   "outputs": [],
   "source": [
    "class test3:\n",
    "    def __init__(self):\n",
    "        self.a=12\n",
    "    def __str__(self):\n",
    "        return \"This is magic method which will print something for object\""
   ]
  },
  {
   "cell_type": "code",
   "execution_count": 21,
   "id": "e163de18-f5fa-40dc-9ddf-35744302c2ff",
   "metadata": {},
   "outputs": [],
   "source": [
    "a=test3()"
   ]
  },
  {
   "cell_type": "code",
   "execution_count": 22,
   "id": "72fe82d0-50fb-4065-9764-88ff281625d4",
   "metadata": {},
   "outputs": [
    {
     "name": "stdout",
     "output_type": "stream",
     "text": [
      "This is magic method which will print something for object\n"
     ]
    }
   ],
   "source": [
    "print(a)"
   ]
  },
  {
   "cell_type": "markdown",
   "id": "d2784919-f50c-451e-b0f1-09d3d40f8427",
   "metadata": {},
   "source": [
    "# Property Decorators"
   ]
  },
  {
   "cell_type": "code",
   "execution_count": 14,
   "id": "0e94575d-b110-43be-a3b4-69ba0933f953",
   "metadata": {},
   "outputs": [],
   "source": [
    "class test:\n",
    "    def __init__(self,a,b):\n",
    "        self.__a=a\n",
    "        self.b=b    #__-private _-protected"
   ]
  },
  {
   "cell_type": "code",
   "execution_count": 15,
   "id": "d505eed8-2164-4f77-a9fb-b470c4641a66",
   "metadata": {},
   "outputs": [],
   "source": [
    "t=test(1,4)"
   ]
  },
  {
   "cell_type": "code",
   "execution_count": 16,
   "id": "4b7dda83-a298-4920-9d12-efe6c53a2f03",
   "metadata": {},
   "outputs": [
    {
     "data": {
      "text/plain": [
       "4"
      ]
     },
     "execution_count": 16,
     "metadata": {},
     "output_type": "execute_result"
    }
   ],
   "source": [
    "t.b"
   ]
  },
  {
   "cell_type": "code",
   "execution_count": 17,
   "id": "cfe4986e-824c-4e34-a428-6a5427a0ad72",
   "metadata": {},
   "outputs": [
    {
     "data": {
      "text/plain": [
       "1"
      ]
     },
     "execution_count": 17,
     "metadata": {},
     "output_type": "execute_result"
    }
   ],
   "source": [
    "t._test__a"
   ]
  },
  {
   "cell_type": "code",
   "execution_count": 18,
   "id": "2a230f25-28c3-4150-bb53-ca63b6c4089d",
   "metadata": {},
   "outputs": [],
   "source": [
    "class test:\n",
    "    def __init__(self,a,b):\n",
    "        self.__a=a\n",
    "        self.b=b\n",
    "    @property\n",
    "    def display(self):\n",
    "        return self.__a "
   ]
  },
  {
   "cell_type": "code",
   "execution_count": 20,
   "id": "ffcc4c3f-dcb0-492b-a778-7a4ef4ca3d58",
   "metadata": {},
   "outputs": [],
   "source": [
    "t1=test(1,6)"
   ]
  },
  {
   "cell_type": "code",
   "execution_count": 21,
   "id": "462d8041-1aee-4355-835d-1556688d2bc4",
   "metadata": {},
   "outputs": [
    {
     "data": {
      "text/plain": [
       "1"
      ]
     },
     "execution_count": 21,
     "metadata": {},
     "output_type": "execute_result"
    }
   ],
   "source": [
    "t1.display"
   ]
  },
  {
   "cell_type": "code",
   "execution_count": 34,
   "id": "0e0aa6df-ae73-4027-96d5-232e8db7a247",
   "metadata": {},
   "outputs": [],
   "source": [
    "#setter\n",
    "class test2:\n",
    "    def __init__(self,a,b):\n",
    "        self.__a=a\n",
    "        self.b=b\n",
    "    @property\n",
    "    def display(self):\n",
    "        return self.__a \n",
    "    @display.setter\n",
    "    def modify(self,new_a):\n",
    "        self.__a=new_a"
   ]
  },
  {
   "cell_type": "code",
   "execution_count": 35,
   "id": "cbec20e5-49ee-4ef9-a261-46721f8d2e11",
   "metadata": {},
   "outputs": [],
   "source": [
    "obj=test2(22,12)"
   ]
  },
  {
   "cell_type": "code",
   "execution_count": 36,
   "id": "6da7e7c5-6f44-4d5f-b908-49fb787b53f6",
   "metadata": {},
   "outputs": [
    {
     "data": {
      "text/plain": [
       "22"
      ]
     },
     "execution_count": 36,
     "metadata": {},
     "output_type": "execute_result"
    }
   ],
   "source": [
    "obj.display"
   ]
  },
  {
   "cell_type": "code",
   "execution_count": 37,
   "id": "c7f9257c-81ed-4bcd-b4e2-2d03f437ae51",
   "metadata": {},
   "outputs": [],
   "source": [
    "obj.modify=34"
   ]
  },
  {
   "cell_type": "code",
   "execution_count": 38,
   "id": "50e6fd51-64ef-46dd-ade1-4f989e03329e",
   "metadata": {},
   "outputs": [
    {
     "data": {
      "text/plain": [
       "34"
      ]
     },
     "execution_count": 38,
     "metadata": {},
     "output_type": "execute_result"
    }
   ],
   "source": [
    "obj.display"
   ]
  },
  {
   "cell_type": "code",
   "execution_count": 41,
   "id": "7e9a19bd-b567-443e-a24f-e7dfff806501",
   "metadata": {},
   "outputs": [],
   "source": [
    "class test3:\n",
    "    def __init__(self,a,b):\n",
    "        self.__a=a\n",
    "        self.b=b\n",
    "    @property\n",
    "    def display(self):\n",
    "        return self.__a \n",
    "    @display.setter\n",
    "    def modify(self,new_a):\n",
    "        self.__a=new_a\n",
    "    @display.deleter\n",
    "    def delete(self):\n",
    "        del self.__a"
   ]
  },
  {
   "cell_type": "code",
   "execution_count": 43,
   "id": "bca16d6f-fe08-4b88-bd52-cd64fb35fdf2",
   "metadata": {},
   "outputs": [],
   "source": [
    "t=test3(23,13)"
   ]
  },
  {
   "cell_type": "code",
   "execution_count": 44,
   "id": "2de9e153-99dd-408b-8c1f-b68cb26722e9",
   "metadata": {},
   "outputs": [
    {
     "data": {
      "text/plain": [
       "23"
      ]
     },
     "execution_count": 44,
     "metadata": {},
     "output_type": "execute_result"
    }
   ],
   "source": [
    "t.display"
   ]
  },
  {
   "cell_type": "code",
   "execution_count": 47,
   "id": "4a3fcb05-b7c2-4a4f-aa5a-2c96c0a8647d",
   "metadata": {},
   "outputs": [],
   "source": [
    "del t.delete"
   ]
  },
  {
   "cell_type": "code",
   "execution_count": 48,
   "id": "b3df0dd7-020d-4b6d-acf0-cffeb038c150",
   "metadata": {},
   "outputs": [
    {
     "ename": "AttributeError",
     "evalue": "'test3' object has no attribute '_test3__a'",
     "output_type": "error",
     "traceback": [
      "\u001b[0;31m---------------------------------------------------------------------------\u001b[0m",
      "\u001b[0;31mAttributeError\u001b[0m                            Traceback (most recent call last)",
      "Cell \u001b[0;32mIn[48], line 1\u001b[0m\n\u001b[0;32m----> 1\u001b[0m \u001b[43mt\u001b[49m\u001b[38;5;241;43m.\u001b[39;49m\u001b[43mdisplay\u001b[49m\n",
      "Cell \u001b[0;32mIn[41], line 7\u001b[0m, in \u001b[0;36mtest3.display\u001b[0;34m(self)\u001b[0m\n\u001b[1;32m      5\u001b[0m \u001b[38;5;129m@property\u001b[39m\n\u001b[1;32m      6\u001b[0m \u001b[38;5;28;01mdef\u001b[39;00m \u001b[38;5;21mdisplay\u001b[39m(\u001b[38;5;28mself\u001b[39m):\n\u001b[0;32m----> 7\u001b[0m     \u001b[38;5;28;01mreturn\u001b[39;00m \u001b[38;5;28;43mself\u001b[39;49m\u001b[38;5;241;43m.\u001b[39;49m\u001b[43m__a\u001b[49m\n",
      "\u001b[0;31mAttributeError\u001b[0m: 'test3' object has no attribute '_test3__a'"
     ]
    }
   ],
   "source": [
    "t.display"
   ]
  },
  {
   "cell_type": "code",
   "execution_count": null,
   "id": "94d907d2-7055-4e41-a60f-6f68aec7808b",
   "metadata": {},
   "outputs": [],
   "source": []
  }
 ],
 "metadata": {
  "kernelspec": {
   "display_name": "Python 3 (ipykernel)",
   "language": "python",
   "name": "python3"
  },
  "language_info": {
   "codemirror_mode": {
    "name": "ipython",
    "version": 3
   },
   "file_extension": ".py",
   "mimetype": "text/x-python",
   "name": "python",
   "nbconvert_exporter": "python",
   "pygments_lexer": "ipython3",
   "version": "3.10.8"
  }
 },
 "nbformat": 4,
 "nbformat_minor": 5
}
