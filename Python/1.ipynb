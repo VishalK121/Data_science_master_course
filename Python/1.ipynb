{
 "cells": [
  {
   "cell_type": "markdown",
   "id": "1d19f6c3-da82-4d9a-8b32-3f6389e96ecb",
   "metadata": {},
   "source": [
    "#### PRACTICE 1"
   ]
  },
  {
   "cell_type": "code",
   "execution_count": 5,
   "id": "2e449ac4-b08a-40f0-9a91-97009f920ec0",
   "metadata": {},
   "outputs": [],
   "source": [
    "## Single Line Comment\n",
    "\"\"\"\n",
    "Multi Line\n",
    "Comment\n",
    "\"\"\"\n",
    "a=10"
   ]
  },
  {
   "cell_type": "code",
   "execution_count": 4,
   "id": "bae055fa-3ed8-4145-9a2b-fcd05c764f2d",
   "metadata": {},
   "outputs": [
    {
     "data": {
      "text/plain": [
       "10"
      ]
     },
     "execution_count": 4,
     "metadata": {},
     "output_type": "execute_result"
    }
   ],
   "source": [
    "a"
   ]
  },
  {
   "cell_type": "code",
   "execution_count": 2,
   "id": "eb172436-7e6f-4b8a-85fb-bee5d826da67",
   "metadata": {},
   "outputs": [
    {
     "name": "stdout",
     "output_type": "stream",
     "text": [
      "My name is Vishal\n"
     ]
    }
   ],
   "source": [
    "#f string\n",
    "name=\"Vishal\"\n",
    "print(f\"My name is {name}\")"
   ]
  },
  {
   "cell_type": "code",
   "execution_count": 3,
   "id": "3e169cbd-b70f-4872-9c1e-55b0113aa735",
   "metadata": {},
   "outputs": [
    {
     "name": "stdout",
     "output_type": "stream",
     "text": [
      "My name is Vishal and my age is 20\n"
     ]
    }
   ],
   "source": [
    "#format\n",
    "age=20\n",
    "print(\"My name is {} and my age is {}\".format(name,age))"
   ]
  },
  {
   "cell_type": "code",
   "execution_count": 2,
   "id": "101c48a1-12e6-4dcf-8ff7-8c57d0246884",
   "metadata": {},
   "outputs": [
    {
     "name": "stdin",
     "output_type": "stream",
     "text": [
      "Enter age:  18\n"
     ]
    },
    {
     "name": "stdout",
     "output_type": "stream",
     "text": [
      "18\n"
     ]
    }
   ],
   "source": [
    "a=int(input(\"Enter age: \"))\n",
    "print(a)"
   ]
  },
  {
   "cell_type": "code",
   "execution_count": 9,
   "id": "7a18478f-db2a-4ae3-a138-00fcee10caeb",
   "metadata": {},
   "outputs": [
    {
     "name": "stdin",
     "output_type": "stream",
     "text": [
      "Enter the product price 457\n"
     ]
    },
    {
     "name": "stdout",
     "output_type": "stream",
     "text": [
      "price of the product will be 319.9\n"
     ]
    }
   ],
   "source": [
    "#if-else statement\n",
    "#if statement \n",
    "#nested-if statement\n",
    "#elif statement\n",
    "\n",
    "price=int(input(\"Enter the product price\"))\n",
    "if price>1000:\n",
    "    print(\"price of the product will be: \",price*0.8)\n",
    "elif(price<=1000 and price>500):\n",
    "    print(\"price of the product will be:\",price*0.75)\n",
    "    if(price==999):\n",
    "        print(\"You will get a Suprise gift\")\n",
    "else:\n",
    "    print(\"price of the product will be\",price*0.7)"
   ]
  },
  {
   "cell_type": "code",
   "execution_count": 6,
   "id": "20f5f7cc-b69a-44a0-bfe6-1a0441a7381c",
   "metadata": {},
   "outputs": [
    {
     "name": "stdout",
     "output_type": "stream",
     "text": [
      "My name is Vishal and my age is Vishal\n"
     ]
    }
   ],
   "source": [
    "#place holder\n",
    "print(\"My name is {a} and my age is {a}\".format(a=name,b=age))"
   ]
  },
  {
   "cell_type": "code",
   "execution_count": 6,
   "id": "c6ac6579-5097-4c95-9957-5ea1f2570166",
   "metadata": {},
   "outputs": [
    {
     "name": "stdin",
     "output_type": "stream",
     "text": [
      "Enter a value: 3040\n"
     ]
    },
    {
     "name": "stdout",
     "output_type": "stream",
     "text": [
      "a is greater than 999\n"
     ]
    }
   ],
   "source": [
    "#single statement\n",
    "a=int(input(\"Enter a value:\"))\n",
    "if a>999:print(\"a is greater than 999\")"
   ]
  },
  {
   "cell_type": "markdown",
   "id": "67864cf7-f0cb-478d-81ba-9c3b5c8b5d56",
   "metadata": {},
   "source": [
    "#Loop Statements\n",
    "1.for loop\n",
    "2.while loop\n",
    "3.nested loop\n",
    "4.loop controls:\n",
    "   break\n",
    "   continue\n",
    "   pass"
   ]
  },
  {
   "cell_type": "code",
   "execution_count": 10,
   "id": "456d6b41-ce00-48b0-a97b-12d5f89997b0",
   "metadata": {},
   "outputs": [
    {
     "name": "stdout",
     "output_type": "stream",
     "text": [
      "20\n",
      "21\n",
      "22\n",
      "23\n",
      "24\n",
      "25\n",
      "26\n",
      "27\n",
      "28\n",
      "29\n",
      "30\n",
      "31\n",
      "32\n",
      "33\n",
      "34\n",
      "35\n",
      "36\n",
      "37\n",
      "38\n",
      "39\n",
      "Its time for retirement\n"
     ]
    }
   ],
   "source": [
    "#while\n",
    "age=20\n",
    "while age<40:\n",
    "    print(age)\n",
    "    age=age+1\n",
    "else:\n",
    "    print(\"Its time for retirement\")"
   ]
  },
  {
   "cell_type": "code",
   "execution_count": 13,
   "id": "625f3b71-c60e-46db-8ecb-d188e18d7dfe",
   "metadata": {},
   "outputs": [
    {
     "name": "stdout",
     "output_type": "stream",
     "text": [
      "Vishal\n",
      "1\n",
      "2\n",
      "3\n",
      "4\n",
      "Khot\n"
     ]
    }
   ],
   "source": [
    "#for Loop\n",
    "lst=[\"Vishal\",1,2,3,4,\"Khot\"]\n",
    "for i in lst:\n",
    "    print(i)"
   ]
  },
  {
   "cell_type": "code",
   "execution_count": 16,
   "id": "d7725c19-8a86-43a8-8ad1-91eb37ccd91c",
   "metadata": {},
   "outputs": [
    {
     "name": "stdout",
     "output_type": "stream",
     "text": [
      "1\n",
      "4\n",
      "7\n"
     ]
    }
   ],
   "source": [
    "#Range\n",
    "for i in range(1,9,3):\n",
    "    print(i)"
   ]
  },
  {
   "cell_type": "code",
   "execution_count": 17,
   "id": "4d80d7ef-ee5e-41d2-b9f7-a1ee499f71f5",
   "metadata": {},
   "outputs": [
    {
     "name": "stdout",
     "output_type": "stream",
     "text": [
      "9\n",
      "8\n",
      "7\n",
      "6\n",
      "5\n",
      "4\n",
      "3\n",
      "2\n"
     ]
    }
   ],
   "source": [
    "for i in range(9,1,-1):\n",
    "    print(i)"
   ]
  },
  {
   "cell_type": "code",
   "execution_count": 21,
   "id": "404dd010-b5c8-43f5-8cde-bf4dc33fa957",
   "metadata": {},
   "outputs": [
    {
     "name": "stdout",
     "output_type": "stream",
     "text": [
      "*\n",
      "**\n",
      "***\n",
      "****\n",
      "*****\n"
     ]
    }
   ],
   "source": [
    "n=5\n",
    "for i in range(5):\n",
    "    for j in range(i+1):\n",
    "        print(\"*\",end=\"\")\n",
    "    print(\"\\r\")"
   ]
  },
  {
   "cell_type": "code",
   "execution_count": 23,
   "id": "53e5a89c-2fe6-44a4-ae55-4536ceff373d",
   "metadata": {},
   "outputs": [
    {
     "name": "stdout",
     "output_type": "stream",
     "text": [
      "Vishale is\n"
     ]
    }
   ],
   "source": [
    "print(\"My name is\\rVishal\")"
   ]
  },
  {
   "cell_type": "code",
   "execution_count": 24,
   "id": "c596f6c2-c9ff-481d-ad27-9625b05a2c85",
   "metadata": {},
   "outputs": [
    {
     "name": "stdout",
     "output_type": "stream",
     "text": [
      "1\n",
      "2\n",
      "3\n",
      "4\n",
      "number is five!!\n"
     ]
    }
   ],
   "source": [
    "for i in range(1,10):\n",
    "    if(i==5):\n",
    "        print(\"number is five!!\")\n",
    "        break\n",
    "    print(i)"
   ]
  },
  {
   "cell_type": "code",
   "execution_count": 26,
   "id": "3568c29f-2b8f-4bff-bb14-e0a03020ddc7",
   "metadata": {},
   "outputs": [
    {
     "name": "stdout",
     "output_type": "stream",
     "text": [
      "1\n",
      "2\n",
      "3\n",
      "4\n",
      "number is five!!\n",
      "6\n",
      "7\n",
      "8\n",
      "9\n"
     ]
    }
   ],
   "source": [
    "for i in range(1,10):\n",
    "    if(i==5):\n",
    "        print(\"number is five!!\")\n",
    "        continue\n",
    "    print(i)"
   ]
  },
  {
   "cell_type": "code",
   "execution_count": 27,
   "id": "d755ef56-dbfc-44c5-8253-ed8504843add",
   "metadata": {},
   "outputs": [
    {
     "name": "stdout",
     "output_type": "stream",
     "text": [
      "1\n",
      "2\n",
      "3\n",
      "4\n",
      "number is five!!\n",
      "5\n",
      "6\n",
      "7\n",
      "8\n",
      "9\n"
     ]
    }
   ],
   "source": [
    "for i in range(1,10):\n",
    "    if(i==5):\n",
    "        print(\"number is five!!\")\n",
    "        pass\n",
    "    print(i)"
   ]
  },
  {
   "cell_type": "markdown",
   "id": "9a28fc6a-daea-4678-8c09-dbcc0bdb9f6d",
   "metadata": {},
   "source": [
    "##Logical operators\n",
    "1.and\n",
    "2.or\n",
    "3.not"
   ]
  },
  {
   "cell_type": "code",
   "execution_count": 1,
   "id": "86808849-bcfb-40f9-8115-842ae0f66e38",
   "metadata": {},
   "outputs": [
    {
     "data": {
      "text/plain": [
       "False"
      ]
     },
     "execution_count": 1,
     "metadata": {},
     "output_type": "execute_result"
    }
   ],
   "source": [
    "a=True\n",
    "b=False\n",
    "a and b"
   ]
  },
  {
   "cell_type": "code",
   "execution_count": 2,
   "id": "6462a5fb-715e-4182-942c-9256f6b07a7b",
   "metadata": {},
   "outputs": [
    {
     "data": {
      "text/plain": [
       "True"
      ]
     },
     "execution_count": 2,
     "metadata": {},
     "output_type": "execute_result"
    }
   ],
   "source": [
    "a or b"
   ]
  },
  {
   "cell_type": "code",
   "execution_count": 3,
   "id": "7500cab1-e856-45d0-b1cf-07ec77d74e67",
   "metadata": {},
   "outputs": [
    {
     "data": {
      "text/plain": [
       "False"
      ]
     },
     "execution_count": 3,
     "metadata": {},
     "output_type": "execute_result"
    }
   ],
   "source": [
    "not a"
   ]
  },
  {
   "cell_type": "code",
   "execution_count": 4,
   "id": "46a0af4b-3e57-4f5a-8abe-dc4fbd261b52",
   "metadata": {},
   "outputs": [
    {
     "data": {
      "text/plain": [
       "False"
      ]
     },
     "execution_count": 4,
     "metadata": {},
     "output_type": "execute_result"
    }
   ],
   "source": [
    "bool(0)"
   ]
  },
  {
   "cell_type": "code",
   "execution_count": 6,
   "id": "8a671be5-fa44-4a42-abc4-5d2326496714",
   "metadata": {},
   "outputs": [
    {
     "data": {
      "text/plain": [
       "1"
      ]
     },
     "execution_count": 6,
     "metadata": {},
     "output_type": "execute_result"
    }
   ],
   "source": [
    "int(bool(9))"
   ]
  },
  {
   "cell_type": "code",
   "execution_count": 7,
   "id": "310b0233-ace6-42c1-b2b5-fba6ab7d130d",
   "metadata": {},
   "outputs": [
    {
     "data": {
      "text/plain": [
       "1"
      ]
     },
     "execution_count": 7,
     "metadata": {},
     "output_type": "execute_result"
    }
   ],
   "source": [
    "True*True"
   ]
  },
  {
   "cell_type": "code",
   "execution_count": 8,
   "id": "7b0e3a39-a1f4-4c44-b651-ffc1cfac5430",
   "metadata": {},
   "outputs": [
    {
     "data": {
      "text/plain": [
       "True"
      ]
     },
     "execution_count": 8,
     "metadata": {},
     "output_type": "execute_result"
    }
   ],
   "source": [
    "lst_1=[1,2,3,4]\n",
    "lst_2=[1,2,3,4]\n",
    "lst_1==lst_2"
   ]
  },
  {
   "cell_type": "code",
   "execution_count": 9,
   "id": "4a091037-9003-4192-8a09-1b8f92ae8ace",
   "metadata": {},
   "outputs": [
    {
     "data": {
      "text/plain": [
       "False"
      ]
     },
     "execution_count": 9,
     "metadata": {},
     "output_type": "execute_result"
    }
   ],
   "source": [
    "lst_1=[1,2,3,4]\n",
    "lst_2=[1,2,3,4]\n",
    "lst_1 is lst_2"
   ]
  },
  {
   "cell_type": "code",
   "execution_count": 18,
   "id": "8c2390b3-2bac-4c7c-9fbe-2528dfe7e42a",
   "metadata": {},
   "outputs": [
    {
     "name": "stdout",
     "output_type": "stream",
     "text": [
      "139708754752000\n",
      "139708754600512\n"
     ]
    }
   ],
   "source": [
    "a=[1,2,3,4]\n",
    "b=[1,2,3,4]\n",
    "a is b\n",
    "print(id(a))\n",
    "print(id(b))"
   ]
  },
  {
   "cell_type": "markdown",
   "id": "410a10f7-5762-47c1-a649-d5c54855db86",
   "metadata": {},
   "source": [
    "##id==gives address"
   ]
  },
  {
   "cell_type": "code",
   "execution_count": 13,
   "id": "1515b09e-82d3-45e7-94d3-5b0a73436334",
   "metadata": {},
   "outputs": [
    {
     "name": "stdout",
     "output_type": "stream",
     "text": [
      "139708803727600\n"
     ]
    }
   ],
   "source": [
    "print(id(lst_1[0]))"
   ]
  },
  {
   "cell_type": "code",
   "execution_count": 14,
   "id": "87083853-364c-4941-907d-136535784fce",
   "metadata": {},
   "outputs": [],
   "source": [
    "lst_1=[1,2,3,4]\n",
    "lst_2=[1,2,3,4]\n",
    "lst_1=lst_2"
   ]
  },
  {
   "cell_type": "code",
   "execution_count": 15,
   "id": "7c2cd499-2871-4328-bef5-0e985c23a4fb",
   "metadata": {},
   "outputs": [
    {
     "name": "stdout",
     "output_type": "stream",
     "text": [
      "139708754747840\n",
      "139708754747840\n"
     ]
    }
   ],
   "source": [
    "print(id(lst_1))\n",
    "print(id(lst_2))"
   ]
  },
  {
   "cell_type": "code",
   "execution_count": null,
   "id": "b2fedbf0-fc78-409a-ad18-f170ce50e715",
   "metadata": {},
   "outputs": [],
   "source": [
    "list-mutable\n",
    "string-immutable"
   ]
  },
  {
   "cell_type": "code",
   "execution_count": 1,
   "id": "50e2baaa-7b4c-48b2-941d-602e88dddeb6",
   "metadata": {},
   "outputs": [
    {
     "data": {
      "text/plain": [
       "True"
      ]
     },
     "execution_count": 1,
     "metadata": {},
     "output_type": "execute_result"
    }
   ],
   "source": [
    "150!=299"
   ]
  },
  {
   "cell_type": "markdown",
   "id": "46d72225-c6be-4e49-9612-9d7a227dad2b",
   "metadata": {},
   "source": [
    "## Comparison Opertor\n",
    "1.>=\n",
    "2.<=\n",
    "3.==\n",
    "4.!="
   ]
  },
  {
   "cell_type": "code",
   "execution_count": 25,
   "id": "8b4ceac5-62cb-4789-99c8-3a1efbfe663a",
   "metadata": {},
   "outputs": [
    {
     "data": {
      "text/plain": [
       "False"
      ]
     },
     "execution_count": 25,
     "metadata": {},
     "output_type": "execute_result"
    }
   ],
   "source": [
    "100>200"
   ]
  },
  {
   "cell_type": "code",
   "execution_count": 4,
   "id": "580c89f2-7314-4905-8317-010b576f80f1",
   "metadata": {},
   "outputs": [
    {
     "data": {
      "text/plain": [
       "True"
      ]
     },
     "execution_count": 4,
     "metadata": {},
     "output_type": "execute_result"
    }
   ],
   "source": [
    "140==140"
   ]
  },
  {
   "cell_type": "code",
   "execution_count": 3,
   "id": "2182cb75-e5c7-4e21-b867-f99a2859a3ee",
   "metadata": {},
   "outputs": [
    {
     "data": {
      "text/plain": [
       "False"
      ]
     },
     "execution_count": 3,
     "metadata": {},
     "output_type": "execute_result"
    }
   ],
   "source": [
    "100==200"
   ]
  },
  {
   "cell_type": "code",
   "execution_count": null,
   "id": "cacf9cf5-76db-430e-a43d-4de632a52697",
   "metadata": {},
   "outputs": [],
   "source": [
    "Arithmetic operator\n",
    "+,*,/,%,//"
   ]
  },
  {
   "cell_type": "code",
   "execution_count": 6,
   "id": "e4cf6de0-8aed-4194-ab89-2e738c818863",
   "metadata": {},
   "outputs": [
    {
     "data": {
      "text/plain": [
       "0"
      ]
     },
     "execution_count": 6,
     "metadata": {},
     "output_type": "execute_result"
    }
   ],
   "source": [
    "10%5\n",
    "#remainder"
   ]
  },
  {
   "cell_type": "code",
   "execution_count": 7,
   "id": "39b8284a-079f-4a59-8c6e-57e1284656e6",
   "metadata": {},
   "outputs": [
    {
     "data": {
      "text/plain": [
       "2"
      ]
     },
     "execution_count": 7,
     "metadata": {},
     "output_type": "execute_result"
    }
   ],
   "source": [
    "10//4\n",
    "#approximation"
   ]
  },
  {
   "cell_type": "code",
   "execution_count": 8,
   "id": "76fd62e5-50fe-446c-a66f-8b0f314d6666",
   "metadata": {},
   "outputs": [
    {
     "data": {
      "text/plain": [
       "2.5"
      ]
     },
     "execution_count": 8,
     "metadata": {},
     "output_type": "execute_result"
    }
   ],
   "source": [
    "10/4"
   ]
  },
  {
   "cell_type": "code",
   "execution_count": 10,
   "id": "c111eec5-6085-4503-9ce3-c9feaf4b217b",
   "metadata": {},
   "outputs": [
    {
     "data": {
      "text/plain": [
       "'aaaaa'"
      ]
     },
     "execution_count": 10,
     "metadata": {},
     "output_type": "execute_result"
    }
   ],
   "source": [
    "'a'*5"
   ]
  },
  {
   "cell_type": "markdown",
   "id": "c4ee47e5-d460-42b9-a2f3-81b1e61f8379",
   "metadata": {},
   "source": [
    "##Bitwise Operator\n",
    "1.~(complement)\n",
    "2.&(bitwise and)\n",
    "3.|(bitwise or)\n",
    "4.^(Exclusive or)\n",
    "5.>>\n",
    "6.<<\n",
    "(5 and 6 are shift operators)"
   ]
  },
  {
   "cell_type": "code",
   "execution_count": 14,
   "id": "3c6c3988-659a-40ec-94de-5b054953976d",
   "metadata": {},
   "outputs": [
    {
     "data": {
      "text/plain": [
       "'0b1010'"
      ]
     },
     "execution_count": 14,
     "metadata": {},
     "output_type": "execute_result"
    }
   ],
   "source": [
    "bin(10)"
   ]
  },
  {
   "cell_type": "code",
   "execution_count": 15,
   "id": "122c70f7-06fb-4927-80e8-214bee8059db",
   "metadata": {},
   "outputs": [
    {
     "data": {
      "text/plain": [
       "1"
      ]
     },
     "execution_count": 15,
     "metadata": {},
     "output_type": "execute_result"
    }
   ],
   "source": [
    "1 & 7"
   ]
  },
  {
   "cell_type": "code",
   "execution_count": 17,
   "id": "7eb17fd3-986e-4f4c-abe8-5fdfe2f3cbec",
   "metadata": {},
   "outputs": [
    {
     "data": {
      "text/plain": [
       "7"
      ]
     },
     "execution_count": 17,
     "metadata": {},
     "output_type": "execute_result"
    }
   ],
   "source": [
    "7 | 4"
   ]
  },
  {
   "cell_type": "code",
   "execution_count": 19,
   "id": "f352f57b-7fa9-4e11-8258-894f978a2617",
   "metadata": {},
   "outputs": [
    {
     "data": {
      "text/plain": [
       "-1"
      ]
     },
     "execution_count": 19,
     "metadata": {},
     "output_type": "execute_result"
    }
   ],
   "source": [
    "-8 | 7"
   ]
  },
  {
   "cell_type": "code",
   "execution_count": 23,
   "id": "f2a1085d-3b78-4440-ae6b-f20b16babf50",
   "metadata": {},
   "outputs": [
    {
     "data": {
      "text/plain": [
       "2"
      ]
     },
     "execution_count": 23,
     "metadata": {},
     "output_type": "execute_result"
    }
   ],
   "source": [
    "5>> 1"
   ]
  },
  {
   "cell_type": "code",
   "execution_count": 24,
   "id": "49078692-b999-4383-85f8-85af818af2a9",
   "metadata": {},
   "outputs": [
    {
     "data": {
      "text/plain": [
       "20"
      ]
     },
     "execution_count": 24,
     "metadata": {},
     "output_type": "execute_result"
    }
   ],
   "source": [
    "10<<1"
   ]
  },
  {
   "cell_type": "markdown",
   "id": "3d6f75ce-9c09-4aeb-b3a2-d13450bc1ac0",
   "metadata": {},
   "source": [
    "## strings"
   ]
  },
  {
   "cell_type": "markdown",
   "id": "0565c810-cb94-4f64-ad96-c7056d7f1c03",
   "metadata": {},
   "source": [
    "declaration:- \" \",' '\n"
   ]
  },
  {
   "cell_type": "code",
   "execution_count": 2,
   "id": "f2fc0c69-f871-45fc-9035-9ff98f37dab0",
   "metadata": {},
   "outputs": [],
   "source": [
    "st=\"Vishal Khot\""
   ]
  },
  {
   "cell_type": "code",
   "execution_count": 34,
   "id": "bfe105b9-6e8e-44d6-a938-710220a0207f",
   "metadata": {},
   "outputs": [
    {
     "name": "stdout",
     "output_type": "stream",
     "text": [
      "Vishal"
     ]
    }
   ],
   "source": [
    "for i in range(6):\n",
    "    print(st[i],end=\"\")"
   ]
  },
  {
   "cell_type": "code",
   "execution_count": 39,
   "id": "60bf6200-914d-46e2-b888-b94ed5adf096",
   "metadata": {},
   "outputs": [
    {
     "data": {
      "text/plain": [
       "'K'"
      ]
     },
     "execution_count": 39,
     "metadata": {},
     "output_type": "execute_result"
    }
   ],
   "source": [
    "st[7]"
   ]
  },
  {
   "cell_type": "markdown",
   "id": "cc8c91dd-6b59-422b-a883-dcbcf8c982be",
   "metadata": {},
   "source": [
    "## slicing"
   ]
  },
  {
   "cell_type": "code",
   "execution_count": 40,
   "id": "3158f4e6-dbc8-46be-b390-abf351cb71a3",
   "metadata": {},
   "outputs": [
    {
     "data": {
      "text/plain": [
       "'Khot'"
      ]
     },
     "execution_count": 40,
     "metadata": {},
     "output_type": "execute_result"
    }
   ],
   "source": [
    "st[7:]"
   ]
  },
  {
   "cell_type": "code",
   "execution_count": 43,
   "id": "0a147240-1fe0-459d-977b-7d44914bafb2",
   "metadata": {},
   "outputs": [
    {
     "data": {
      "text/plain": [
       "'tohK lahsiV'"
      ]
     },
     "execution_count": 43,
     "metadata": {},
     "output_type": "execute_result"
    }
   ],
   "source": [
    "st[-1::-1]"
   ]
  },
  {
   "cell_type": "code",
   "execution_count": 44,
   "id": "70689249-85c1-4c6b-b3d4-42916f2e37d5",
   "metadata": {},
   "outputs": [
    {
     "data": {
      "text/plain": [
       "'tohK lahs'"
      ]
     },
     "execution_count": 44,
     "metadata": {},
     "output_type": "execute_result"
    }
   ],
   "source": [
    "st[-1:1:-1]"
   ]
  },
  {
   "cell_type": "code",
   "execution_count": 46,
   "id": "cf0c5b8c-9079-4316-a0b2-dd906427bc64",
   "metadata": {},
   "outputs": [
    {
     "data": {
      "text/plain": [
       "'la'"
      ]
     },
     "execution_count": 46,
     "metadata": {},
     "output_type": "execute_result"
    }
   ],
   "source": [
    "st[5:3:-1]"
   ]
  },
  {
   "cell_type": "markdown",
   "id": "180c59a1-e75d-4a41-9737-b2f9add42598",
   "metadata": {},
   "source": [
    "## Concatination"
   ]
  },
  {
   "cell_type": "code",
   "execution_count": 48,
   "id": "c4f5b219-9ced-48c2-a6cf-feff30c134bb",
   "metadata": {},
   "outputs": [
    {
     "data": {
      "text/plain": [
       "'VishalKhot'"
      ]
     },
     "execution_count": 48,
     "metadata": {},
     "output_type": "execute_result"
    }
   ],
   "source": [
    "a=\"Vishal\"\n",
    "b=\"Khot\"\n",
    "a+b"
   ]
  },
  {
   "cell_type": "code",
   "execution_count": 49,
   "id": "ca8327bd-c6d4-4371-aa76-bc7dff5d6c53",
   "metadata": {},
   "outputs": [
    {
     "data": {
      "text/plain": [
       "10"
      ]
     },
     "execution_count": 49,
     "metadata": {},
     "output_type": "execute_result"
    }
   ],
   "source": [
    "len(a+b)"
   ]
  },
  {
   "cell_type": "code",
   "execution_count": 52,
   "id": "36372cee-807f-4831-bcb7-eb1ac93db45e",
   "metadata": {},
   "outputs": [
    {
     "data": {
      "text/plain": [
       "1"
      ]
     },
     "execution_count": 52,
     "metadata": {},
     "output_type": "execute_result"
    }
   ],
   "source": [
    "st.find(\"i\")"
   ]
  },
  {
   "cell_type": "code",
   "execution_count": 53,
   "id": "b530440c-060e-4c76-be3c-9ff636a34cd6",
   "metadata": {},
   "outputs": [
    {
     "data": {
      "text/plain": [
       "'Vishal Khot'"
      ]
     },
     "execution_count": 53,
     "metadata": {},
     "output_type": "execute_result"
    }
   ],
   "source": [
    "st"
   ]
  },
  {
   "cell_type": "code",
   "execution_count": 54,
   "id": "a745e2d4-8688-4007-8cfe-748c4f340f4e",
   "metadata": {},
   "outputs": [
    {
     "data": {
      "text/plain": [
       "'Vishal khot'"
      ]
     },
     "execution_count": 54,
     "metadata": {},
     "output_type": "execute_result"
    }
   ],
   "source": [
    "st.capitalize() #first letter capital "
   ]
  },
  {
   "cell_type": "code",
   "execution_count": 57,
   "id": "2c57a529-44d5-44af-94fd-10127c82fb5b",
   "metadata": {},
   "outputs": [
    {
     "data": {
      "text/plain": [
       "2"
      ]
     },
     "execution_count": 57,
     "metadata": {},
     "output_type": "execute_result"
    }
   ],
   "source": [
    "st.count(\"h\")"
   ]
  },
  {
   "cell_type": "code",
   "execution_count": 60,
   "id": "345b2311-3807-4cab-ad31-15b2fe1b48bb",
   "metadata": {},
   "outputs": [
    {
     "data": {
      "text/plain": [
       "'VISHAL KHOT'"
      ]
     },
     "execution_count": 60,
     "metadata": {},
     "output_type": "execute_result"
    }
   ],
   "source": [
    "st.upper()"
   ]
  },
  {
   "cell_type": "code",
   "execution_count": 63,
   "id": "eb20b8dd-464c-41de-8731-e459a39fda8f",
   "metadata": {},
   "outputs": [
    {
     "data": {
      "text/plain": [
       "8"
      ]
     },
     "execution_count": 63,
     "metadata": {},
     "output_type": "execute_result"
    }
   ],
   "source": [
    "st.find(\"h\",5,9)"
   ]
  },
  {
   "cell_type": "code",
   "execution_count": 64,
   "id": "71f6a4d7-ff69-45d2-b360-7ae27da9f4b2",
   "metadata": {},
   "outputs": [
    {
     "data": {
      "text/plain": [
       "-1"
      ]
     },
     "execution_count": 64,
     "metadata": {},
     "output_type": "execute_result"
    }
   ],
   "source": [
    "st.find(\"h\",5,6)\n",
    "#not present"
   ]
  },
  {
   "cell_type": "code",
   "execution_count": 65,
   "id": "a1dc1652-aa49-4adf-b885-845ff061a37d",
   "metadata": {},
   "outputs": [
    {
     "data": {
      "text/plain": [
       "['Vishal', 'Khot']"
      ]
     },
     "execution_count": 65,
     "metadata": {},
     "output_type": "execute_result"
    }
   ],
   "source": [
    "st.split()"
   ]
  },
  {
   "cell_type": "code",
   "execution_count": 67,
   "id": "0456d09e-7a2f-4e8d-9662-3edee2d60d9d",
   "metadata": {},
   "outputs": [
    {
     "data": {
      "text/plain": [
       "['Vis', 'al K', 'ot']"
      ]
     },
     "execution_count": 67,
     "metadata": {},
     "output_type": "execute_result"
    }
   ],
   "source": [
    "st.split(\"h\")"
   ]
  },
  {
   "cell_type": "code",
   "execution_count": 69,
   "id": "82548877-674d-4533-86ba-1dcb3166d474",
   "metadata": {},
   "outputs": [
    {
     "data": {
      "text/plain": [
       "('Vis', 'h', 'al Khot')"
      ]
     },
     "execution_count": 69,
     "metadata": {},
     "output_type": "execute_result"
    }
   ],
   "source": [
    "st.partition(\"h\")\n",
    "#It will work for the first character only"
   ]
  },
  {
   "cell_type": "code",
   "execution_count": 3,
   "id": "e5a68d34-1fba-427d-abd9-cede3dac6187",
   "metadata": {},
   "outputs": [
    {
     "data": {
      "text/plain": [
       "'vISHAL kHOT'"
      ]
     },
     "execution_count": 3,
     "metadata": {},
     "output_type": "execute_result"
    }
   ],
   "source": [
    "st.swapcase()"
   ]
  },
  {
   "cell_type": "code",
   "execution_count": 4,
   "id": "330f1d7f-3856-4c5e-aac8-6a04311ab038",
   "metadata": {},
   "outputs": [
    {
     "data": {
      "text/plain": [
       "'Vishal Khot'"
      ]
     },
     "execution_count": 4,
     "metadata": {},
     "output_type": "execute_result"
    }
   ],
   "source": [
    "st"
   ]
  },
  {
   "cell_type": "code",
   "execution_count": 5,
   "id": "e97ac8ac-54c8-4890-9879-d8b5af010ee8",
   "metadata": {},
   "outputs": [],
   "source": [
    "st=\"vishal khot\""
   ]
  },
  {
   "cell_type": "code",
   "execution_count": 6,
   "id": "bdd31d87-04c3-4abc-b853-a2a51655db54",
   "metadata": {},
   "outputs": [
    {
     "data": {
      "text/plain": [
       "'Vishal Khot'"
      ]
     },
     "execution_count": 6,
     "metadata": {},
     "output_type": "execute_result"
    }
   ],
   "source": [
    "st.title()"
   ]
  },
  {
   "cell_type": "code",
   "execution_count": 10,
   "id": "021a56e2-1f93-4d22-85ad-7982c287a208",
   "metadata": {},
   "outputs": [
    {
     "data": {
      "text/plain": [
       "'t o h k   l a h s i v'"
      ]
     },
     "execution_count": 10,
     "metadata": {},
     "output_type": "execute_result"
    }
   ],
   "source": [
    "\" \".join(reversed(st))"
   ]
  },
  {
   "cell_type": "code",
   "execution_count": 12,
   "id": "2717e0e2-3459-4312-b88b-dd1464d4e702",
   "metadata": {},
   "outputs": [
    {
     "data": {
      "text/plain": [
       "'a b c d'"
      ]
     },
     "execution_count": 12,
     "metadata": {},
     "output_type": "execute_result"
    }
   ],
   "source": [
    "\" \".join(\"abcd\")"
   ]
  },
  {
   "cell_type": "code",
   "execution_count": 17,
   "id": "7ab17822-9470-44ac-bf2a-110e1fb13de8",
   "metadata": {},
   "outputs": [],
   "source": [
    "a=reversed(st)"
   ]
  },
  {
   "cell_type": "code",
   "execution_count": 28,
   "id": "8daef360-3809-4c65-9bec-300ab066dba2",
   "metadata": {},
   "outputs": [
    {
     "data": {
      "text/plain": [
       "[' ', 'V', 'i', 's', 'h', ' ', 'a', 'l', ' ']"
      ]
     },
     "execution_count": 28,
     "metadata": {},
     "output_type": "execute_result"
    }
   ],
   "source": [
    "list(a)"
   ]
  },
  {
   "cell_type": "markdown",
   "id": "775bd024-e57f-47b2-8951-e23775bd5b99",
   "metadata": {},
   "source": [
    "#REMOVING CHARACTERS FROM THE END OF THE STRING"
   ]
  },
  {
   "cell_type": "code",
   "execution_count": 29,
   "id": "1dc7d6ef-04dc-485b-9a08-f4b2b6c7332f",
   "metadata": {},
   "outputs": [],
   "source": [
    "a=\" Vish al \""
   ]
  },
  {
   "cell_type": "code",
   "execution_count": 30,
   "id": "1d28081a-44cf-4a26-907b-17efb03b21f8",
   "metadata": {},
   "outputs": [
    {
     "data": {
      "text/plain": [
       "' Vish al '"
      ]
     },
     "execution_count": 30,
     "metadata": {},
     "output_type": "execute_result"
    }
   ],
   "source": [
    "a"
   ]
  },
  {
   "cell_type": "code",
   "execution_count": 31,
   "id": "e37c3660-8eab-4cfb-8219-82d37618f772",
   "metadata": {},
   "outputs": [
    {
     "data": {
      "text/plain": [
       "'Vish al'"
      ]
     },
     "execution_count": 31,
     "metadata": {},
     "output_type": "execute_result"
    }
   ],
   "source": [
    "a.strip(\" \")"
   ]
  },
  {
   "cell_type": "code",
   "execution_count": 32,
   "id": "a42a49e7-7b89-4241-84ed-5be65f1bfb4e",
   "metadata": {},
   "outputs": [
    {
     "data": {
      "text/plain": [
       "'Vish al '"
      ]
     },
     "execution_count": 32,
     "metadata": {},
     "output_type": "execute_result"
    }
   ],
   "source": [
    "a.lstrip(\" \")"
   ]
  },
  {
   "cell_type": "code",
   "execution_count": 33,
   "id": "42934fe3-8a91-48a9-975c-3e4da292c733",
   "metadata": {},
   "outputs": [
    {
     "data": {
      "text/plain": [
       "' Vish al'"
      ]
     },
     "execution_count": 33,
     "metadata": {},
     "output_type": "execute_result"
    }
   ],
   "source": [
    "a.rstrip(\" \")"
   ]
  },
  {
   "cell_type": "code",
   "execution_count": 34,
   "id": "cb1b7241-e5ff-4b2a-a690-c2d0c4236646",
   "metadata": {},
   "outputs": [],
   "source": [
    "a=a.replace(\" \",\"\")"
   ]
  },
  {
   "cell_type": "code",
   "execution_count": 35,
   "id": "13ab6133-11ab-4385-9092-97269899bd57",
   "metadata": {},
   "outputs": [
    {
     "data": {
      "text/plain": [
       "'Vishal'"
      ]
     },
     "execution_count": 35,
     "metadata": {},
     "output_type": "execute_result"
    }
   ],
   "source": [
    "a"
   ]
  },
  {
   "cell_type": "markdown",
   "id": "9b58f528-b752-4b4d-bdc3-b516ad79463b",
   "metadata": {},
   "source": [
    "### NOTE:- IT REPLACES OLD STRING BY NEW STRING"
   ]
  },
  {
   "cell_type": "code",
   "execution_count": 38,
   "id": "b9273c0b-6278-4c0c-bd96-4f482c5942ba",
   "metadata": {},
   "outputs": [
    {
     "data": {
      "text/plain": [
       "'Hello   World'"
      ]
     },
     "execution_count": 38,
     "metadata": {},
     "output_type": "execute_result"
    }
   ],
   "source": [
    "\"Hello \\tWorld\".expandtabs()"
   ]
  },
  {
   "cell_type": "code",
   "execution_count": 42,
   "id": "c57697ad-0411-443e-aec3-1811c658421d",
   "metadata": {},
   "outputs": [],
   "source": [
    "a=\"Welcome to pwskills Dat cience masters course\""
   ]
  },
  {
   "cell_type": "code",
   "execution_count": 43,
   "id": "94f009eb-2dbb-4cb3-9648-be7715101ac0",
   "metadata": {},
   "outputs": [
    {
     "data": {
      "text/plain": [
       "'Welcome to pwskills Data Science masters course'"
      ]
     },
     "execution_count": 43,
     "metadata": {},
     "output_type": "execute_result"
    }
   ],
   "source": [
    "a=a.replace(\"Dat\",\"Data\")\n",
    "a.replace(\"cience\",\"Science\")"
   ]
  },
  {
   "cell_type": "code",
   "execution_count": 44,
   "id": "6acf9d06-a172-40fa-b1b8-06313b0c16dc",
   "metadata": {},
   "outputs": [
    {
     "data": {
      "text/plain": [
       "False"
      ]
     },
     "execution_count": 44,
     "metadata": {},
     "output_type": "execute_result"
    }
   ],
   "source": [
    "\"Vishal\".isupper()"
   ]
  },
  {
   "cell_type": "code",
   "execution_count": 45,
   "id": "09fcdcf2-20ae-4388-b2c2-9b4f1707265e",
   "metadata": {},
   "outputs": [
    {
     "data": {
      "text/plain": [
       "True"
      ]
     },
     "execution_count": 45,
     "metadata": {},
     "output_type": "execute_result"
    }
   ],
   "source": [
    "\"ABC\".isupper()"
   ]
  },
  {
   "cell_type": "code",
   "execution_count": 46,
   "id": "206bff57-ca6e-4fa8-8bc6-438336279bcb",
   "metadata": {},
   "outputs": [
    {
     "data": {
      "text/plain": [
       "True"
      ]
     },
     "execution_count": 46,
     "metadata": {},
     "output_type": "execute_result"
    }
   ],
   "source": [
    "\"   \".isspace()"
   ]
  },
  {
   "cell_type": "code",
   "execution_count": 47,
   "id": "ec3c1bea-4975-45ec-a418-a803191ec885",
   "metadata": {},
   "outputs": [
    {
     "data": {
      "text/plain": [
       "True"
      ]
     },
     "execution_count": 47,
     "metadata": {},
     "output_type": "execute_result"
    }
   ],
   "source": [
    "\"173782\".isdecimal()"
   ]
  },
  {
   "cell_type": "code",
   "execution_count": 48,
   "id": "220c7542-7b1e-47da-893f-9e93e462bb81",
   "metadata": {},
   "outputs": [
    {
     "data": {
      "text/plain": [
       "True"
      ]
     },
     "execution_count": 48,
     "metadata": {},
     "output_type": "execute_result"
    }
   ],
   "source": [
    "\"vishal\".endswith(\"l\")"
   ]
  },
  {
   "cell_type": "code",
   "execution_count": 49,
   "id": "d5e4adc6-cd0c-48e6-ae5f-4c6acdfa3933",
   "metadata": {},
   "outputs": [
    {
     "data": {
      "text/plain": [
       "False"
      ]
     },
     "execution_count": 49,
     "metadata": {},
     "output_type": "execute_result"
    }
   ],
   "source": [
    "\"vishal\".startswith(\"l\")"
   ]
  },
  {
   "cell_type": "code",
   "execution_count": 51,
   "id": "5ff0fcfd-dae1-4699-8b50-d7ec7143dc1f",
   "metadata": {},
   "outputs": [
    {
     "name": "stdout",
     "output_type": "stream",
     "text": [
      "V is not a vowel\n",
      "i is a vowel\n",
      "s is not a vowel\n",
      "h is not a vowel\n",
      "a is a vowel\n",
      "l is not a vowel\n"
     ]
    }
   ],
   "source": [
    "name=\"Vishal\"\n",
    "vowel=\"aAiIoOuU\"\n",
    "for i in name:\n",
    "    if i in vowel:\n",
    "        print(\"{} is a vowel\".format(i))\n",
    "    else:\n",
    "        print(\"{} is not a vowel\".format(i))"
   ]
  },
  {
   "cell_type": "markdown",
   "id": "d47ebb11-aa96-43af-8a20-8afa595cb63e",
   "metadata": {},
   "source": [
    "#### LIST"
   ]
  },
  {
   "cell_type": "code",
   "execution_count": 52,
   "id": "3ea2d3b3-6fb4-4bfc-b646-f86918af0c80",
   "metadata": {},
   "outputs": [
    {
     "data": {
      "text/plain": [
       "list"
      ]
     },
     "execution_count": 52,
     "metadata": {},
     "output_type": "execute_result"
    }
   ],
   "source": [
    "type([])"
   ]
  },
  {
   "cell_type": "code",
   "execution_count": 53,
   "id": "219a170c-6881-4130-b421-d67d0dba9382",
   "metadata": {},
   "outputs": [
    {
     "data": {
      "text/plain": [
       "[1, 2, 3, 4, 5, 9]"
      ]
     },
     "execution_count": 53,
     "metadata": {},
     "output_type": "execute_result"
    }
   ],
   "source": [
    "[1,2,3,4,5,9]"
   ]
  },
  {
   "cell_type": "code",
   "execution_count": 54,
   "id": "45691d7c-d699-48b7-b082-11c2285165c5",
   "metadata": {},
   "outputs": [],
   "source": [
    "a=\"Vishal\""
   ]
  },
  {
   "cell_type": "code",
   "execution_count": 55,
   "id": "9eebfe9e-d9bc-411c-88af-bd27ef11f9f9",
   "metadata": {},
   "outputs": [
    {
     "data": {
      "text/plain": [
       "['V', 'i', 's', 'h', 'a', 'l']"
      ]
     },
     "execution_count": 55,
     "metadata": {},
     "output_type": "execute_result"
    }
   ],
   "source": [
    "list(a)"
   ]
  },
  {
   "cell_type": "code",
   "execution_count": 56,
   "id": "fb35971d-e3b3-40b0-bab4-5c98cabf93c1",
   "metadata": {},
   "outputs": [],
   "source": [
    "a=\"Data Science Master Course\""
   ]
  },
  {
   "cell_type": "code",
   "execution_count": 57,
   "id": "b85ca77d-df0b-4b0a-b3e3-07971e146979",
   "metadata": {},
   "outputs": [
    {
     "data": {
      "text/plain": [
       "['Data', 'Science', 'Master', 'Course']"
      ]
     },
     "execution_count": 57,
     "metadata": {},
     "output_type": "execute_result"
    }
   ],
   "source": [
    "a.split(\" \")"
   ]
  },
  {
   "cell_type": "code",
   "execution_count": 58,
   "id": "8ae746ff-9f56-472a-80f9-cae29d31513c",
   "metadata": {},
   "outputs": [],
   "source": [
    "lst=[1,2,[4,5,\"abc\"]]"
   ]
  },
  {
   "cell_type": "code",
   "execution_count": 59,
   "id": "4c81af92-3fdc-47b3-a032-dfcc579e8346",
   "metadata": {},
   "outputs": [
    {
     "data": {
      "text/plain": [
       "'b'"
      ]
     },
     "execution_count": 59,
     "metadata": {},
     "output_type": "execute_result"
    }
   ],
   "source": [
    "lst[2][2][1]"
   ]
  },
  {
   "cell_type": "code",
   "execution_count": 60,
   "id": "49be753e-86f9-4307-a868-cb89344e4fe4",
   "metadata": {},
   "outputs": [
    {
     "data": {
      "text/plain": [
       "[1, 2, [4, 5, 'abc'], 'a', 'b', 'c']"
      ]
     },
     "execution_count": 60,
     "metadata": {},
     "output_type": "execute_result"
    }
   ],
   "source": [
    "lst+['a','b','c']"
   ]
  },
  {
   "cell_type": "code",
   "execution_count": 61,
   "id": "49cd087d-c8e6-446e-914b-964f1b815970",
   "metadata": {},
   "outputs": [],
   "source": [
    "lst.append(\"ab\")"
   ]
  },
  {
   "cell_type": "code",
   "execution_count": 62,
   "id": "1609217d-7f92-44bf-a82d-f028a98f5461",
   "metadata": {},
   "outputs": [
    {
     "data": {
      "text/plain": [
       "[1, 2, [4, 5, 'abc'], 'ab']"
      ]
     },
     "execution_count": 62,
     "metadata": {},
     "output_type": "execute_result"
    }
   ],
   "source": [
    "lst"
   ]
  },
  {
   "cell_type": "code",
   "execution_count": 63,
   "id": "7e7d4470-e331-4b4e-99c7-b08a409a4c5c",
   "metadata": {},
   "outputs": [
    {
     "data": {
      "text/plain": [
       "[1, 2, [4, 5, 'abc'], 'ab', 1, 2, [4, 5, 'abc'], 'ab']"
      ]
     },
     "execution_count": 63,
     "metadata": {},
     "output_type": "execute_result"
    }
   ],
   "source": [
    "lst*2"
   ]
  },
  {
   "cell_type": "code",
   "execution_count": 66,
   "id": "818a5501-0ac5-4264-8fb9-d7a23d92531b",
   "metadata": {},
   "outputs": [
    {
     "name": "stdout",
     "output_type": "stream",
     "text": [
      "present\n"
     ]
    }
   ],
   "source": [
    "if \"ab\" in lst:\n",
    "    print(\"present\")\n",
    "else:\n",
    "    print(\"Not present\")"
   ]
  },
  {
   "cell_type": "code",
   "execution_count": 71,
   "id": "83c474ad-081b-4a13-9ece-6e65f78536d0",
   "metadata": {},
   "outputs": [
    {
     "name": "stdout",
     "output_type": "stream",
     "text": [
      "24\n"
     ]
    }
   ],
   "source": [
    "lst=[1,2,4,24]\n",
    "print(max(lst))"
   ]
  },
  {
   "cell_type": "code",
   "execution_count": 75,
   "id": "d2993f00-d96d-4355-902a-e13c7193c21f",
   "metadata": {},
   "outputs": [
    {
     "data": {
      "text/plain": [
       "False"
      ]
     },
     "execution_count": 75,
     "metadata": {},
     "output_type": "execute_result"
    }
   ],
   "source": [
    "1.99999999 in [2,3,4]"
   ]
  },
  {
   "cell_type": "code",
   "execution_count": 76,
   "id": "29195eb6-6e4b-4cbc-b69f-09b89bac9c20",
   "metadata": {},
   "outputs": [
    {
     "data": {
      "text/plain": [
       "True"
      ]
     },
     "execution_count": 76,
     "metadata": {},
     "output_type": "execute_result"
    }
   ],
   "source": [
    "1.9999999999999999 in [2,3,4]"
   ]
  },
  {
   "cell_type": "code",
   "execution_count": 79,
   "id": "a0871006-91f6-45b5-b42f-64b0ae70221c",
   "metadata": {},
   "outputs": [],
   "source": [
    "lst=[1,2,3]\n",
    "lst.append([3,4])"
   ]
  },
  {
   "cell_type": "code",
   "execution_count": 80,
   "id": "888945d6-1ea3-4b7c-bbc7-80441e36d66a",
   "metadata": {},
   "outputs": [
    {
     "data": {
      "text/plain": [
       "[1, 2, 3, [3, 4]]"
      ]
     },
     "execution_count": 80,
     "metadata": {},
     "output_type": "execute_result"
    }
   ],
   "source": [
    "lst"
   ]
  },
  {
   "cell_type": "code",
   "execution_count": 83,
   "id": "61f19471-920e-4cff-a468-1b5e6e0b6bc6",
   "metadata": {},
   "outputs": [
    {
     "data": {
      "text/plain": [
       "3"
      ]
     },
     "execution_count": 83,
     "metadata": {},
     "output_type": "execute_result"
    }
   ],
   "source": [
    "lst.pop()#inplace operation"
   ]
  },
  {
   "cell_type": "code",
   "execution_count": 82,
   "id": "10b7c2cf-a372-446b-b90e-1e9655b6ddf1",
   "metadata": {},
   "outputs": [
    {
     "data": {
      "text/plain": [
       "[1, 2, 3]"
      ]
     },
     "execution_count": 82,
     "metadata": {},
     "output_type": "execute_result"
    }
   ],
   "source": [
    "lst"
   ]
  },
  {
   "cell_type": "code",
   "execution_count": 84,
   "id": "235968e5-564e-4a6c-b899-d19af3845635",
   "metadata": {},
   "outputs": [
    {
     "data": {
      "text/plain": [
       "2"
      ]
     },
     "execution_count": 84,
     "metadata": {},
     "output_type": "execute_result"
    }
   ],
   "source": [
    "lst.pop(1)"
   ]
  },
  {
   "cell_type": "code",
   "execution_count": 85,
   "id": "46fca6b2-2fe9-4630-bb9e-5b7396d5bcd3",
   "metadata": {},
   "outputs": [],
   "source": [
    "lst.append(4)"
   ]
  },
  {
   "cell_type": "code",
   "execution_count": 86,
   "id": "64674c55-8cb2-448a-a877-d7fa14ab055b",
   "metadata": {},
   "outputs": [
    {
     "data": {
      "text/plain": [
       "[1, 4]"
      ]
     },
     "execution_count": 86,
     "metadata": {},
     "output_type": "execute_result"
    }
   ],
   "source": [
    "lst"
   ]
  },
  {
   "cell_type": "code",
   "execution_count": 87,
   "id": "19f6e7a9-ee08-4b65-b87a-b966594540be",
   "metadata": {},
   "outputs": [],
   "source": [
    "lst.remove(4)"
   ]
  },
  {
   "cell_type": "code",
   "execution_count": 88,
   "id": "346eb310-59bf-4753-9233-64b2582de2b3",
   "metadata": {},
   "outputs": [
    {
     "data": {
      "text/plain": [
       "[1]"
      ]
     },
     "execution_count": 88,
     "metadata": {},
     "output_type": "execute_result"
    }
   ],
   "source": [
    "lst"
   ]
  },
  {
   "cell_type": "code",
   "execution_count": 89,
   "id": "d6085547-3b02-44d6-863c-c0bd9de823b6",
   "metadata": {},
   "outputs": [],
   "source": [
    "lst=[1,2,4,21,45]"
   ]
  },
  {
   "cell_type": "code",
   "execution_count": 90,
   "id": "f4f5476b-35b9-4bd0-87af-09b3c190257c",
   "metadata": {},
   "outputs": [],
   "source": [
    "lst.reverse()#inplace"
   ]
  },
  {
   "cell_type": "code",
   "execution_count": 91,
   "id": "72b33ce1-6b0c-473a-8724-ab691e746b4a",
   "metadata": {},
   "outputs": [
    {
     "data": {
      "text/plain": [
       "[45, 21, 4, 2, 1]"
      ]
     },
     "execution_count": 91,
     "metadata": {},
     "output_type": "execute_result"
    }
   ],
   "source": [
    "lst"
   ]
  },
  {
   "cell_type": "code",
   "execution_count": 94,
   "id": "202caa77-f6cb-4ec1-9b75-8120bb46ff71",
   "metadata": {},
   "outputs": [],
   "source": [
    "lst.sort()#inplace"
   ]
  },
  {
   "cell_type": "code",
   "execution_count": 95,
   "id": "98401d52-f14e-4744-8cf0-8cd856c83d50",
   "metadata": {},
   "outputs": [
    {
     "data": {
      "text/plain": [
       "[1, 2, 4, 21, 45]"
      ]
     },
     "execution_count": 95,
     "metadata": {},
     "output_type": "execute_result"
    }
   ],
   "source": [
    "lst"
   ]
  },
  {
   "cell_type": "code",
   "execution_count": 97,
   "id": "27aab668-00f3-4400-b13d-06a644e22969",
   "metadata": {},
   "outputs": [],
   "source": [
    "lst.extend(['a','b'])"
   ]
  },
  {
   "cell_type": "code",
   "execution_count": 98,
   "id": "5b1f7263-ad7b-4a7f-b436-668560fd6feb",
   "metadata": {},
   "outputs": [
    {
     "data": {
      "text/plain": [
       "[1, 2, 4, 21, 45, 'a', 'b']"
      ]
     },
     "execution_count": 98,
     "metadata": {},
     "output_type": "execute_result"
    }
   ],
   "source": [
    "lst"
   ]
  },
  {
   "cell_type": "code",
   "execution_count": 99,
   "id": "a308a992-2cf7-4102-bbe1-b110886b24f6",
   "metadata": {},
   "outputs": [],
   "source": [
    "a=[1,2,3]\n",
    "b=[4,5,6]\n",
    "c=[7,8,9]\n",
    "d=[a,b,c]"
   ]
  },
  {
   "cell_type": "code",
   "execution_count": 100,
   "id": "e8060c96-053e-4fd0-ac09-f1c280893eb4",
   "metadata": {},
   "outputs": [
    {
     "data": {
      "text/plain": [
       "[[1, 2, 3], [4, 5, 6], [7, 8, 9]]"
      ]
     },
     "execution_count": 100,
     "metadata": {},
     "output_type": "execute_result"
    }
   ],
   "source": [
    "d"
   ]
  },
  {
   "cell_type": "code",
   "execution_count": 101,
   "id": "86fd3223-859c-401d-a7bf-3e85fa42f1c6",
   "metadata": {},
   "outputs": [
    {
     "name": "stdout",
     "output_type": "stream",
     "text": [
      "1\n",
      "4\n",
      "7\n"
     ]
    }
   ],
   "source": [
    "for i in range(len(d)):\n",
    "    print(d[i][0])"
   ]
  },
  {
   "cell_type": "markdown",
   "id": "2c01f02f-2523-4d1f-93cf-337b4231c69d",
   "metadata": {},
   "source": [
    "#### LIST COMPREHENSION"
   ]
  },
  {
   "cell_type": "code",
   "execution_count": 110,
   "id": "88b727e9-66ee-4f97-a03b-a6835ba558de",
   "metadata": {},
   "outputs": [
    {
     "data": {
      "text/plain": [
       "[0, 1, 2, 3, 4, 5, 6, 7, 8, 9]"
      ]
     },
     "execution_count": 110,
     "metadata": {},
     "output_type": "execute_result"
    }
   ],
   "source": [
    "[i for i in range(10)]"
   ]
  },
  {
   "cell_type": "code",
   "execution_count": 114,
   "id": "7e24ac2b-6fcd-4fb1-8f59-b1df70ddaae5",
   "metadata": {},
   "outputs": [
    {
     "data": {
      "text/plain": [
       "[0,\n",
       " 'odd',\n",
       " 2,\n",
       " 'odd',\n",
       " 4,\n",
       " 'odd',\n",
       " 6,\n",
       " 'odd',\n",
       " 8,\n",
       " 'odd',\n",
       " 10,\n",
       " 'odd',\n",
       " 12,\n",
       " 'odd',\n",
       " 14,\n",
       " 'odd',\n",
       " 16,\n",
       " 'odd',\n",
       " 18,\n",
       " 'odd']"
      ]
     },
     "execution_count": 114,
     "metadata": {},
     "output_type": "execute_result"
    }
   ],
   "source": [
    "[i if i%2==0 else \"odd\" for i in range(20)]"
   ]
  },
  {
   "cell_type": "code",
   "execution_count": 115,
   "id": "baece8fa-0892-40f7-9f65-4b3865c0b893",
   "metadata": {},
   "outputs": [
    {
     "data": {
      "text/plain": [
       "20"
      ]
     },
     "execution_count": 115,
     "metadata": {},
     "output_type": "execute_result"
    }
   ],
   "source": [
    "#even sum\n",
    "sum(i for i in range(10) if i%2==0)"
   ]
  },
  {
   "cell_type": "code",
   "execution_count": 116,
   "id": "61bde052-f159-4006-968c-7265d58fac48",
   "metadata": {},
   "outputs": [
    {
     "data": {
      "text/plain": [
       "[1, 4, 9, 16, 25, 36, 49, 64, 81]"
      ]
     },
     "execution_count": 116,
     "metadata": {},
     "output_type": "execute_result"
    }
   ],
   "source": [
    "lst=[1,2,3,4,5,6,7,8,9]\n",
    "[i**2 for i in lst ]"
   ]
  },
  {
   "cell_type": "code",
   "execution_count": 118,
   "id": "b701adc4-5023-4f1c-8a7b-c705546279ae",
   "metadata": {},
   "outputs": [
    {
     "data": {
      "text/plain": [
       "[3, 244, 2]"
      ]
     },
     "execution_count": 118,
     "metadata": {},
     "output_type": "execute_result"
    }
   ],
   "source": [
    "lst=[-1,3,244,2,-13,0]\n",
    "[i  for i in lst if i>0]"
   ]
  },
  {
   "cell_type": "code",
   "execution_count": 120,
   "id": "9737a519-48b1-4cde-88db-1469db059e15",
   "metadata": {},
   "outputs": [
    {
     "data": {
      "text/plain": [
       "['a', 'b', 'm']"
      ]
     },
     "execution_count": 120,
     "metadata": {},
     "output_type": "execute_result"
    }
   ],
   "source": [
    "lst=[\"apple\",\"banana\",\"mango\"]\n",
    "[i[0] for i in lst]"
   ]
  },
  {
   "cell_type": "code",
   "execution_count": 121,
   "id": "f81acc00-ed75-4467-b728-19e6149331d4",
   "metadata": {},
   "outputs": [
    {
     "data": {
      "text/plain": [
       "[73.4, 39.2, 411.8, 75.2, 64.4]"
      ]
     },
     "execution_count": 121,
     "metadata": {},
     "output_type": "execute_result"
    }
   ],
   "source": [
    "#convert a list of temperature from degree to fahrenhiet\n",
    "lst=[23,4,211,24,18]\n",
    "[(9/5)*i+32 for i in lst]"
   ]
  },
  {
   "cell_type": "code",
   "execution_count": null,
   "id": "ad6a4d9c-c261-4e97-a3e1-78545427daa5",
   "metadata": {},
   "outputs": [],
   "source": []
  }
 ],
 "metadata": {
  "kernelspec": {
   "display_name": "Python 3 (ipykernel)",
   "language": "python",
   "name": "python3"
  },
  "language_info": {
   "codemirror_mode": {
    "name": "ipython",
    "version": 3
   },
   "file_extension": ".py",
   "mimetype": "text/x-python",
   "name": "python",
   "nbconvert_exporter": "python",
   "pygments_lexer": "ipython3",
   "version": "3.10.8"
  }
 },
 "nbformat": 4,
 "nbformat_minor": 5
}
