{
 "cells": [
  {
   "cell_type": "code",
   "execution_count": 1,
   "id": "70a7fac9-055c-4d41-9699-ad4bfb5c4efb",
   "metadata": {},
   "outputs": [],
   "source": [
    "a=open(\"abc.txt\",'w')"
   ]
  },
  {
   "cell_type": "code",
   "execution_count": 2,
   "id": "85e08227-8941-4ec1-87c3-b019b521c6c9",
   "metadata": {},
   "outputs": [
    {
     "data": {
      "text/plain": [
       "'/home/jovyan/work/Python'"
      ]
     },
     "execution_count": 2,
     "metadata": {},
     "output_type": "execute_result"
    }
   ],
   "source": [
    "pwd"
   ]
  },
  {
   "cell_type": "code",
   "execution_count": 3,
   "id": "062b354b-ccc0-4e6e-938c-334945079c31",
   "metadata": {},
   "outputs": [
    {
     "name": "stdout",
     "output_type": "stream",
     "text": [
      "1.ipynb  2.ipynb  abc.txt  Files.ipynb  function.ipynb  oop.ipynb\n"
     ]
    }
   ],
   "source": [
    "ls"
   ]
  },
  {
   "cell_type": "code",
   "execution_count": 7,
   "id": "c9e19bdf-cde5-4ff7-9ed4-316c71f2f1f3",
   "metadata": {},
   "outputs": [
    {
     "data": {
      "text/plain": [
       "33"
      ]
     },
     "execution_count": 7,
     "metadata": {},
     "output_type": "execute_result"
    }
   ],
   "source": [
    "a.write(\"This is my first write operation.\")"
   ]
  },
  {
   "cell_type": "code",
   "execution_count": 8,
   "id": "9e35bf47-376d-4855-8dd5-5270e091f464",
   "metadata": {},
   "outputs": [],
   "source": [
    "a.close()"
   ]
  },
  {
   "cell_type": "code",
   "execution_count": 13,
   "id": "89df33bd-a6a9-4474-81dc-4504fbfd8ded",
   "metadata": {},
   "outputs": [],
   "source": [
    "data=open(\"abc.txt\",'r')"
   ]
  },
  {
   "cell_type": "code",
   "execution_count": 14,
   "id": "d339ee8b-ceee-45ef-9702-65adfb0b901f",
   "metadata": {},
   "outputs": [
    {
     "data": {
      "text/plain": [
       "'This is my first write operationThis is my first write operation.\\nThis is my secomd write operation.  This is my secomd write operation.'"
      ]
     },
     "execution_count": 14,
     "metadata": {},
     "output_type": "execute_result"
    }
   ],
   "source": [
    "data.read()"
   ]
  },
  {
   "cell_type": "code",
   "execution_count": 15,
   "id": "3d2de5e1-b91b-47aa-a7ef-0e96abdfa412",
   "metadata": {},
   "outputs": [
    {
     "data": {
      "text/plain": [
       "''"
      ]
     },
     "execution_count": 15,
     "metadata": {},
     "output_type": "execute_result"
    }
   ],
   "source": [
    "data.read()"
   ]
  },
  {
   "cell_type": "code",
   "execution_count": 16,
   "id": "dfcc2dba-3785-4021-b552-7814c6a231f9",
   "metadata": {},
   "outputs": [],
   "source": [
    "data.close()"
   ]
  },
  {
   "cell_type": "code",
   "execution_count": 53,
   "id": "616e4de7-e432-453a-ac78-99465806e02e",
   "metadata": {},
   "outputs": [],
   "source": [
    "b=open(\"abc.txt\",'r')"
   ]
  },
  {
   "cell_type": "code",
   "execution_count": 54,
   "id": "d026a4d3-5c92-4611-a924-8e9e7bc83e92",
   "metadata": {},
   "outputs": [
    {
     "data": {
      "text/plain": [
       "'This is my first write operationThis is my first write operation.\\nThis is my secomd write operation.  This is my secomd write operation.'"
      ]
     },
     "execution_count": 54,
     "metadata": {},
     "output_type": "execute_result"
    }
   ],
   "source": [
    "b.read()"
   ]
  },
  {
   "cell_type": "code",
   "execution_count": 55,
   "id": "d94fd325-40e3-4724-9c55-afa2ad13b42b",
   "metadata": {},
   "outputs": [
    {
     "data": {
      "text/plain": [
       "10"
      ]
     },
     "execution_count": 55,
     "metadata": {},
     "output_type": "execute_result"
    }
   ],
   "source": [
    "b.seek(10) #so next time when we call read function the position of initial character will be 10 "
   ]
  },
  {
   "cell_type": "code",
   "execution_count": 56,
   "id": "5734d29a-deb2-41dc-9bbd-96ce6f94e751",
   "metadata": {},
   "outputs": [
    {
     "data": {
      "text/plain": [
       "' first write operationThis is my first write operation.\\nThis is my secomd write operation.  This is my secomd write operation.'"
      ]
     },
     "execution_count": 56,
     "metadata": {},
     "output_type": "execute_result"
    }
   ],
   "source": [
    "b.read()"
   ]
  },
  {
   "cell_type": "code",
   "execution_count": 57,
   "id": "d2c88684-2acf-4181-8497-9c88a663eeec",
   "metadata": {},
   "outputs": [
    {
     "data": {
      "text/plain": [
       "0"
      ]
     },
     "execution_count": 57,
     "metadata": {},
     "output_type": "execute_result"
    }
   ],
   "source": [
    "b.seek(0)"
   ]
  },
  {
   "cell_type": "code",
   "execution_count": 58,
   "id": "f67ca651-c991-4cb0-a43e-46e6a637af5a",
   "metadata": {},
   "outputs": [
    {
     "name": "stdout",
     "output_type": "stream",
     "text": [
      "This is my first write operationThis is my first write operation.\n",
      "\n",
      "This is my secomd write operation.  This is my secomd write operation.\n",
      "0\n"
     ]
    }
   ],
   "source": [
    "count =0\n",
    "for i in b:\n",
    "    print(i)\n",
    "print(count)"
   ]
  },
  {
   "cell_type": "code",
   "execution_count": 59,
   "id": "35170444-1dbf-4f89-80d1-a4192b3e6624",
   "metadata": {},
   "outputs": [],
   "source": [
    "import os"
   ]
  },
  {
   "cell_type": "code",
   "execution_count": 60,
   "id": "57cf59d9-b840-4511-af89-c048630b370a",
   "metadata": {},
   "outputs": [
    {
     "data": {
      "text/plain": [
       "136"
      ]
     },
     "execution_count": 60,
     "metadata": {},
     "output_type": "execute_result"
    }
   ],
   "source": [
    "os.path.getsize(\"abc.txt\")"
   ]
  },
  {
   "cell_type": "code",
   "execution_count": 61,
   "id": "567ec17b-c7bf-4187-977c-2b20805b5bbb",
   "metadata": {},
   "outputs": [],
   "source": [
    "import shutil\n"
   ]
  },
  {
   "cell_type": "code",
   "execution_count": 62,
   "id": "5e3e7020-4f8b-4fdd-b579-a1b2f82edace",
   "metadata": {},
   "outputs": [
    {
     "data": {
      "text/plain": [
       "'ab2.txt'"
      ]
     },
     "execution_count": 62,
     "metadata": {},
     "output_type": "execute_result"
    }
   ],
   "source": [
    "shutil.copy(\"abc.txt\",\"ab2.txt\")"
   ]
  },
  {
   "cell_type": "code",
   "execution_count": 63,
   "id": "8481b1b4-1731-460e-99b4-2db3cf3a8b66",
   "metadata": {},
   "outputs": [],
   "source": [
    "os.remove(\"ab2.txt\")"
   ]
  },
  {
   "cell_type": "code",
   "execution_count": 65,
   "id": "2c3a3d58-fdd5-40e2-a66e-e599dbcdf086",
   "metadata": {},
   "outputs": [
    {
     "name": "stdout",
     "output_type": "stream",
     "text": [
      "This is my first write operationThis is my first write operation.\n",
      "This is my secomd write operation.  This is my secomd write operation.\n"
     ]
    }
   ],
   "source": [
    "with open(\"abc.txt\",'r') as f:\n",
    "      print(f.read())"
   ]
  },
  {
   "cell_type": "code",
   "execution_count": 66,
   "id": "f8529708-082d-4107-8dd5-62e1f1d985e5",
   "metadata": {},
   "outputs": [],
   "source": [
    "os.rename(\"abc.txt\",\"test.txt\")"
   ]
  },
  {
   "cell_type": "code",
   "execution_count": 67,
   "id": "46f27fbb-7ad9-4dbb-9979-e9d7fcf6b6ba",
   "metadata": {},
   "outputs": [],
   "source": [
    "data={\"name\": \"Vishal\",\"email_id\":\"abc@gmail.com\",\"Hobbies\":[\"Playing Cricket\",\"Reading Books\",\"Listening Music\"]}"
   ]
  },
  {
   "cell_type": "code",
   "execution_count": 68,
   "id": "f78732f4-b220-4e58-8920-abb411068abe",
   "metadata": {},
   "outputs": [],
   "source": [
    "import json"
   ]
  },
  {
   "cell_type": "code",
   "execution_count": 70,
   "id": "233ff1cc-acaa-48de-83a8-9d29d715ae5c",
   "metadata": {},
   "outputs": [],
   "source": [
    "with open(\"test1.json\",'w') as f:\n",
    "    json.dump(data,f)"
   ]
  },
  {
   "cell_type": "code",
   "execution_count": 71,
   "id": "6b9badad-d59b-44f6-adfa-1f4db49c1a61",
   "metadata": {},
   "outputs": [],
   "source": [
    "with open(\"test1.json\",'r') as f:\n",
    "    data1=json.load(f)"
   ]
  },
  {
   "cell_type": "code",
   "execution_count": 72,
   "id": "d176c58e-c7e1-4650-b03a-5c176cf662ce",
   "metadata": {},
   "outputs": [
    {
     "data": {
      "text/plain": [
       "{'name': 'Vishal',\n",
       " 'email_id': 'abc@gmail.com',\n",
       " 'Hobbies': ['Playing Cricket', 'Reading Books', 'Listening Music']}"
      ]
     },
     "execution_count": 72,
     "metadata": {},
     "output_type": "execute_result"
    }
   ],
   "source": [
    "data1"
   ]
  },
  {
   "cell_type": "code",
   "execution_count": 73,
   "id": "d8bfb51c-e836-40cf-b7ca-f7b5976d11df",
   "metadata": {},
   "outputs": [
    {
     "data": {
      "text/plain": [
       "['Playing Cricket', 'Reading Books', 'Listening Music']"
      ]
     },
     "execution_count": 73,
     "metadata": {},
     "output_type": "execute_result"
    }
   ],
   "source": [
    "data[\"Hobbies\"]"
   ]
  },
  {
   "cell_type": "code",
   "execution_count": 74,
   "id": "8b809303-d515-4cd2-a0a2-ba959e317438",
   "metadata": {},
   "outputs": [],
   "source": [
    "data3=[[\"name\",\"email_id\", \"mob_no\"],[\"abc\",\"abc@gmail.com\",823874],[\"xyz\",\"xyz@gmail.com\",8945928]]"
   ]
  },
  {
   "cell_type": "code",
   "execution_count": 75,
   "id": "e51b71f7-76e3-4dc1-afe7-22e66a2323cc",
   "metadata": {},
   "outputs": [],
   "source": [
    "import csv"
   ]
  },
  {
   "cell_type": "code",
   "execution_count": 83,
   "id": "1166162c-5a61-4341-96ba-21d00e5264dd",
   "metadata": {},
   "outputs": [],
   "source": [
    "with open(\"test3.csv\",'w') as f:\n",
    "    w=csv.writer(f)\n",
    "    for i in data3:\n",
    "        w.writerow(i)"
   ]
  },
  {
   "cell_type": "code",
   "execution_count": 84,
   "id": "0ef42113-504c-46b1-b8b6-101557df6612",
   "metadata": {},
   "outputs": [
    {
     "name": "stdout",
     "output_type": "stream",
     "text": [
      "['name', 'email_id', 'mob_no']\n",
      "['abc', 'abc@gmail.com', '823874']\n",
      "['xyz', 'xyz@gmail.com', '8945928']\n"
     ]
    }
   ],
   "source": [
    "with open(\"test3.csv\",'r') as f:\n",
    "    r=csv.reader(f)\n",
    "    for i in r:\n",
    "        print(i)"
   ]
  },
  {
   "cell_type": "code",
   "execution_count": 86,
   "id": "8bf6ab99-bca3-4d8f-a8b5-cfe2aceaa8b7",
   "metadata": {},
   "outputs": [],
   "source": [
    "with open(\"test4.bin\",'wb') as f:\n",
    "    f.write(b\"\\x01\\x02\\x03\")"
   ]
  },
  {
   "cell_type": "code",
   "execution_count": 88,
   "id": "c4012513-c191-49c4-9304-871a71fa66e9",
   "metadata": {},
   "outputs": [
    {
     "name": "stdout",
     "output_type": "stream",
     "text": [
      "b'\\x01\\x02\\x03'\n"
     ]
    }
   ],
   "source": [
    "with open(\"test4.bin\",'rb') as f:\n",
    "    print(f.read())"
   ]
  },
  {
   "cell_type": "markdown",
   "id": "23656955-c765-49ea-a839-8cff1c50b0ed",
   "metadata": {},
   "source": [
    "# Buffer read and write"
   ]
  },
  {
   "cell_type": "code",
   "execution_count": 93,
   "id": "69a87156-ccc3-40c4-8646-95b223909c0b",
   "metadata": {},
   "outputs": [],
   "source": [
    "import io"
   ]
  },
  {
   "cell_type": "code",
   "execution_count": 98,
   "id": "b3342c7e-b087-4039-a902-1394534b2853",
   "metadata": {},
   "outputs": [],
   "source": [
    "with open(\"test5.txt\",'wb') as f:\n",
    "    file=io.BufferedWriter(f)\n",
    "    file.write(b\"This is first buffer write\")\n",
    "    file.write(b\"\\nThis is second buffer write\")\n",
    "    file.flush()"
   ]
  },
  {
   "cell_type": "code",
   "execution_count": 102,
   "id": "b97cbf39-9fc6-41a1-aed7-34b440eb1da4",
   "metadata": {},
   "outputs": [
    {
     "name": "stdout",
     "output_type": "stream",
     "text": [
      "b'This is first buffer write\\nThis is second buffer write'\n"
     ]
    }
   ],
   "source": [
    "with open(\"test5.txt\",'rb') as f:\n",
    "    file2=io.BufferedReader(f)\n",
    "    data=file2.read()\n",
    "print(data)"
   ]
  },
  {
   "cell_type": "code",
   "execution_count": 103,
   "id": "d13dbc15-3ecb-46f0-975f-4462530ce404",
   "metadata": {},
   "outputs": [
    {
     "name": "stdout",
     "output_type": "stream",
     "text": [
      "b'This is first buffer'\n"
     ]
    }
   ],
   "source": [
    "with open(\"test5.txt\",'rb') as f:\n",
    "    file2=io.BufferedReader(f)\n",
    "    data=file2.read(20)\n",
    "print(data)"
   ]
  },
  {
   "cell_type": "markdown",
   "id": "458b2832-7bdb-4134-a732-98f8e3b3f62d",
   "metadata": {},
   "source": [
    "# Logging and debugger"
   ]
  },
  {
   "cell_type": "code",
   "execution_count": 2,
   "id": "54dbb741-6c6c-4089-97c7-a6f7b7566049",
   "metadata": {},
   "outputs": [],
   "source": [
    "import logging"
   ]
  },
  {
   "cell_type": "code",
   "execution_count": 3,
   "id": "fe2195c7-dac7-49ad-a467-c4fbe4db1d1e",
   "metadata": {},
   "outputs": [],
   "source": [
    "logging.basicConfig(filename=\"test.log\",level=logging.INFO)"
   ]
  },
  {
   "cell_type": "code",
   "execution_count": 4,
   "id": "33c388b3-6563-4cd4-ac9b-050c92648790",
   "metadata": {},
   "outputs": [],
   "source": [
    "logging.info(\"This is my line of execution\")"
   ]
  },
  {
   "cell_type": "code",
   "execution_count": 5,
   "id": "b1070f80-1069-4c06-b2f6-885d1734d249",
   "metadata": {},
   "outputs": [],
   "source": [
    "logging.error(\"There is an error\")"
   ]
  },
  {
   "cell_type": "raw",
   "id": "36bae501-c1b7-4f60-b396-e669480a4214",
   "metadata": {},
   "source": [
    "1. NOSET\n",
    "2. DEBUG\n",
    "3. INFO\n",
    "4. WARNING \n",
    "5. ERROR\n",
    "6. CRITICAL"
   ]
  },
  {
   "cell_type": "code",
   "execution_count": null,
   "id": "14f9a3f0-7cac-4f43-99e5-abcf3a41259a",
   "metadata": {},
   "outputs": [],
   "source": []
  },
  {
   "cell_type": "code",
   "execution_count": 6,
   "id": "07d28ecd-ca07-4cbf-bf3d-b8ffe0caf244",
   "metadata": {},
   "outputs": [],
   "source": [
    "logging.debug(\"Debug\")"
   ]
  },
  {
   "cell_type": "code",
   "execution_count": 7,
   "id": "6b44ec90-f390-4ae5-81c9-cff1ff27b9ac",
   "metadata": {},
   "outputs": [],
   "source": [
    "logging.shutdown()"
   ]
  },
  {
   "cell_type": "code",
   "execution_count": 8,
   "id": "e1d96464-6080-43fa-aaab-a60a614f0d07",
   "metadata": {},
   "outputs": [],
   "source": [
    "logging.basicConfig(filename=\"test7.log\",level=logging.DEBUG,format='%(asctime)s %(message)s')"
   ]
  }
 ],
 "metadata": {
  "kernelspec": {
   "display_name": "Python 3 (ipykernel)",
   "language": "python",
   "name": "python3"
  },
  "language_info": {
   "codemirror_mode": {
    "name": "ipython",
    "version": 3
   },
   "file_extension": ".py",
   "mimetype": "text/x-python",
   "name": "python",
   "nbconvert_exporter": "python",
   "pygments_lexer": "ipython3",
   "version": "3.10.8"
  }
 },
 "nbformat": 4,
 "nbformat_minor": 5
}
