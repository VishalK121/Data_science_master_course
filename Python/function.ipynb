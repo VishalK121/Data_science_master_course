{
 "cells": [
  {
   "cell_type": "markdown",
   "id": "f5e7f09b-8c7d-443f-b8bb-8038e1b4190d",
   "metadata": {},
   "source": [
    "# Functions"
   ]
  },
  {
   "cell_type": "code",
   "execution_count": 1,
   "id": "5f7dcff8-29d3-4dfc-9ca8-82580d11b301",
   "metadata": {},
   "outputs": [
    {
     "data": {
      "text/plain": [
       "3"
      ]
     },
     "execution_count": 1,
     "metadata": {},
     "output_type": "execute_result"
    }
   ],
   "source": [
    "A=[1,2,4]\n",
    "len(A) #built in functions"
   ]
  },
  {
   "cell_type": "code",
   "execution_count": 5,
   "id": "5bb0d119-ab08-4799-b61e-154403a7b56b",
   "metadata": {},
   "outputs": [
    {
     "name": "stdout",
     "output_type": "stream",
     "text": [
      "Hello World\n"
     ]
    }
   ],
   "source": [
    "def test():\n",
    "    print(\"Hello World\")\n",
    "test() #calling a function"
   ]
  },
  {
   "cell_type": "code",
   "execution_count": 6,
   "id": "6fe586a4-609e-405e-9ba5-a98412491901",
   "metadata": {},
   "outputs": [],
   "source": [
    "def test1():\n",
    "    pass\n",
    "test1()"
   ]
  },
  {
   "cell_type": "code",
   "execution_count": 7,
   "id": "fff0fc42-ada0-4137-9019-c337ac0cc826",
   "metadata": {},
   "outputs": [
    {
     "name": "stdout",
     "output_type": "stream",
     "text": [
      "Hello World\n"
     ]
    },
    {
     "ename": "TypeError",
     "evalue": "unsupported operand type(s) for +: 'NoneType' and 'str'",
     "output_type": "error",
     "traceback": [
      "\u001b[0;31m---------------------------------------------------------------------------\u001b[0m",
      "\u001b[0;31mTypeError\u001b[0m                                 Traceback (most recent call last)",
      "Cell \u001b[0;32mIn[7], line 1\u001b[0m\n\u001b[0;32m----> 1\u001b[0m \u001b[43mtest\u001b[49m\u001b[43m(\u001b[49m\u001b[43m)\u001b[49m\u001b[43m \u001b[49m\u001b[38;5;241;43m+\u001b[39;49m\u001b[43m \u001b[49m\u001b[38;5;124;43m\"\u001b[39;49m\u001b[38;5;124;43m!!\u001b[39;49m\u001b[38;5;124;43m\"\u001b[39;49m\n",
      "\u001b[0;31mTypeError\u001b[0m: unsupported operand type(s) for +: 'NoneType' and 'str'"
     ]
    }
   ],
   "source": [
    "test() + \"!!\" #print return non type "
   ]
  },
  {
   "cell_type": "code",
   "execution_count": 9,
   "id": "ab6b9fb0-d0a2-481e-9d2e-1f46bfabd55a",
   "metadata": {},
   "outputs": [
    {
     "name": "stdout",
     "output_type": "stream",
     "text": [
      "Hello World !!!\n"
     ]
    }
   ],
   "source": [
    "def test1():\n",
    "    return \"Hello World\"\n",
    "print(test1() + \" !!!\")"
   ]
  },
  {
   "cell_type": "code",
   "execution_count": 10,
   "id": "00c8df8d-87d0-44df-8e84-87f729b62f11",
   "metadata": {},
   "outputs": [],
   "source": [
    "def test3():\n",
    "    return 1,2,\"abc\",3,2"
   ]
  },
  {
   "cell_type": "code",
   "execution_count": 11,
   "id": "1773a5d4-68cb-4749-bfa9-52c454f1562b",
   "metadata": {},
   "outputs": [
    {
     "data": {
      "text/plain": [
       "(1, 2, 'abc', 3, 2)"
      ]
     },
     "execution_count": 11,
     "metadata": {},
     "output_type": "execute_result"
    }
   ],
   "source": [
    "test3()"
   ]
  },
  {
   "cell_type": "code",
   "execution_count": 20,
   "id": "6e23fe13-de24-422c-abda-c642f5cad501",
   "metadata": {},
   "outputs": [],
   "source": [
    "def test3():\n",
    "    return [1,2,\"abc\",3.2]"
   ]
  },
  {
   "cell_type": "code",
   "execution_count": 21,
   "id": "744e2a96-0d4f-4d0d-aead-5c322cb60278",
   "metadata": {},
   "outputs": [
    {
     "data": {
      "text/plain": [
       "[1, 2, 'abc', 3.2]"
      ]
     },
     "execution_count": 21,
     "metadata": {},
     "output_type": "execute_result"
    }
   ],
   "source": [
    "test3()"
   ]
  },
  {
   "cell_type": "code",
   "execution_count": 22,
   "id": "0c324e1e-bf7f-4ef5-86d9-e0699d4f7573",
   "metadata": {},
   "outputs": [],
   "source": [
    "a,b,c,d=1,2,3,4"
   ]
  },
  {
   "cell_type": "code",
   "execution_count": 23,
   "id": "028febd5-d1e7-489d-9a00-c5928ec990af",
   "metadata": {},
   "outputs": [
    {
     "data": {
      "text/plain": [
       "1"
      ]
     },
     "execution_count": 23,
     "metadata": {},
     "output_type": "execute_result"
    }
   ],
   "source": [
    "a"
   ]
  },
  {
   "cell_type": "code",
   "execution_count": 24,
   "id": "20ec5807-8bf9-4d3d-9ea1-2f0f0fd491d3",
   "metadata": {},
   "outputs": [
    {
     "data": {
      "text/plain": [
       "2"
      ]
     },
     "execution_count": 24,
     "metadata": {},
     "output_type": "execute_result"
    }
   ],
   "source": [
    "b"
   ]
  },
  {
   "cell_type": "code",
   "execution_count": 25,
   "id": "b1da8718-aa1c-4ead-916c-18cd7b798838",
   "metadata": {},
   "outputs": [
    {
     "data": {
      "text/plain": [
       "'abc'"
      ]
     },
     "execution_count": 25,
     "metadata": {},
     "output_type": "execute_result"
    }
   ],
   "source": [
    "test3()[2]"
   ]
  },
  {
   "cell_type": "code",
   "execution_count": 26,
   "id": "51a17e66-4bdb-444f-ba7f-8df3d041ede5",
   "metadata": {},
   "outputs": [],
   "source": [
    "a,b,c,d=test3()"
   ]
  },
  {
   "cell_type": "code",
   "execution_count": 27,
   "id": "aa913bd8-123e-4bc4-9e32-658412536bf1",
   "metadata": {},
   "outputs": [
    {
     "data": {
      "text/plain": [
       "'abc'"
      ]
     },
     "execution_count": 27,
     "metadata": {},
     "output_type": "execute_result"
    }
   ],
   "source": [
    "c"
   ]
  },
  {
   "cell_type": "code",
   "execution_count": 28,
   "id": "4ae91ff3-8c43-409d-9127-ec406e9a3af4",
   "metadata": {},
   "outputs": [
    {
     "data": {
      "text/plain": [
       "4"
      ]
     },
     "execution_count": 28,
     "metadata": {},
     "output_type": "execute_result"
    }
   ],
   "source": [
    "def fun(a,b):\n",
    "    return a+b\n",
    "fun(1,3)"
   ]
  },
  {
   "cell_type": "code",
   "execution_count": 29,
   "id": "9337b164-9846-4770-a775-5d5a45e3d7d7",
   "metadata": {},
   "outputs": [
    {
     "data": {
      "text/plain": [
       "'VishalKhot'"
      ]
     },
     "execution_count": 29,
     "metadata": {},
     "output_type": "execute_result"
    }
   ],
   "source": [
    "fun(\"Vishal\",\"Khot\")"
   ]
  },
  {
   "cell_type": "code",
   "execution_count": 30,
   "id": "01fbfab7-324a-4142-8179-9c06116b0b20",
   "metadata": {},
   "outputs": [
    {
     "data": {
      "text/plain": [
       "[1, 2, 3, 4, 5, 6]"
      ]
     },
     "execution_count": 30,
     "metadata": {},
     "output_type": "execute_result"
    }
   ],
   "source": [
    "fun([1,2,3],[4,5,6])"
   ]
  },
  {
   "cell_type": "code",
   "execution_count": 31,
   "id": "0a601e02-8d66-45b5-83d7-467553203617",
   "metadata": {},
   "outputs": [
    {
     "data": {
      "text/plain": [
       "'Vishalkhot'"
      ]
     },
     "execution_count": 31,
     "metadata": {},
     "output_type": "execute_result"
    }
   ],
   "source": [
    "fun(b=\"khot\",a=\"Vishal\")"
   ]
  },
  {
   "cell_type": "code",
   "execution_count": 33,
   "id": "725c0e12-3e62-4172-a475-cc2443d3cb6d",
   "metadata": {},
   "outputs": [],
   "source": [
    "def test(a,b,c,d,e):\n",
    "    pass"
   ]
  },
  {
   "cell_type": "code",
   "execution_count": 34,
   "id": "c3d5247b-8776-485d-9995-09d889b6326d",
   "metadata": {},
   "outputs": [
    {
     "ename": "TypeError",
     "evalue": "test() takes 5 positional arguments but 7 were given",
     "output_type": "error",
     "traceback": [
      "\u001b[0;31m---------------------------------------------------------------------------\u001b[0m",
      "\u001b[0;31mTypeError\u001b[0m                                 Traceback (most recent call last)",
      "Cell \u001b[0;32mIn[34], line 1\u001b[0m\n\u001b[0;32m----> 1\u001b[0m \u001b[43mtest\u001b[49m\u001b[43m(\u001b[49m\u001b[38;5;241;43m1\u001b[39;49m\u001b[43m,\u001b[49m\u001b[38;5;241;43m2\u001b[39;49m\u001b[43m,\u001b[49m\u001b[38;5;241;43m4\u001b[39;49m\u001b[43m,\u001b[49m\u001b[38;5;241;43m4\u001b[39;49m\u001b[43m,\u001b[49m\u001b[38;5;241;43m5\u001b[39;49m\u001b[43m,\u001b[49m\u001b[38;5;241;43m3\u001b[39;49m\u001b[43m,\u001b[49m\u001b[38;5;241;43m2\u001b[39;49m\u001b[43m)\u001b[49m\n",
      "\u001b[0;31mTypeError\u001b[0m: test() takes 5 positional arguments but 7 were given"
     ]
    }
   ],
   "source": [
    "test(1,2,4,4,5,3,2)"
   ]
  },
  {
   "cell_type": "code",
   "execution_count": 35,
   "id": "e39519b5-12b8-4115-9ad0-bf0ba2718ecc",
   "metadata": {},
   "outputs": [],
   "source": [
    "def test1(*args):pass"
   ]
  },
  {
   "cell_type": "code",
   "execution_count": 36,
   "id": "8e1c8248-f19f-48a8-abf5-a707a8a4cb07",
   "metadata": {},
   "outputs": [],
   "source": [
    "test1(1,2,3,4,5,6)"
   ]
  },
  {
   "cell_type": "code",
   "execution_count": 37,
   "id": "69f0b2b3-1f96-4ad8-94c8-23ed832516ed",
   "metadata": {},
   "outputs": [],
   "source": [
    "def fun(*a):\n",
    "    return a"
   ]
  },
  {
   "cell_type": "code",
   "execution_count": 38,
   "id": "785c7dab-3d62-4695-a3c7-c377a9bb92b4",
   "metadata": {},
   "outputs": [
    {
     "data": {
      "text/plain": [
       "(1, 2, 4, 'anc')"
      ]
     },
     "execution_count": 38,
     "metadata": {},
     "output_type": "execute_result"
    }
   ],
   "source": [
    "fun(1,2,4,\"anc\")"
   ]
  },
  {
   "cell_type": "code",
   "execution_count": 41,
   "id": "5c17ff98-872a-478c-81d4-ed087f8352a5",
   "metadata": {},
   "outputs": [],
   "source": [
    "def fun1(*arg,a):\n",
    "    pass\n",
    "fun1(1,2,3,a=1)"
   ]
  },
  {
   "cell_type": "code",
   "execution_count": 42,
   "id": "ba7f0124-36fc-499a-a887-d7b57b94bfe2",
   "metadata": {},
   "outputs": [],
   "source": [
    "def ab(**kwargs):\n",
    "    pass"
   ]
  },
  {
   "cell_type": "code",
   "execution_count": 10,
   "id": "3802a325-768c-439a-95f8-86ea02d5aa7c",
   "metadata": {},
   "outputs": [],
   "source": [
    "def fib():\n",
    "    a=0\n",
    "    b=1\n",
    "    for i in range(a):\n",
    "        yield a\n",
    "        a,b=b,b+a"
   ]
  },
  {
   "cell_type": "code",
   "execution_count": 11,
   "id": "8637a940-66c4-43f0-97de-d5f6bbd7464e",
   "metadata": {},
   "outputs": [],
   "source": [
    "for i in fib(5):\n",
    "    print(i)"
   ]
  },
  {
   "cell_type": "markdown",
   "id": "b8f38d89-b3f6-446f-8aa8-e7d89d2fd203",
   "metadata": {},
   "source": [
    "# Lambda Function"
   ]
  },
  {
   "cell_type": "code",
   "execution_count": 1,
   "id": "2c887621-1d6e-4bb4-b1eb-4a9f73058c17",
   "metadata": {},
   "outputs": [],
   "source": [
    "a=3\n",
    "b=2"
   ]
  },
  {
   "cell_type": "code",
   "execution_count": 2,
   "id": "68499932-ebaa-40be-b50a-6074c478ee09",
   "metadata": {},
   "outputs": [],
   "source": [
    "def test(p,q):\n",
    "    return p**q\n"
   ]
  },
  {
   "cell_type": "code",
   "execution_count": 3,
   "id": "4d9a4704-a4a3-4984-9078-cab8efb8ac72",
   "metadata": {},
   "outputs": [
    {
     "data": {
      "text/plain": [
       "9"
      ]
     },
     "execution_count": 3,
     "metadata": {},
     "output_type": "execute_result"
    }
   ],
   "source": [
    "test(a,b)"
   ]
  },
  {
   "cell_type": "code",
   "execution_count": 7,
   "id": "95808aa4-57eb-45be-a86c-d4c575b2d25e",
   "metadata": {},
   "outputs": [],
   "source": [
    "q=lambda p,q:p**q"
   ]
  },
  {
   "cell_type": "code",
   "execution_count": 8,
   "id": "c6f3db82-9e8d-424b-ab31-3a8f6f411923",
   "metadata": {},
   "outputs": [
    {
     "data": {
      "text/plain": [
       "9"
      ]
     },
     "execution_count": 8,
     "metadata": {},
     "output_type": "execute_result"
    }
   ],
   "source": [
    "q(3,2)"
   ]
  },
  {
   "cell_type": "code",
   "execution_count": 9,
   "id": "09adb7d9-dd30-4539-9cbe-f945e2085898",
   "metadata": {},
   "outputs": [],
   "source": [
    "c_to_f=lambda c:(9/5)*c+32"
   ]
  },
  {
   "cell_type": "code",
   "execution_count": 10,
   "id": "16b2f471-cc67-4274-a493-b7bd5cc17730",
   "metadata": {},
   "outputs": [
    {
     "data": {
      "text/plain": [
       "50.0"
      ]
     },
     "execution_count": 10,
     "metadata": {},
     "output_type": "execute_result"
    }
   ],
   "source": [
    "c_to_f(10)"
   ]
  },
  {
   "cell_type": "code",
   "execution_count": 11,
   "id": "0c8f4cfd-e81c-4bbf-8333-84267ceb3091",
   "metadata": {},
   "outputs": [],
   "source": [
    "max_two=lambda x,y: x if x>y else y"
   ]
  },
  {
   "cell_type": "code",
   "execution_count": 12,
   "id": "c62e709d-caf8-459d-8fd5-a54180be5998",
   "metadata": {},
   "outputs": [
    {
     "data": {
      "text/plain": [
       "37"
      ]
     },
     "execution_count": 12,
     "metadata": {},
     "output_type": "execute_result"
    }
   ],
   "source": [
    "max_two(19,37)"
   ]
  },
  {
   "cell_type": "markdown",
   "id": "ecd49d21-997a-44d6-a4ca-ff9b1775dd82",
   "metadata": {},
   "source": [
    "# Map, reduce, filter functions"
   ]
  },
  {
   "cell_type": "code",
   "execution_count": 13,
   "id": "5c9000a1-0a08-45f8-b607-e4cedf38f438",
   "metadata": {},
   "outputs": [],
   "source": [
    "l=[1,2,3,4]\n"
   ]
  },
  {
   "cell_type": "code",
   "execution_count": 14,
   "id": "46d675b3-8064-4229-abf1-e24259363378",
   "metadata": {},
   "outputs": [],
   "source": [
    "for i in range(len(l)):\n",
    "    l[i]=l[i]*l[i]"
   ]
  },
  {
   "cell_type": "code",
   "execution_count": 17,
   "id": "ae1f1d84-accc-4c0a-814e-0a1a24180598",
   "metadata": {},
   "outputs": [
    {
     "data": {
      "text/plain": [
       "[1, 4, 9, 16]"
      ]
     },
     "execution_count": 17,
     "metadata": {},
     "output_type": "execute_result"
    }
   ],
   "source": [
    "l"
   ]
  },
  {
   "cell_type": "code",
   "execution_count": 18,
   "id": "f0ae95d2-47b2-44e0-acdb-2b1085199988",
   "metadata": {},
   "outputs": [],
   "source": [
    "l=[1,2,3,4]"
   ]
  },
  {
   "cell_type": "code",
   "execution_count": 19,
   "id": "0a2e70c1-52df-4da3-98f6-09318660f139",
   "metadata": {},
   "outputs": [],
   "source": [
    "def sqr(a):\n",
    "    return a*a"
   ]
  },
  {
   "cell_type": "code",
   "execution_count": 22,
   "id": "ff3a81e7-45d4-4345-bb49-86d2b6fa5b71",
   "metadata": {},
   "outputs": [
    {
     "data": {
      "text/plain": [
       "[1, 4, 9, 16]"
      ]
     },
     "execution_count": 22,
     "metadata": {},
     "output_type": "execute_result"
    }
   ],
   "source": [
    "list(map(sqr,l))"
   ]
  },
  {
   "cell_type": "code",
   "execution_count": 24,
   "id": "09f73402-9ee8-42d7-b71c-7f1970cb6ef0",
   "metadata": {},
   "outputs": [
    {
     "data": {
      "text/plain": [
       "[1, 4, 9, 16]"
      ]
     },
     "execution_count": 24,
     "metadata": {},
     "output_type": "execute_result"
    }
   ],
   "source": [
    "list(map(lambda a:a**2,l))"
   ]
  },
  {
   "cell_type": "code",
   "execution_count": 25,
   "id": "6217bcaf-5067-4dc6-9943-e138595fd6e9",
   "metadata": {},
   "outputs": [],
   "source": [
    "l1=[1,2,3,4]\n",
    "l2=[5,6,7,8,9]"
   ]
  },
  {
   "cell_type": "code",
   "execution_count": 26,
   "id": "f1635084-3b8d-4dc2-8bff-5bf0816882cc",
   "metadata": {},
   "outputs": [
    {
     "data": {
      "text/plain": [
       "[6, 8, 10, 12]"
      ]
     },
     "execution_count": 26,
     "metadata": {},
     "output_type": "execute_result"
    }
   ],
   "source": [
    "list(map(lambda x,y:x+y,l1,l2))"
   ]
  },
  {
   "cell_type": "code",
   "execution_count": 30,
   "id": "1b8cee68-d8cf-4227-91d1-a8b61e369bcc",
   "metadata": {},
   "outputs": [],
   "source": [
    "f=lambda x,y:x+y"
   ]
  },
  {
   "cell_type": "code",
   "execution_count": 31,
   "id": "1123e434-b0b7-4023-9706-0ef76b7dbbec",
   "metadata": {},
   "outputs": [
    {
     "data": {
      "text/plain": [
       "[6, 8, 10, 12]"
      ]
     },
     "execution_count": 31,
     "metadata": {},
     "output_type": "execute_result"
    }
   ],
   "source": [
    "list(map(f,l1,l2))"
   ]
  },
  {
   "cell_type": "code",
   "execution_count": 36,
   "id": "76292967-47a9-4d42-a52e-1319638be785",
   "metadata": {},
   "outputs": [
    {
     "data": {
      "text/plain": [
       "['V', 'I', 'S', 'H', 'A', 'L']"
      ]
     },
     "execution_count": 36,
     "metadata": {},
     "output_type": "execute_result"
    }
   ],
   "source": [
    "a=\"Vishal\"\n",
    "list(map(lambda x: x.upper(), a))"
   ]
  },
  {
   "cell_type": "code",
   "execution_count": 37,
   "id": "f38c2edd-ffbd-4024-95a6-6d8c5819fa68",
   "metadata": {},
   "outputs": [],
   "source": [
    "from functools import reduce"
   ]
  },
  {
   "cell_type": "code",
   "execution_count": 38,
   "id": "5bf6fe58-98b8-4405-b9e4-5be51c03f9b4",
   "metadata": {},
   "outputs": [],
   "source": [
    "l2=[5,6,7,8,9]"
   ]
  },
  {
   "cell_type": "code",
   "execution_count": 40,
   "id": "68fa8040-19c7-4bd2-a462-d5b853986c3f",
   "metadata": {},
   "outputs": [
    {
     "data": {
      "text/plain": [
       "35"
      ]
     },
     "execution_count": 40,
     "metadata": {},
     "output_type": "execute_result"
    }
   ],
   "source": [
    "reduce(lambda x,y:x+y,l2)"
   ]
  },
  {
   "cell_type": "code",
   "execution_count": 42,
   "id": "cdf8d670-c198-4fd9-9410-e8a2fc60efdf",
   "metadata": {},
   "outputs": [
    {
     "ename": "TypeError",
     "evalue": "reduce() of empty iterable with no initial value",
     "output_type": "error",
     "traceback": [
      "\u001b[0;31m---------------------------------------------------------------------------\u001b[0m",
      "\u001b[0;31mTypeError\u001b[0m                                 Traceback (most recent call last)",
      "Cell \u001b[0;32mIn[42], line 1\u001b[0m\n\u001b[0;32m----> 1\u001b[0m \u001b[43mreduce\u001b[49m\u001b[43m(\u001b[49m\u001b[38;5;28;43;01mlambda\u001b[39;49;00m\u001b[43m \u001b[49m\u001b[43mx\u001b[49m\u001b[43m,\u001b[49m\u001b[43my\u001b[49m\u001b[43m:\u001b[49m\u001b[43mx\u001b[49m\u001b[38;5;241;43m+\u001b[39;49m\u001b[43my\u001b[49m\u001b[43m,\u001b[49m\u001b[43m[\u001b[49m\u001b[43m]\u001b[49m\u001b[43m)\u001b[49m\n",
      "\u001b[0;31mTypeError\u001b[0m: reduce() of empty iterable with no initial value"
     ]
    }
   ],
   "source": [
    "reduce(lambda x,y:x+y,[])"
   ]
  },
  {
   "cell_type": "code",
   "execution_count": 43,
   "id": "d5e2d942-56b6-4e35-8e9c-233fd7e067ae",
   "metadata": {},
   "outputs": [
    {
     "data": {
      "text/plain": [
       "2"
      ]
     },
     "execution_count": 43,
     "metadata": {},
     "output_type": "execute_result"
    }
   ],
   "source": [
    "reduce(lambda x,y:x+y,[2])"
   ]
  },
  {
   "cell_type": "code",
   "execution_count": 44,
   "id": "6b4c3d7a-0746-450f-8a20-bb33bc0286bc",
   "metadata": {},
   "outputs": [
    {
     "data": {
      "text/plain": [
       "9"
      ]
     },
     "execution_count": 44,
     "metadata": {},
     "output_type": "execute_result"
    }
   ],
   "source": [
    "reduce(lambda x,y:x if x>y else y,l2)"
   ]
  },
  {
   "cell_type": "code",
   "execution_count": 45,
   "id": "27cbca6b-8632-4b4a-a9b1-1bb551ee138d",
   "metadata": {},
   "outputs": [],
   "source": [
    "a=[1,2,3,4,5,6]"
   ]
  },
  {
   "cell_type": "code",
   "execution_count": 48,
   "id": "6a232c5f-916f-46a4-89bd-8d0bc76924ec",
   "metadata": {},
   "outputs": [
    {
     "data": {
      "text/plain": [
       "[2, 4, 6]"
      ]
     },
     "execution_count": 48,
     "metadata": {},
     "output_type": "execute_result"
    }
   ],
   "source": [
    "list(filter(lambda x: x%2==0,a))"
   ]
  },
  {
   "cell_type": "code",
   "execution_count": null,
   "id": "38f11dc3-dcb9-401e-9d62-28946f3ab4f5",
   "metadata": {},
   "outputs": [],
   "source": []
  }
 ],
 "metadata": {
  "kernelspec": {
   "display_name": "Python 3 (ipykernel)",
   "language": "python",
   "name": "python3"
  },
  "language_info": {
   "codemirror_mode": {
    "name": "ipython",
    "version": 3
   },
   "file_extension": ".py",
   "mimetype": "text/x-python",
   "name": "python",
   "nbconvert_exporter": "python",
   "pygments_lexer": "ipython3",
   "version": "3.10.8"
  }
 },
 "nbformat": 4,
 "nbformat_minor": 5
}
