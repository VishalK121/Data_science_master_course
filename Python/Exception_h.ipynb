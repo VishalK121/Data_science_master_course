{
 "cells": [
  {
   "cell_type": "markdown",
   "id": "b2a01133-ca2e-4dc1-94ce-ea434e39b83c",
   "metadata": {},
   "source": [
    "# Exception Handling"
   ]
  },
  {
   "cell_type": "code",
   "execution_count": 2,
   "id": "55564452-a78f-4558-9a99-00877be11f72",
   "metadata": {},
   "outputs": [
    {
     "ename": "ZeroDivisionError",
     "evalue": "division by zero",
     "output_type": "error",
     "traceback": [
      "\u001b[0;31m---------------------------------------------------------------------------\u001b[0m",
      "\u001b[0;31mZeroDivisionError\u001b[0m                         Traceback (most recent call last)",
      "Cell \u001b[0;32mIn[2], line 1\u001b[0m\n\u001b[0;32m----> 1\u001b[0m \u001b[38;5;241;43m10\u001b[39;49m\u001b[38;5;241;43m/\u001b[39;49m\u001b[38;5;241;43m0\u001b[39;49m\n",
      "\u001b[0;31mZeroDivisionError\u001b[0m: division by zero"
     ]
    }
   ],
   "source": [
    "10/0"
   ]
  },
  {
   "cell_type": "code",
   "execution_count": 12,
   "id": "d8671468-0a8e-4e52-8ad3-33ef72fbb398",
   "metadata": {},
   "outputs": [
    {
     "name": "stdin",
     "output_type": "stream",
     "text": [
      "Enter a number:  10\n",
      "Enter a number:  0\n"
     ]
    },
    {
     "name": "stdout",
     "output_type": "stream",
     "text": [
      "There is an issue with my code:  division by zero\n"
     ]
    }
   ],
   "source": [
    "a=int(input(\"Enter a number: \"))\n",
    "b=int(input(\"Enter a number: \"))\n",
    "try: \n",
    "    ans=a/b\n",
    "except Exception as e:\n",
    "      print(\"There is an issue with my code: \",e)\n"
   ]
  },
  {
   "cell_type": "code",
   "execution_count": 14,
   "id": "1b32e39b-bc95-4b63-927d-39c44d639dd9",
   "metadata": {},
   "outputs": [
    {
     "name": "stdin",
     "output_type": "stream",
     "text": [
      "Enter a number:  10\n",
      "Enter a number:  5\n"
     ]
    },
    {
     "name": "stdout",
     "output_type": "stream",
     "text": [
      "Ans:  2.0\n"
     ]
    }
   ],
   "source": [
    "a=int(input(\"Enter a number: \")) #if try block thows an exception then except block will be executed\n",
    "b=int(input(\"Enter a number: \")) #if try block does not throw an exception then else block will be executed\n",
    "try: \n",
    "    ans=a/b\n",
    "except Exception as e:\n",
    "      print(\"There is an issue with my code: \",e)\n",
    "else:\n",
    "    print(\"Ans: \",ans)    "
   ]
  },
  {
   "cell_type": "code",
   "execution_count": 15,
   "id": "e95fe327-a43c-4dec-9ccc-0c8004d17fe9",
   "metadata": {},
   "outputs": [
    {
     "name": "stdin",
     "output_type": "stream",
     "text": [
      "Enter a number:  10\n",
      "Enter a number:  0\n"
     ]
    },
    {
     "name": "stdout",
     "output_type": "stream",
     "text": [
      "This is my code\n"
     ]
    },
    {
     "ename": "ZeroDivisionError",
     "evalue": "division by zero",
     "output_type": "error",
     "traceback": [
      "\u001b[0;31m---------------------------------------------------------------------------\u001b[0m",
      "\u001b[0;31mZeroDivisionError\u001b[0m                         Traceback (most recent call last)",
      "Cell \u001b[0;32mIn[15], line 4\u001b[0m\n\u001b[1;32m      2\u001b[0m b\u001b[38;5;241m=\u001b[39m\u001b[38;5;28mint\u001b[39m(\u001b[38;5;28minput\u001b[39m(\u001b[38;5;124m\"\u001b[39m\u001b[38;5;124mEnter a number: \u001b[39m\u001b[38;5;124m\"\u001b[39m)) \u001b[38;5;66;03m#if try block does not throw an exception then else block will be executed\u001b[39;00m\n\u001b[1;32m      3\u001b[0m \u001b[38;5;28;01mtry\u001b[39;00m: \n\u001b[0;32m----> 4\u001b[0m     ans\u001b[38;5;241m=\u001b[39m\u001b[43ma\u001b[49m\u001b[38;5;241;43m/\u001b[39;49m\u001b[43mb\u001b[49m\n\u001b[1;32m      5\u001b[0m \u001b[38;5;28;01mfinally\u001b[39;00m:\n\u001b[1;32m      6\u001b[0m     \u001b[38;5;28mprint\u001b[39m(\u001b[38;5;124m\"\u001b[39m\u001b[38;5;124mThis is my code\u001b[39m\u001b[38;5;124m\"\u001b[39m)\n",
      "\u001b[0;31mZeroDivisionError\u001b[0m: division by zero"
     ]
    }
   ],
   "source": [
    "a=int(input(\"Enter a number: \")) #if try block thows an exception then except block will be executed\n",
    "b=int(input(\"Enter a number: \")) #if try block does not throw an exception then else block will be executed\n",
    "try: \n",
    "    ans=a/b\n",
    "finally:\n",
    "    print(\"This is my code\")"
   ]
  },
  {
   "cell_type": "markdown",
   "id": "28ab3d65-0116-46b6-a838-8741b045372e",
   "metadata": {},
   "source": [
    "### Custom exception handling"
   ]
  },
  {
   "cell_type": "code",
   "execution_count": 17,
   "id": "7d3372b2-ba75-491d-99f6-0d086100c96f",
   "metadata": {},
   "outputs": [],
   "source": [
    "class validage(Exception):\n",
    "    def __init__(self,msg):\n",
    "        self.msg=msg"
   ]
  },
  {
   "cell_type": "code",
   "execution_count": 22,
   "id": "0c82fbdc-c537-4e2f-8275-da9bc85c515a",
   "metadata": {},
   "outputs": [],
   "source": [
    "def valid_age(age):\n",
    "    if(age<0):\n",
    "        raise validage(\"Age cannot be negative!!\")\n",
    "    elif(age>200):\n",
    "        raise validage(\"Age is too high\")\n",
    "    else:\n",
    "        print(\"Age is Valid\")"
   ]
  },
  {
   "cell_type": "code",
   "execution_count": 23,
   "id": "82228952-cccb-4f60-b9a2-d0af549fa313",
   "metadata": {},
   "outputs": [
    {
     "name": "stdin",
     "output_type": "stream",
     "text": [
      "Enter Age:  -2383\n"
     ]
    },
    {
     "name": "stdout",
     "output_type": "stream",
     "text": [
      "Age cannot be negative!!\n"
     ]
    }
   ],
   "source": [
    "try:\n",
    "    age=int(input(\"Enter Age: \"))\n",
    "    valid_age(age)\n",
    "except validage as e:\n",
    "    print(e)"
   ]
  },
  {
   "cell_type": "code",
   "execution_count": 24,
   "id": "7cd71a91-da73-43d4-82b8-c641cd708310",
   "metadata": {},
   "outputs": [],
   "source": [
    "#always try to write particular error to be handled"
   ]
  },
  {
   "cell_type": "code",
   "execution_count": 25,
   "id": "e6ee3cb6-efb2-4773-9a87-c78c24acb64a",
   "metadata": {},
   "outputs": [
    {
     "name": "stdout",
     "output_type": "stream",
     "text": [
      "division by zero\n"
     ]
    }
   ],
   "source": [
    "try:\n",
    "    a=10/0\n",
    "except ZeroDivisionError as e:\n",
    "    print(e)"
   ]
  },
  {
   "cell_type": "code",
   "execution_count": 26,
   "id": "136949b7-aafd-455d-a90b-acc24c1b36af",
   "metadata": {},
   "outputs": [],
   "source": [
    "#always try to log"
   ]
  },
  {
   "cell_type": "code",
   "execution_count": 28,
   "id": "a98fe1c1-367d-4db9-9450-d385c3788c7c",
   "metadata": {},
   "outputs": [],
   "source": [
    "import logging"
   ]
  },
  {
   "cell_type": "code",
   "execution_count": 29,
   "id": "166db3b0-9f36-4dc4-a010-63689de5e681",
   "metadata": {},
   "outputs": [],
   "source": [
    "logging.basicConfig(filename=\"error.log\",level=logging.ERROR)\n",
    "try:\n",
    "    a=10/0\n",
    "except ZeroDivisionError as e:\n",
    "    logging.error(e)"
   ]
  },
  {
   "cell_type": "code",
   "execution_count": 30,
   "id": "e591c102-6467-494e-91a0-e69b0f0fd168",
   "metadata": {},
   "outputs": [],
   "source": [
    "#prepare proper documentation\n",
    "#clean up all resources \n",
    "#wite valid exception msg"
   ]
  },
  {
   "cell_type": "code",
   "execution_count": null,
   "id": "f4dd6b7d-cca1-4cc4-a327-3f9dc56b7c9e",
   "metadata": {},
   "outputs": [],
   "source": []
  }
 ],
 "metadata": {
  "kernelspec": {
   "display_name": "Python 3 (ipykernel)",
   "language": "python",
   "name": "python3"
  },
  "language_info": {
   "codemirror_mode": {
    "name": "ipython",
    "version": 3
   },
   "file_extension": ".py",
   "mimetype": "text/x-python",
   "name": "python",
   "nbconvert_exporter": "python",
   "pygments_lexer": "ipython3",
   "version": "3.10.8"
  }
 },
 "nbformat": 4,
 "nbformat_minor": 5
}
