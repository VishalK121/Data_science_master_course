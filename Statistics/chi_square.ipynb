{
 "cells": [
  {
   "cell_type": "code",
   "execution_count": 1,
   "id": "68511e1d-6e24-4484-b087-cb781a74568e",
   "metadata": {},
   "outputs": [],
   "source": [
    "import scipy.stats as stat"
   ]
  },
  {
   "cell_type": "code",
   "execution_count": 2,
   "id": "749fdce9-e81a-4141-9191-df11fcbccf3c",
   "metadata": {},
   "outputs": [],
   "source": [
    "import numpy as np"
   ]
  },
  {
   "cell_type": "code",
   "execution_count": 3,
   "id": "504b4943-c472-43cc-ba9f-26f4e245bcf1",
   "metadata": {},
   "outputs": [],
   "source": [
    "#Number of hour students daily on weekly basis"
   ]
  },
  {
   "cell_type": "code",
   "execution_count": 5,
   "id": "27be0e73-10b1-4264-abfb-05de46687522",
   "metadata": {},
   "outputs": [],
   "source": [
    "expected_data=[5,6,5,7,5,8,6]\n",
    "observed_data=[10,10,5,5,4,4,4]"
   ]
  },
  {
   "cell_type": "code",
   "execution_count": 7,
   "id": "5de75213-0540-461c-aeb4-6bab9cc66692",
   "metadata": {},
   "outputs": [],
   "source": [
    "chi_square_stats,p_value=stat.chisquare(observed_data,expected_data)"
   ]
  },
  {
   "cell_type": "code",
   "execution_count": 8,
   "id": "c15a5eb2-a37d-4b88-a4e6-47068598ccca",
   "metadata": {},
   "outputs": [
    {
     "data": {
      "text/plain": [
       "(42, 42)"
      ]
     },
     "execution_count": 8,
     "metadata": {},
     "output_type": "execute_result"
    }
   ],
   "source": [
    "sum(expected_data),sum(observed_data)"
   ]
  },
  {
   "cell_type": "code",
   "execution_count": 9,
   "id": "3fecdd91-3da9-41b3-9245-01afac0477d4",
   "metadata": {},
   "outputs": [
    {
     "name": "stdout",
     "output_type": "stream",
     "text": [
      "11.104761904761903\n",
      "0.08519210265040422\n"
     ]
    }
   ],
   "source": [
    "print(chi_square_stats)\n",
    "print(p_value)"
   ]
  },
  {
   "cell_type": "code",
   "execution_count": 10,
   "id": "9d68fec0-02ea-4c5e-84e4-f35903f0d60a",
   "metadata": {},
   "outputs": [],
   "source": [
    "significance=0.05"
   ]
  },
  {
   "cell_type": "code",
   "execution_count": 11,
   "id": "2580eea9-45f4-4828-875e-8d54f9c7fc5e",
   "metadata": {},
   "outputs": [],
   "source": [
    "dof=len(observed_data)-1"
   ]
  },
  {
   "cell_type": "code",
   "execution_count": 12,
   "id": "8cdd8e68-a50e-4e32-a395-6288d6a4b2fa",
   "metadata": {},
   "outputs": [],
   "source": [
    "critical=stat.chi2.ppf(1-significance,dof)"
   ]
  },
  {
   "cell_type": "code",
   "execution_count": 13,
   "id": "60e72343-dee3-4c86-8da4-d434e83f0d48",
   "metadata": {},
   "outputs": [
    {
     "data": {
      "text/plain": [
       "12.591587243743977"
      ]
     },
     "execution_count": 13,
     "metadata": {},
     "output_type": "execute_result"
    }
   ],
   "source": [
    "critical"
   ]
  },
  {
   "cell_type": "code",
   "execution_count": 15,
   "id": "8965acee-a39c-4571-9d91-805d58698798",
   "metadata": {},
   "outputs": [
    {
     "name": "stdout",
     "output_type": "stream",
     "text": [
      "Null Hypothesis is accepted\n"
     ]
    }
   ],
   "source": [
    "if(chi_square_stats>critical):\n",
    "    print(\"Null Hypothesis is rejected\")\n",
    "else:\n",
    "    print(\"Null Hypothesis is accepted\")"
   ]
  },
  {
   "cell_type": "code",
   "execution_count": null,
   "id": "122083e8-4539-4576-9daf-06deb3b3b5b0",
   "metadata": {},
   "outputs": [],
   "source": []
  }
 ],
 "metadata": {
  "kernelspec": {
   "display_name": "Python 3 (ipykernel)",
   "language": "python",
   "name": "python3"
  },
  "language_info": {
   "codemirror_mode": {
    "name": "ipython",
    "version": 3
   },
   "file_extension": ".py",
   "mimetype": "text/x-python",
   "name": "python",
   "nbconvert_exporter": "python",
   "pygments_lexer": "ipython3",
   "version": "3.10.8"
  }
 },
 "nbformat": 4,
 "nbformat_minor": 5
}
