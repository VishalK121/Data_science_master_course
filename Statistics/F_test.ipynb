{
 "cells": [
  {
   "cell_type": "code",
   "execution_count": 1,
   "id": "1ced9ece-2ac7-4269-bd48-a46ebb69a516",
   "metadata": {},
   "outputs": [],
   "source": [
    "worker1=[19,28,18,30,27,36,16,29]\n",
    "worker2=[18,16,38,26,11,17]"
   ]
  },
  {
   "cell_type": "code",
   "execution_count": 2,
   "id": "6d53438e-4441-479f-8bc4-e7758d7a211d",
   "metadata": {},
   "outputs": [],
   "source": [
    "import numpy as np\n",
    "f_test=np.var(worker1)/np.var(worker2)"
   ]
  },
  {
   "cell_type": "code",
   "execution_count": 9,
   "id": "a5f1a0d9-20b1-4589-a773-fd33e0593059",
   "metadata": {},
   "outputs": [],
   "source": [
    "df1=len(worker1)-1\n",
    "df2=len(worker2)-1\n",
    "significance=0.05"
   ]
  },
  {
   "cell_type": "code",
   "execution_count": 10,
   "id": "088ea9a5-dcb7-43a7-9008-b478e2a1d320",
   "metadata": {},
   "outputs": [],
   "source": [
    "import scipy.stats as stat"
   ]
  },
  {
   "cell_type": "code",
   "execution_count": 18,
   "id": "810ee8e2-9c04-4379-b9c8-fcd4db1b09dd",
   "metadata": {},
   "outputs": [],
   "source": [
    "critical_value=stat.f.ppf(q=1-significance,dfn=df1,dfd=df2)"
   ]
  },
  {
   "cell_type": "code",
   "execution_count": 19,
   "id": "6ab25600-3d53-4908-b1bf-824724177b9c",
   "metadata": {},
   "outputs": [
    {
     "data": {
      "text/plain": [
       "(4.875871695833996, 0.5493669181034483)"
      ]
     },
     "execution_count": 19,
     "metadata": {},
     "output_type": "execute_result"
    }
   ],
   "source": [
    "critical_value,f_test"
   ]
  },
  {
   "cell_type": "code",
   "execution_count": 20,
   "id": "04f111ed-730e-43fe-8f5e-901697f0e815",
   "metadata": {},
   "outputs": [
    {
     "name": "stdout",
     "output_type": "stream",
     "text": [
      "Accept the null hypthosis\n"
     ]
    }
   ],
   "source": [
    "if(f_test<critical_value):\n",
    "    print(\"Accept the null hypthosis\")\n",
    "else:\n",
    "    print(\"Reject the null hypothesis\")"
   ]
  },
  {
   "cell_type": "code",
   "execution_count": null,
   "id": "a9b04b82-03b0-4bfe-b7c8-3b04167737cb",
   "metadata": {},
   "outputs": [],
   "source": []
  }
 ],
 "metadata": {
  "kernelspec": {
   "display_name": "Python 3 (ipykernel)",
   "language": "python",
   "name": "python3"
  },
  "language_info": {
   "codemirror_mode": {
    "name": "ipython",
    "version": 3
   },
   "file_extension": ".py",
   "mimetype": "text/x-python",
   "name": "python",
   "nbconvert_exporter": "python",
   "pygments_lexer": "ipython3",
   "version": "3.10.8"
  }
 },
 "nbformat": 4,
 "nbformat_minor": 5
}
