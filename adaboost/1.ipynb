{
 "cells": [
  {
   "cell_type": "code",
   "execution_count": 1,
   "id": "b7c9e8f6-3705-4439-bdcc-8d6707162bb3",
   "metadata": {},
   "outputs": [
    {
     "name": "stdout",
     "output_type": "stream",
     "text": [
      "Collecting xgboost\n",
      "  Downloading xgboost-2.0.0-py3-none-manylinux2014_x86_64.whl (297.1 MB)\n",
      "\u001b[2K     \u001b[90m━━━━━━━━━━━━━━━━━━━━━━━━━━━━━━━━━━━━━━━\u001b[0m \u001b[32m297.1/297.1 MB\u001b[0m \u001b[31m5.7 MB/s\u001b[0m eta \u001b[36m0:00:00\u001b[0m00:01\u001b[0m00:01\u001b[0m\n",
      "\u001b[?25hRequirement already satisfied: scipy in /opt/conda/lib/python3.10/site-packages (from xgboost) (1.9.3)\n",
      "Requirement already satisfied: numpy in /opt/conda/lib/python3.10/site-packages (from xgboost) (1.23.5)\n",
      "Installing collected packages: xgboost\n",
      "Successfully installed xgboost-2.0.0\n",
      "Note: you may need to restart the kernel to use updated packages.\n"
     ]
    }
   ],
   "source": [
    "pip install xgboost"
   ]
  },
  {
   "cell_type": "markdown",
   "id": "08023401-dfda-4292-9dc6-9b50e2d90d83",
   "metadata": {},
   "source": [
    "## AdaBoost, Gradient Boost and Xgboost"
   ]
  },
  {
   "cell_type": "code",
   "execution_count": 2,
   "id": "17378991-6e63-4975-95de-1515c3bb1440",
   "metadata": {},
   "outputs": [],
   "source": [
    "from sklearn.datasets import make_classification"
   ]
  },
  {
   "cell_type": "code",
   "execution_count": 5,
   "id": "d325c1bf-e374-45f2-8742-516d2b24962f",
   "metadata": {},
   "outputs": [],
   "source": [
    "X,y =make_classification(n_samples=1000,n_features=4,n_informative=2,n_redundant=0,random_state=0,shuffle=False)"
   ]
  },
  {
   "cell_type": "code",
   "execution_count": 11,
   "id": "9ff16d97-5178-4e13-85cb-0dddace059ee",
   "metadata": {},
   "outputs": [],
   "source": [
    "from sklearn.model_selection import train_test_split\n",
    "X_train,X_test,y_train,y_test=train_test_split(X,y,test_size=0.33,random_state=12)"
   ]
  },
  {
   "cell_type": "code",
   "execution_count": 12,
   "id": "bbf1a540-19d6-4519-9242-cf3156f18abc",
   "metadata": {},
   "outputs": [],
   "source": [
    "from sklearn.ensemble import AdaBoostClassifier\n",
    "from sklearn.ensemble import GradientBoostingClassifier\n",
    "import xgboost as xb"
   ]
  },
  {
   "cell_type": "code",
   "execution_count": 14,
   "id": "72655187-1b2b-447e-a698-d14ac7f9b868",
   "metadata": {},
   "outputs": [],
   "source": [
    "classifier1=AdaBoostClassifier()\n",
    "classifier1.fit(X_train,y_train)\n",
    "ypred1=classifier1.predict(X_test)"
   ]
  },
  {
   "cell_type": "code",
   "execution_count": 15,
   "id": "2f828e68-aa30-4690-b322-6d1e6af380a8",
   "metadata": {},
   "outputs": [],
   "source": [
    "classifier2=GradientBoostingClassifier()\n",
    "classifier2.fit(X_train,y_train)\n",
    "ypred2=classifier2.predict(X_test)"
   ]
  },
  {
   "cell_type": "code",
   "execution_count": 17,
   "id": "d5fc2f53-11a0-4830-9c5f-ed5fdbe819b1",
   "metadata": {},
   "outputs": [],
   "source": [
    "classifier3=xb.XGBClassifier()\n",
    "classifier3.fit(X_train,y_train)\n",
    "ypred3=classifier3.predict(X_test)"
   ]
  },
  {
   "cell_type": "code",
   "execution_count": 16,
   "id": "732fce5c-7d39-44f4-ba14-dbfcdcb1e4eb",
   "metadata": {},
   "outputs": [],
   "source": [
    "from sklearn.metrics import accuracy_score, classification_report, confusion_matrix"
   ]
  },
  {
   "cell_type": "code",
   "execution_count": 19,
   "id": "3e86ad7b-fbc9-4a33-824f-02a384e3a74a",
   "metadata": {},
   "outputs": [
    {
     "name": "stdout",
     "output_type": "stream",
     "text": [
      "0.9424242424242424\n",
      "[[150  13]\n",
      " [  6 161]]\n",
      "              precision    recall  f1-score   support\n",
      "\n",
      "           0       0.96      0.92      0.94       163\n",
      "           1       0.93      0.96      0.94       167\n",
      "\n",
      "    accuracy                           0.94       330\n",
      "   macro avg       0.94      0.94      0.94       330\n",
      "weighted avg       0.94      0.94      0.94       330\n",
      "\n"
     ]
    }
   ],
   "source": [
    "print(accuracy_score(y_test,ypred1))\n",
    "print(confusion_matrix(y_test,ypred1))\n",
    "print(classification_report(y_test,ypred1))"
   ]
  },
  {
   "cell_type": "code",
   "execution_count": 20,
   "id": "d861062c-3e3d-4fa5-b688-b1753a75a976",
   "metadata": {},
   "outputs": [
    {
     "name": "stdout",
     "output_type": "stream",
     "text": [
      "0.9575757575757575\n",
      "[[154   9]\n",
      " [  5 162]]\n",
      "              precision    recall  f1-score   support\n",
      "\n",
      "           0       0.97      0.94      0.96       163\n",
      "           1       0.95      0.97      0.96       167\n",
      "\n",
      "    accuracy                           0.96       330\n",
      "   macro avg       0.96      0.96      0.96       330\n",
      "weighted avg       0.96      0.96      0.96       330\n",
      "\n"
     ]
    }
   ],
   "source": [
    "print(accuracy_score(y_test,ypred2))\n",
    "print(confusion_matrix(y_test,ypred2))\n",
    "print(classification_report(y_test,ypred2))"
   ]
  },
  {
   "cell_type": "code",
   "execution_count": 21,
   "id": "bbc18091-d02c-4427-9bf7-6d5422469d33",
   "metadata": {},
   "outputs": [
    {
     "name": "stdout",
     "output_type": "stream",
     "text": [
      "0.9636363636363636\n",
      "[[155   8]\n",
      " [  4 163]]\n",
      "              precision    recall  f1-score   support\n",
      "\n",
      "           0       0.97      0.95      0.96       163\n",
      "           1       0.95      0.98      0.96       167\n",
      "\n",
      "    accuracy                           0.96       330\n",
      "   macro avg       0.96      0.96      0.96       330\n",
      "weighted avg       0.96      0.96      0.96       330\n",
      "\n"
     ]
    }
   ],
   "source": [
    "print(accuracy_score(y_test,ypred3))\n",
    "print(confusion_matrix(y_test,ypred3))\n",
    "print(classification_report(y_test,ypred3))"
   ]
  },
  {
   "cell_type": "code",
   "execution_count": null,
   "id": "36b56319-fe24-4f55-b3ce-91cf8b2cf456",
   "metadata": {},
   "outputs": [],
   "source": []
  }
 ],
 "metadata": {
  "kernelspec": {
   "display_name": "Python 3 (ipykernel)",
   "language": "python",
   "name": "python3"
  },
  "language_info": {
   "codemirror_mode": {
    "name": "ipython",
    "version": 3
   },
   "file_extension": ".py",
   "mimetype": "text/x-python",
   "name": "python",
   "nbconvert_exporter": "python",
   "pygments_lexer": "ipython3",
   "version": "3.10.8"
  }
 },
 "nbformat": 4,
 "nbformat_minor": 5
}
