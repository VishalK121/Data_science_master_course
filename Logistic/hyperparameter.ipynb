{
 "cells": [
  {
   "cell_type": "markdown",
   "id": "a1870955-e6ff-4e64-af61-1562f80bf01c",
   "metadata": {},
   "source": [
    "# Hyper Parameter Tuning"
   ]
  },
  {
   "cell_type": "code",
   "execution_count": 1,
   "id": "02f7ebf1-c1af-44bc-b021-a46b725f5217",
   "metadata": {},
   "outputs": [],
   "source": [
    "from sklearn.datasets import make_classification\n",
    "from sklearn.linear_model import LogisticRegression\n",
    "from sklearn.model_selection import train_test_split\n",
    "X,y=make_classification(n_samples=1000,n_features=10,n_informative=5,n_redundant=5,n_classes=2,random_state=2)\n",
    "X_train, X_test,y_train,y_test=train_test_split(X,y, test_size=0.2,random_state=10)"
   ]
  },
  {
   "cell_type": "code",
   "execution_count": 3,
   "id": "fb4a5404-692c-44b5-97f4-b4ea02ade067",
   "metadata": {},
   "outputs": [
    {
     "data": {
      "text/html": [
       "<style>#sk-container-id-1 {color: black;background-color: white;}#sk-container-id-1 pre{padding: 0;}#sk-container-id-1 div.sk-toggleable {background-color: white;}#sk-container-id-1 label.sk-toggleable__label {cursor: pointer;display: block;width: 100%;margin-bottom: 0;padding: 0.3em;box-sizing: border-box;text-align: center;}#sk-container-id-1 label.sk-toggleable__label-arrow:before {content: \"▸\";float: left;margin-right: 0.25em;color: #696969;}#sk-container-id-1 label.sk-toggleable__label-arrow:hover:before {color: black;}#sk-container-id-1 div.sk-estimator:hover label.sk-toggleable__label-arrow:before {color: black;}#sk-container-id-1 div.sk-toggleable__content {max-height: 0;max-width: 0;overflow: hidden;text-align: left;background-color: #f0f8ff;}#sk-container-id-1 div.sk-toggleable__content pre {margin: 0.2em;color: black;border-radius: 0.25em;background-color: #f0f8ff;}#sk-container-id-1 input.sk-toggleable__control:checked~div.sk-toggleable__content {max-height: 200px;max-width: 100%;overflow: auto;}#sk-container-id-1 input.sk-toggleable__control:checked~label.sk-toggleable__label-arrow:before {content: \"▾\";}#sk-container-id-1 div.sk-estimator input.sk-toggleable__control:checked~label.sk-toggleable__label {background-color: #d4ebff;}#sk-container-id-1 div.sk-label input.sk-toggleable__control:checked~label.sk-toggleable__label {background-color: #d4ebff;}#sk-container-id-1 input.sk-hidden--visually {border: 0;clip: rect(1px 1px 1px 1px);clip: rect(1px, 1px, 1px, 1px);height: 1px;margin: -1px;overflow: hidden;padding: 0;position: absolute;width: 1px;}#sk-container-id-1 div.sk-estimator {font-family: monospace;background-color: #f0f8ff;border: 1px dotted black;border-radius: 0.25em;box-sizing: border-box;margin-bottom: 0.5em;}#sk-container-id-1 div.sk-estimator:hover {background-color: #d4ebff;}#sk-container-id-1 div.sk-parallel-item::after {content: \"\";width: 100%;border-bottom: 1px solid gray;flex-grow: 1;}#sk-container-id-1 div.sk-label:hover label.sk-toggleable__label {background-color: #d4ebff;}#sk-container-id-1 div.sk-serial::before {content: \"\";position: absolute;border-left: 1px solid gray;box-sizing: border-box;top: 0;bottom: 0;left: 50%;z-index: 0;}#sk-container-id-1 div.sk-serial {display: flex;flex-direction: column;align-items: center;background-color: white;padding-right: 0.2em;padding-left: 0.2em;position: relative;}#sk-container-id-1 div.sk-item {position: relative;z-index: 1;}#sk-container-id-1 div.sk-parallel {display: flex;align-items: stretch;justify-content: center;background-color: white;position: relative;}#sk-container-id-1 div.sk-item::before, #sk-container-id-1 div.sk-parallel-item::before {content: \"\";position: absolute;border-left: 1px solid gray;box-sizing: border-box;top: 0;bottom: 0;left: 50%;z-index: -1;}#sk-container-id-1 div.sk-parallel-item {display: flex;flex-direction: column;z-index: 1;position: relative;background-color: white;}#sk-container-id-1 div.sk-parallel-item:first-child::after {align-self: flex-end;width: 50%;}#sk-container-id-1 div.sk-parallel-item:last-child::after {align-self: flex-start;width: 50%;}#sk-container-id-1 div.sk-parallel-item:only-child::after {width: 0;}#sk-container-id-1 div.sk-dashed-wrapped {border: 1px dashed gray;margin: 0 0.4em 0.5em 0.4em;box-sizing: border-box;padding-bottom: 0.4em;background-color: white;}#sk-container-id-1 div.sk-label label {font-family: monospace;font-weight: bold;display: inline-block;line-height: 1.2em;}#sk-container-id-1 div.sk-label-container {text-align: center;}#sk-container-id-1 div.sk-container {/* jupyter's `normalize.less` sets `[hidden] { display: none; }` but bootstrap.min.css set `[hidden] { display: none !important; }` so we also need the `!important` here to be able to override the default hidden behavior on the sphinx rendered scikit-learn.org. See: https://github.com/scikit-learn/scikit-learn/issues/21755 */display: inline-block !important;position: relative;}#sk-container-id-1 div.sk-text-repr-fallback {display: none;}</style><div id=\"sk-container-id-1\" class=\"sk-top-container\"><div class=\"sk-text-repr-fallback\"><pre>LogisticRegression()</pre><b>In a Jupyter environment, please rerun this cell to show the HTML representation or trust the notebook. <br />On GitHub, the HTML representation is unable to render, please try loading this page with nbviewer.org.</b></div><div class=\"sk-container\" hidden><div class=\"sk-item\"><div class=\"sk-estimator sk-toggleable\"><input class=\"sk-toggleable__control sk-hidden--visually\" id=\"sk-estimator-id-1\" type=\"checkbox\" checked><label for=\"sk-estimator-id-1\" class=\"sk-toggleable__label sk-toggleable__label-arrow\">LogisticRegression</label><div class=\"sk-toggleable__content\"><pre>LogisticRegression()</pre></div></div></div></div></div>"
      ],
      "text/plain": [
       "LogisticRegression()"
      ]
     },
     "execution_count": 3,
     "metadata": {},
     "output_type": "execute_result"
    }
   ],
   "source": [
    "LogisticRegression()"
   ]
  },
  {
   "cell_type": "code",
   "execution_count": 2,
   "id": "0749801c-91ec-4ea8-9f48-453528c8647d",
   "metadata": {},
   "outputs": [],
   "source": [
    "from sklearn.model_selection import GridSearchCV"
   ]
  },
  {
   "cell_type": "code",
   "execution_count": 5,
   "id": "d33e55d4-5496-4708-bbe8-f53c52f02ed7",
   "metadata": {},
   "outputs": [],
   "source": [
    "import warnings\n",
    "warnings.filterwarnings('ignore')"
   ]
  },
  {
   "cell_type": "code",
   "execution_count": 6,
   "id": "84a07c7d-63dc-4868-9450-84055441aff8",
   "metadata": {},
   "outputs": [],
   "source": [
    "parameters={'penalty':('l1','l2','elasticnet'),'C':[1,20,30,40]}"
   ]
  },
  {
   "cell_type": "code",
   "execution_count": 7,
   "id": "33f14c3c-505b-47c7-9ce0-d8c8af95345a",
   "metadata": {},
   "outputs": [],
   "source": [
    "classifier=LogisticRegression()"
   ]
  },
  {
   "cell_type": "code",
   "execution_count": 8,
   "id": "7eace6da-4752-45b7-ac49-d83b1cd44e4e",
   "metadata": {},
   "outputs": [],
   "source": [
    "clf=GridSearchCV(classifier,param_grid=parameters,cv=5)"
   ]
  },
  {
   "cell_type": "code",
   "execution_count": 9,
   "id": "318a8f65-1c7f-4e71-acd8-ed7192267834",
   "metadata": {},
   "outputs": [
    {
     "data": {
      "text/html": [
       "<style>#sk-container-id-2 {color: black;background-color: white;}#sk-container-id-2 pre{padding: 0;}#sk-container-id-2 div.sk-toggleable {background-color: white;}#sk-container-id-2 label.sk-toggleable__label {cursor: pointer;display: block;width: 100%;margin-bottom: 0;padding: 0.3em;box-sizing: border-box;text-align: center;}#sk-container-id-2 label.sk-toggleable__label-arrow:before {content: \"▸\";float: left;margin-right: 0.25em;color: #696969;}#sk-container-id-2 label.sk-toggleable__label-arrow:hover:before {color: black;}#sk-container-id-2 div.sk-estimator:hover label.sk-toggleable__label-arrow:before {color: black;}#sk-container-id-2 div.sk-toggleable__content {max-height: 0;max-width: 0;overflow: hidden;text-align: left;background-color: #f0f8ff;}#sk-container-id-2 div.sk-toggleable__content pre {margin: 0.2em;color: black;border-radius: 0.25em;background-color: #f0f8ff;}#sk-container-id-2 input.sk-toggleable__control:checked~div.sk-toggleable__content {max-height: 200px;max-width: 100%;overflow: auto;}#sk-container-id-2 input.sk-toggleable__control:checked~label.sk-toggleable__label-arrow:before {content: \"▾\";}#sk-container-id-2 div.sk-estimator input.sk-toggleable__control:checked~label.sk-toggleable__label {background-color: #d4ebff;}#sk-container-id-2 div.sk-label input.sk-toggleable__control:checked~label.sk-toggleable__label {background-color: #d4ebff;}#sk-container-id-2 input.sk-hidden--visually {border: 0;clip: rect(1px 1px 1px 1px);clip: rect(1px, 1px, 1px, 1px);height: 1px;margin: -1px;overflow: hidden;padding: 0;position: absolute;width: 1px;}#sk-container-id-2 div.sk-estimator {font-family: monospace;background-color: #f0f8ff;border: 1px dotted black;border-radius: 0.25em;box-sizing: border-box;margin-bottom: 0.5em;}#sk-container-id-2 div.sk-estimator:hover {background-color: #d4ebff;}#sk-container-id-2 div.sk-parallel-item::after {content: \"\";width: 100%;border-bottom: 1px solid gray;flex-grow: 1;}#sk-container-id-2 div.sk-label:hover label.sk-toggleable__label {background-color: #d4ebff;}#sk-container-id-2 div.sk-serial::before {content: \"\";position: absolute;border-left: 1px solid gray;box-sizing: border-box;top: 0;bottom: 0;left: 50%;z-index: 0;}#sk-container-id-2 div.sk-serial {display: flex;flex-direction: column;align-items: center;background-color: white;padding-right: 0.2em;padding-left: 0.2em;position: relative;}#sk-container-id-2 div.sk-item {position: relative;z-index: 1;}#sk-container-id-2 div.sk-parallel {display: flex;align-items: stretch;justify-content: center;background-color: white;position: relative;}#sk-container-id-2 div.sk-item::before, #sk-container-id-2 div.sk-parallel-item::before {content: \"\";position: absolute;border-left: 1px solid gray;box-sizing: border-box;top: 0;bottom: 0;left: 50%;z-index: -1;}#sk-container-id-2 div.sk-parallel-item {display: flex;flex-direction: column;z-index: 1;position: relative;background-color: white;}#sk-container-id-2 div.sk-parallel-item:first-child::after {align-self: flex-end;width: 50%;}#sk-container-id-2 div.sk-parallel-item:last-child::after {align-self: flex-start;width: 50%;}#sk-container-id-2 div.sk-parallel-item:only-child::after {width: 0;}#sk-container-id-2 div.sk-dashed-wrapped {border: 1px dashed gray;margin: 0 0.4em 0.5em 0.4em;box-sizing: border-box;padding-bottom: 0.4em;background-color: white;}#sk-container-id-2 div.sk-label label {font-family: monospace;font-weight: bold;display: inline-block;line-height: 1.2em;}#sk-container-id-2 div.sk-label-container {text-align: center;}#sk-container-id-2 div.sk-container {/* jupyter's `normalize.less` sets `[hidden] { display: none; }` but bootstrap.min.css set `[hidden] { display: none !important; }` so we also need the `!important` here to be able to override the default hidden behavior on the sphinx rendered scikit-learn.org. See: https://github.com/scikit-learn/scikit-learn/issues/21755 */display: inline-block !important;position: relative;}#sk-container-id-2 div.sk-text-repr-fallback {display: none;}</style><div id=\"sk-container-id-2\" class=\"sk-top-container\"><div class=\"sk-text-repr-fallback\"><pre>GridSearchCV(cv=5, estimator=LogisticRegression(),\n",
       "             param_grid={&#x27;C&#x27;: [1, 20, 30, 40],\n",
       "                         &#x27;penalty&#x27;: (&#x27;l1&#x27;, &#x27;l2&#x27;, &#x27;elasticnet&#x27;)})</pre><b>In a Jupyter environment, please rerun this cell to show the HTML representation or trust the notebook. <br />On GitHub, the HTML representation is unable to render, please try loading this page with nbviewer.org.</b></div><div class=\"sk-container\" hidden><div class=\"sk-item sk-dashed-wrapped\"><div class=\"sk-label-container\"><div class=\"sk-label sk-toggleable\"><input class=\"sk-toggleable__control sk-hidden--visually\" id=\"sk-estimator-id-2\" type=\"checkbox\" ><label for=\"sk-estimator-id-2\" class=\"sk-toggleable__label sk-toggleable__label-arrow\">GridSearchCV</label><div class=\"sk-toggleable__content\"><pre>GridSearchCV(cv=5, estimator=LogisticRegression(),\n",
       "             param_grid={&#x27;C&#x27;: [1, 20, 30, 40],\n",
       "                         &#x27;penalty&#x27;: (&#x27;l1&#x27;, &#x27;l2&#x27;, &#x27;elasticnet&#x27;)})</pre></div></div></div><div class=\"sk-parallel\"><div class=\"sk-parallel-item\"><div class=\"sk-item\"><div class=\"sk-label-container\"><div class=\"sk-label sk-toggleable\"><input class=\"sk-toggleable__control sk-hidden--visually\" id=\"sk-estimator-id-3\" type=\"checkbox\" ><label for=\"sk-estimator-id-3\" class=\"sk-toggleable__label sk-toggleable__label-arrow\">estimator: LogisticRegression</label><div class=\"sk-toggleable__content\"><pre>LogisticRegression()</pre></div></div></div><div class=\"sk-serial\"><div class=\"sk-item\"><div class=\"sk-estimator sk-toggleable\"><input class=\"sk-toggleable__control sk-hidden--visually\" id=\"sk-estimator-id-4\" type=\"checkbox\" ><label for=\"sk-estimator-id-4\" class=\"sk-toggleable__label sk-toggleable__label-arrow\">LogisticRegression</label><div class=\"sk-toggleable__content\"><pre>LogisticRegression()</pre></div></div></div></div></div></div></div></div></div></div>"
      ],
      "text/plain": [
       "GridSearchCV(cv=5, estimator=LogisticRegression(),\n",
       "             param_grid={'C': [1, 20, 30, 40],\n",
       "                         'penalty': ('l1', 'l2', 'elasticnet')})"
      ]
     },
     "execution_count": 9,
     "metadata": {},
     "output_type": "execute_result"
    }
   ],
   "source": [
    "clf.fit(X_train,y_train)"
   ]
  },
  {
   "cell_type": "code",
   "execution_count": 10,
   "id": "be108b33-ae48-4288-989f-61027d59ece0",
   "metadata": {},
   "outputs": [
    {
     "data": {
      "text/plain": [
       "{'C': 20, 'penalty': 'l2'}"
      ]
     },
     "execution_count": 10,
     "metadata": {},
     "output_type": "execute_result"
    }
   ],
   "source": [
    "clf.best_params_"
   ]
  },
  {
   "cell_type": "code",
   "execution_count": 11,
   "id": "4eea9433-5df4-4168-95aa-5b335fb467d3",
   "metadata": {},
   "outputs": [
    {
     "data": {
      "text/plain": [
       "0.9037500000000002"
      ]
     },
     "execution_count": 11,
     "metadata": {},
     "output_type": "execute_result"
    }
   ],
   "source": [
    "clf.best_score_"
   ]
  },
  {
   "cell_type": "code",
   "execution_count": 14,
   "id": "0f8aea4a-9a5c-461a-a444-8b4b3365caec",
   "metadata": {},
   "outputs": [],
   "source": [
    "classifier=LogisticRegression(penalty='l2',C=20)"
   ]
  },
  {
   "cell_type": "code",
   "execution_count": 16,
   "id": "0bad9b5c-3818-46bb-b221-48859aee1065",
   "metadata": {},
   "outputs": [
    {
     "data": {
      "text/html": [
       "<style>#sk-container-id-3 {color: black;background-color: white;}#sk-container-id-3 pre{padding: 0;}#sk-container-id-3 div.sk-toggleable {background-color: white;}#sk-container-id-3 label.sk-toggleable__label {cursor: pointer;display: block;width: 100%;margin-bottom: 0;padding: 0.3em;box-sizing: border-box;text-align: center;}#sk-container-id-3 label.sk-toggleable__label-arrow:before {content: \"▸\";float: left;margin-right: 0.25em;color: #696969;}#sk-container-id-3 label.sk-toggleable__label-arrow:hover:before {color: black;}#sk-container-id-3 div.sk-estimator:hover label.sk-toggleable__label-arrow:before {color: black;}#sk-container-id-3 div.sk-toggleable__content {max-height: 0;max-width: 0;overflow: hidden;text-align: left;background-color: #f0f8ff;}#sk-container-id-3 div.sk-toggleable__content pre {margin: 0.2em;color: black;border-radius: 0.25em;background-color: #f0f8ff;}#sk-container-id-3 input.sk-toggleable__control:checked~div.sk-toggleable__content {max-height: 200px;max-width: 100%;overflow: auto;}#sk-container-id-3 input.sk-toggleable__control:checked~label.sk-toggleable__label-arrow:before {content: \"▾\";}#sk-container-id-3 div.sk-estimator input.sk-toggleable__control:checked~label.sk-toggleable__label {background-color: #d4ebff;}#sk-container-id-3 div.sk-label input.sk-toggleable__control:checked~label.sk-toggleable__label {background-color: #d4ebff;}#sk-container-id-3 input.sk-hidden--visually {border: 0;clip: rect(1px 1px 1px 1px);clip: rect(1px, 1px, 1px, 1px);height: 1px;margin: -1px;overflow: hidden;padding: 0;position: absolute;width: 1px;}#sk-container-id-3 div.sk-estimator {font-family: monospace;background-color: #f0f8ff;border: 1px dotted black;border-radius: 0.25em;box-sizing: border-box;margin-bottom: 0.5em;}#sk-container-id-3 div.sk-estimator:hover {background-color: #d4ebff;}#sk-container-id-3 div.sk-parallel-item::after {content: \"\";width: 100%;border-bottom: 1px solid gray;flex-grow: 1;}#sk-container-id-3 div.sk-label:hover label.sk-toggleable__label {background-color: #d4ebff;}#sk-container-id-3 div.sk-serial::before {content: \"\";position: absolute;border-left: 1px solid gray;box-sizing: border-box;top: 0;bottom: 0;left: 50%;z-index: 0;}#sk-container-id-3 div.sk-serial {display: flex;flex-direction: column;align-items: center;background-color: white;padding-right: 0.2em;padding-left: 0.2em;position: relative;}#sk-container-id-3 div.sk-item {position: relative;z-index: 1;}#sk-container-id-3 div.sk-parallel {display: flex;align-items: stretch;justify-content: center;background-color: white;position: relative;}#sk-container-id-3 div.sk-item::before, #sk-container-id-3 div.sk-parallel-item::before {content: \"\";position: absolute;border-left: 1px solid gray;box-sizing: border-box;top: 0;bottom: 0;left: 50%;z-index: -1;}#sk-container-id-3 div.sk-parallel-item {display: flex;flex-direction: column;z-index: 1;position: relative;background-color: white;}#sk-container-id-3 div.sk-parallel-item:first-child::after {align-self: flex-end;width: 50%;}#sk-container-id-3 div.sk-parallel-item:last-child::after {align-self: flex-start;width: 50%;}#sk-container-id-3 div.sk-parallel-item:only-child::after {width: 0;}#sk-container-id-3 div.sk-dashed-wrapped {border: 1px dashed gray;margin: 0 0.4em 0.5em 0.4em;box-sizing: border-box;padding-bottom: 0.4em;background-color: white;}#sk-container-id-3 div.sk-label label {font-family: monospace;font-weight: bold;display: inline-block;line-height: 1.2em;}#sk-container-id-3 div.sk-label-container {text-align: center;}#sk-container-id-3 div.sk-container {/* jupyter's `normalize.less` sets `[hidden] { display: none; }` but bootstrap.min.css set `[hidden] { display: none !important; }` so we also need the `!important` here to be able to override the default hidden behavior on the sphinx rendered scikit-learn.org. See: https://github.com/scikit-learn/scikit-learn/issues/21755 */display: inline-block !important;position: relative;}#sk-container-id-3 div.sk-text-repr-fallback {display: none;}</style><div id=\"sk-container-id-3\" class=\"sk-top-container\"><div class=\"sk-text-repr-fallback\"><pre>LogisticRegression(C=20)</pre><b>In a Jupyter environment, please rerun this cell to show the HTML representation or trust the notebook. <br />On GitHub, the HTML representation is unable to render, please try loading this page with nbviewer.org.</b></div><div class=\"sk-container\" hidden><div class=\"sk-item\"><div class=\"sk-estimator sk-toggleable\"><input class=\"sk-toggleable__control sk-hidden--visually\" id=\"sk-estimator-id-5\" type=\"checkbox\" checked><label for=\"sk-estimator-id-5\" class=\"sk-toggleable__label sk-toggleable__label-arrow\">LogisticRegression</label><div class=\"sk-toggleable__content\"><pre>LogisticRegression(C=20)</pre></div></div></div></div></div>"
      ],
      "text/plain": [
       "LogisticRegression(C=20)"
      ]
     },
     "execution_count": 16,
     "metadata": {},
     "output_type": "execute_result"
    }
   ],
   "source": [
    "classifier.fit(X_train,y_train)"
   ]
  },
  {
   "cell_type": "code",
   "execution_count": 17,
   "id": "06cc8966-2045-4973-95d8-bb536b6e97ec",
   "metadata": {},
   "outputs": [],
   "source": [
    "y_pred=classifier.predict(X_test)"
   ]
  },
  {
   "cell_type": "code",
   "execution_count": 18,
   "id": "45d0378a-8ac4-4370-ba05-cbfbb256c924",
   "metadata": {},
   "outputs": [
    {
     "data": {
      "text/plain": [
       "array([0, 0, 0, 1, 0, 1, 0, 1, 1, 0, 1, 1, 1, 1, 1, 1, 1, 0, 0, 1, 1, 1,\n",
       "       1, 1, 1, 0, 1, 0, 1, 1, 0, 1, 1, 1, 0, 1, 0, 0, 1, 1, 1, 1, 0, 0,\n",
       "       1, 1, 0, 1, 0, 0, 0, 0, 0, 0, 0, 0, 1, 0, 0, 1, 1, 1, 1, 1, 1, 0,\n",
       "       0, 1, 1, 1, 1, 1, 1, 1, 0, 1, 0, 1, 1, 0, 0, 1, 1, 1, 0, 1, 1, 0,\n",
       "       1, 0, 1, 1, 0, 1, 0, 1, 0, 0, 1, 0, 0, 0, 1, 0, 1, 1, 1, 0, 0, 1,\n",
       "       1, 1, 1, 1, 1, 0, 1, 0, 1, 0, 0, 0, 0, 0, 1, 1, 1, 0, 1, 1, 1, 1,\n",
       "       1, 0, 0, 0, 1, 0, 0, 0, 1, 0, 0, 0, 0, 0, 1, 1, 1, 0, 1, 0, 0, 1,\n",
       "       0, 0, 1, 0, 0, 0, 1, 0, 1, 1, 1, 1, 0, 1, 1, 0, 0, 1, 1, 1, 1, 0,\n",
       "       0, 0, 1, 1, 0, 1, 0, 1, 0, 1, 0, 1, 1, 1, 1, 0, 0, 0, 1, 0, 1, 1,\n",
       "       0, 1])"
      ]
     },
     "execution_count": 18,
     "metadata": {},
     "output_type": "execute_result"
    }
   ],
   "source": [
    "y_pred"
   ]
  },
  {
   "cell_type": "code",
   "execution_count": 21,
   "id": "15cdfafe-8910-4462-94b2-b7ceb81cb27b",
   "metadata": {},
   "outputs": [
    {
     "data": {
      "text/plain": [
       "array([[6.52748740e-01, 3.47251260e-01],\n",
       "       [9.75856880e-01, 2.41431199e-02],\n",
       "       [9.89769505e-01, 1.02304950e-02],\n",
       "       [1.16354947e-01, 8.83645053e-01],\n",
       "       [8.94488005e-01, 1.05511995e-01],\n",
       "       [5.46928983e-04, 9.99453071e-01],\n",
       "       [9.99884566e-01, 1.15433971e-04],\n",
       "       [2.82679469e-02, 9.71732053e-01],\n",
       "       [1.51005273e-01, 8.48994727e-01],\n",
       "       [9.94514599e-01, 5.48540122e-03],\n",
       "       [1.18679319e-03, 9.98813207e-01],\n",
       "       [1.97709327e-01, 8.02290673e-01],\n",
       "       [1.32149011e-01, 8.67850989e-01],\n",
       "       [3.18753954e-02, 9.68124605e-01],\n",
       "       [2.19210220e-02, 9.78078978e-01],\n",
       "       [2.63887193e-01, 7.36112807e-01],\n",
       "       [9.42004348e-02, 9.05799565e-01],\n",
       "       [6.93119062e-01, 3.06880938e-01],\n",
       "       [9.96959327e-01, 3.04067330e-03],\n",
       "       [2.04299705e-01, 7.95700295e-01],\n",
       "       [2.71641625e-01, 7.28358375e-01],\n",
       "       [3.95179186e-02, 9.60482081e-01],\n",
       "       [1.05308626e-01, 8.94691374e-01],\n",
       "       [1.80757520e-02, 9.81924248e-01],\n",
       "       [2.71103124e-01, 7.28896876e-01],\n",
       "       [5.38455997e-01, 4.61544003e-01],\n",
       "       [2.78775343e-01, 7.21224657e-01],\n",
       "       [9.91289992e-01, 8.71000770e-03],\n",
       "       [4.74387154e-03, 9.95256128e-01],\n",
       "       [3.29640777e-02, 9.67035922e-01],\n",
       "       [9.26709926e-01, 7.32900742e-02],\n",
       "       [1.31595434e-02, 9.86840457e-01],\n",
       "       [3.84477072e-03, 9.96155229e-01],\n",
       "       [8.62841104e-02, 9.13715890e-01],\n",
       "       [6.66233878e-01, 3.33766122e-01],\n",
       "       [3.56449588e-02, 9.64355041e-01],\n",
       "       [9.24489657e-01, 7.55103431e-02],\n",
       "       [9.85133788e-01, 1.48662124e-02],\n",
       "       [5.05891367e-02, 9.49410863e-01],\n",
       "       [9.56505285e-02, 9.04349472e-01],\n",
       "       [3.11054911e-01, 6.88945089e-01],\n",
       "       [1.05795063e-02, 9.89420494e-01],\n",
       "       [9.99541860e-01, 4.58140417e-04],\n",
       "       [9.69712422e-01, 3.02875779e-02],\n",
       "       [3.85993815e-01, 6.14006185e-01],\n",
       "       [1.41609839e-01, 8.58390161e-01],\n",
       "       [9.99045583e-01, 9.54416672e-04],\n",
       "       [1.00563715e-01, 8.99436285e-01],\n",
       "       [8.73758246e-01, 1.26241754e-01],\n",
       "       [8.17262061e-01, 1.82737939e-01],\n",
       "       [9.99879568e-01, 1.20431967e-04],\n",
       "       [9.69778797e-01, 3.02212031e-02],\n",
       "       [6.00858920e-01, 3.99141080e-01],\n",
       "       [9.99843383e-01, 1.56616962e-04],\n",
       "       [9.97147327e-01, 2.85267309e-03],\n",
       "       [7.99887337e-01, 2.00112663e-01],\n",
       "       [5.37219870e-02, 9.46278013e-01],\n",
       "       [9.99477841e-01, 5.22158918e-04],\n",
       "       [9.99963710e-01, 3.62903603e-05],\n",
       "       [1.19909385e-02, 9.88009062e-01],\n",
       "       [1.06059717e-01, 8.93940283e-01],\n",
       "       [2.35257999e-02, 9.76474200e-01],\n",
       "       [3.43430717e-01, 6.56569283e-01],\n",
       "       [2.34587968e-05, 9.99976541e-01],\n",
       "       [1.71883614e-01, 8.28116386e-01],\n",
       "       [9.93464155e-01, 6.53584535e-03],\n",
       "       [9.90086808e-01, 9.91319215e-03],\n",
       "       [3.07360562e-01, 6.92639438e-01],\n",
       "       [1.18981046e-01, 8.81018954e-01],\n",
       "       [2.63290534e-01, 7.36709466e-01],\n",
       "       [8.10948782e-03, 9.91890512e-01],\n",
       "       [1.38349226e-01, 8.61650774e-01],\n",
       "       [9.99842537e-04, 9.99000157e-01],\n",
       "       [2.41156093e-02, 9.75884391e-01],\n",
       "       [9.99849561e-01, 1.50438785e-04],\n",
       "       [2.97091932e-02, 9.70290807e-01],\n",
       "       [8.72151005e-01, 1.27848995e-01],\n",
       "       [3.79048218e-02, 9.62095178e-01],\n",
       "       [4.07046209e-02, 9.59295379e-01],\n",
       "       [9.99217162e-01, 7.82838450e-04],\n",
       "       [9.99566707e-01, 4.33292790e-04],\n",
       "       [1.68335264e-01, 8.31664736e-01],\n",
       "       [7.98415567e-02, 9.20158443e-01],\n",
       "       [6.84148233e-02, 9.31585177e-01],\n",
       "       [9.99849501e-01, 1.50499185e-04],\n",
       "       [7.21273616e-02, 9.27872638e-01],\n",
       "       [2.21887860e-02, 9.77811214e-01],\n",
       "       [9.90704246e-01, 9.29575363e-03],\n",
       "       [1.95080485e-01, 8.04919515e-01],\n",
       "       [9.28761234e-01, 7.12387658e-02],\n",
       "       [3.30008193e-01, 6.69991807e-01],\n",
       "       [3.81871935e-02, 9.61812807e-01],\n",
       "       [9.45428565e-01, 5.45714352e-02],\n",
       "       [1.32007681e-01, 8.67992319e-01],\n",
       "       [6.20549838e-01, 3.79450162e-01],\n",
       "       [5.42695398e-02, 9.45730460e-01],\n",
       "       [9.85565530e-01, 1.44344697e-02],\n",
       "       [7.21913009e-01, 2.78086991e-01],\n",
       "       [8.07815677e-02, 9.19218432e-01],\n",
       "       [9.87320632e-01, 1.26793681e-02],\n",
       "       [7.61223343e-01, 2.38776657e-01],\n",
       "       [5.33730535e-01, 4.66269465e-01],\n",
       "       [6.29468539e-02, 9.37053146e-01],\n",
       "       [9.95587665e-01, 4.41233481e-03],\n",
       "       [4.73308877e-01, 5.26691123e-01],\n",
       "       [3.97157994e-02, 9.60284201e-01],\n",
       "       [3.36369425e-01, 6.63630575e-01],\n",
       "       [9.61803020e-01, 3.81969804e-02],\n",
       "       [9.99650738e-01, 3.49261557e-04],\n",
       "       [1.49087084e-01, 8.50912916e-01],\n",
       "       [8.98012564e-02, 9.10198744e-01],\n",
       "       [2.12747087e-01, 7.87252913e-01],\n",
       "       [1.99074879e-02, 9.80092512e-01],\n",
       "       [4.42225648e-02, 9.55777435e-01],\n",
       "       [1.00348800e-01, 8.99651200e-01],\n",
       "       [9.88095893e-01, 1.19041067e-02],\n",
       "       [4.65257252e-02, 9.53474275e-01],\n",
       "       [6.38622597e-01, 3.61377403e-01],\n",
       "       [2.78094551e-02, 9.72190545e-01],\n",
       "       [9.00727674e-01, 9.92723257e-02],\n",
       "       [8.11706900e-01, 1.88293100e-01],\n",
       "       [9.25100530e-01, 7.48994695e-02],\n",
       "       [9.91311581e-01, 8.68841949e-03],\n",
       "       [6.61354452e-01, 3.38645548e-01],\n",
       "       [3.35328937e-01, 6.64671063e-01],\n",
       "       [6.27735862e-04, 9.99372264e-01],\n",
       "       [1.79782414e-01, 8.20217586e-01],\n",
       "       [9.90841280e-01, 9.15872021e-03],\n",
       "       [1.06090319e-01, 8.93909681e-01],\n",
       "       [7.70525256e-02, 9.22947474e-01],\n",
       "       [2.13676814e-01, 7.86323186e-01],\n",
       "       [5.22862776e-02, 9.47713722e-01],\n",
       "       [3.59751825e-02, 9.64024818e-01],\n",
       "       [9.91216900e-01, 8.78309983e-03],\n",
       "       [9.79814235e-01, 2.01857651e-02],\n",
       "       [9.99785856e-01, 2.14144167e-04],\n",
       "       [3.99503483e-01, 6.00496517e-01],\n",
       "       [9.75687284e-01, 2.43127161e-02],\n",
       "       [9.71783454e-01, 2.82165458e-02],\n",
       "       [9.98613896e-01, 1.38610402e-03],\n",
       "       [8.46087667e-03, 9.91539123e-01],\n",
       "       [9.97706696e-01, 2.29330384e-03],\n",
       "       [9.56230538e-01, 4.37694620e-02],\n",
       "       [5.92277910e-01, 4.07722090e-01],\n",
       "       [9.93343959e-01, 6.65604119e-03],\n",
       "       [9.94648073e-01, 5.35192734e-03],\n",
       "       [1.38309344e-02, 9.86169066e-01],\n",
       "       [5.08987123e-02, 9.49101288e-01],\n",
       "       [3.07485641e-03, 9.96925144e-01],\n",
       "       [7.06634564e-01, 2.93365436e-01],\n",
       "       [4.09839759e-03, 9.95901602e-01],\n",
       "       [9.84161058e-01, 1.58389423e-02],\n",
       "       [9.99084961e-01, 9.15038922e-04],\n",
       "       [2.79153687e-01, 7.20846313e-01],\n",
       "       [9.99819882e-01, 1.80118312e-04],\n",
       "       [9.93051180e-01, 6.94882030e-03],\n",
       "       [6.36237346e-02, 9.36376265e-01],\n",
       "       [9.99985816e-01, 1.41838470e-05],\n",
       "       [5.83840081e-01, 4.16159919e-01],\n",
       "       [9.47666187e-01, 5.23338132e-02],\n",
       "       [5.92544684e-02, 9.40745532e-01],\n",
       "       [6.76057497e-01, 3.23942503e-01],\n",
       "       [3.65437791e-01, 6.34562209e-01],\n",
       "       [9.61128908e-02, 9.03887109e-01],\n",
       "       [1.89093098e-01, 8.10906902e-01],\n",
       "       [5.41304022e-02, 9.45869598e-01],\n",
       "       [9.92867132e-01, 7.13286763e-03],\n",
       "       [4.84012502e-01, 5.15987498e-01],\n",
       "       [2.05855458e-01, 7.94144542e-01],\n",
       "       [9.99754688e-01, 2.45312087e-04],\n",
       "       [9.98536617e-01, 1.46338349e-03],\n",
       "       [8.26023727e-02, 9.17397627e-01],\n",
       "       [4.34795105e-02, 9.56520490e-01],\n",
       "       [2.10058699e-01, 7.89941301e-01],\n",
       "       [5.29785630e-04, 9.99470214e-01],\n",
       "       [9.99799319e-01, 2.00681157e-04],\n",
       "       [9.99885670e-01, 1.14330429e-04],\n",
       "       [9.97355788e-01, 2.64421211e-03],\n",
       "       [4.39692557e-02, 9.56030744e-01],\n",
       "       [6.96333467e-02, 9.30366653e-01],\n",
       "       [8.95399207e-01, 1.04600793e-01],\n",
       "       [8.96118954e-02, 9.10388105e-01],\n",
       "       [9.27252601e-01, 7.27473990e-02],\n",
       "       [1.02955234e-01, 8.97044766e-01],\n",
       "       [5.42369464e-01, 4.57630536e-01],\n",
       "       [4.59160708e-02, 9.54083929e-01],\n",
       "       [9.99821461e-01, 1.78539175e-04],\n",
       "       [2.31261158e-02, 9.76873884e-01],\n",
       "       [2.17802316e-02, 9.78219768e-01],\n",
       "       [1.90728118e-01, 8.09271882e-01],\n",
       "       [4.89074315e-01, 5.10925685e-01],\n",
       "       [9.99221629e-01, 7.78370937e-04],\n",
       "       [9.82747447e-01, 1.72525534e-02],\n",
       "       [9.86427369e-01, 1.35726306e-02],\n",
       "       [1.66692664e-02, 9.83330734e-01],\n",
       "       [9.87888135e-01, 1.21118647e-02],\n",
       "       [4.30635231e-02, 9.56936477e-01],\n",
       "       [5.98510039e-03, 9.94014900e-01],\n",
       "       [9.99982990e-01, 1.70096513e-05],\n",
       "       [3.35868496e-01, 6.64131504e-01]])"
      ]
     },
     "execution_count": 21,
     "metadata": {},
     "output_type": "execute_result"
    }
   ],
   "source": [
    "classifier.predict_proba(X_test)"
   ]
  },
  {
   "cell_type": "code",
   "execution_count": 22,
   "id": "1e91b226-086b-4dc5-bf9c-a57854156ebe",
   "metadata": {},
   "outputs": [],
   "source": [
    "from sklearn.metrics import confusion_matrix,accuracy_score,classification_report"
   ]
  },
  {
   "cell_type": "code",
   "execution_count": 23,
   "id": "98917826-411a-48e8-a4cb-2c8333ad21b8",
   "metadata": {},
   "outputs": [
    {
     "name": "stdout",
     "output_type": "stream",
     "text": [
      "[[82 15]\n",
      " [ 7 96]]\n",
      "              precision    recall  f1-score   support\n",
      "\n",
      "           0       0.92      0.85      0.88        97\n",
      "           1       0.86      0.93      0.90       103\n",
      "\n",
      "    accuracy                           0.89       200\n",
      "   macro avg       0.89      0.89      0.89       200\n",
      "weighted avg       0.89      0.89      0.89       200\n",
      "\n",
      "0.89\n"
     ]
    }
   ],
   "source": [
    "print(confusion_matrix(y_test,y_pred))\n",
    "print(classification_report(y_test,y_pred))\n",
    "print(accuracy_score(y_test,y_pred))"
   ]
  },
  {
   "cell_type": "code",
   "execution_count": null,
   "id": "8dfd0099-a912-428b-aa20-7c8132a15980",
   "metadata": {},
   "outputs": [],
   "source": []
  }
 ],
 "metadata": {
  "kernelspec": {
   "display_name": "Python 3 (ipykernel)",
   "language": "python",
   "name": "python3"
  },
  "language_info": {
   "codemirror_mode": {
    "name": "ipython",
    "version": 3
   },
   "file_extension": ".py",
   "mimetype": "text/x-python",
   "name": "python",
   "nbconvert_exporter": "python",
   "pygments_lexer": "ipython3",
   "version": "3.10.8"
  }
 },
 "nbformat": 4,
 "nbformat_minor": 5
}
